{
 "cells": [
  {
   "attachments": {},
   "cell_type": "markdown",
   "id": "7a558d5a-f48f-4fe4-a6a9-b56e329b3864",
   "metadata": {
    "tags": []
   },
   "source": [
    "# CHAPTER 3 - STRINGS"
   ]
  },
  {
   "attachments": {},
   "cell_type": "markdown",
   "id": "ffc7f360-f30e-45f9-84c7-519057721e12",
   "metadata": {
    "jp-MarkdownHeadingCollapsed": true,
    "tags": []
   },
   "source": [
    "## STRINGS BASICS"
   ]
  },
  {
   "attachments": {},
   "cell_type": "markdown",
   "id": "9747e1cd-6072-4989-a693-13a6b04a340a",
   "metadata": {},
   "source": [
    "- In Python, text is represented as a string, which is a **sequence** of characters (letters, digits, and symbols).\n",
    "- In Python, we indicate that a value is a string by putting either single or double quotes around it."
   ]
  },
  {
   "attachments": {},
   "cell_type": "markdown",
   "id": "e4a230cd-0637-40b3-ac48-0b8aeaff6b3e",
   "metadata": {},
   "source": [
    "### Operations on Strings\n",
    "- `len(string)` -- to get length of a string\n",
    "- `+` -- can add strings, but not str and type float or int\n",
    "- `*` -- to repeat a string \n",
    "- `+=` -- add to another string and save value\n",
    "- `int(\"3\")` -- convert str to int\n",
    "- `float(\"3.4\")` -- convert str to float\n",
    "- `str(<input>)` -- convert the input to a string data type. Useful for converting numbers to strings so you can concatenate strings and numbers."
   ]
  },
  {
   "cell_type": "code",
   "execution_count": 1,
   "id": "d8ae017b-f3d8-48eb-8884-8dbefb8d6494",
   "metadata": {},
   "outputs": [
    {
     "name": "stdout",
     "output_type": "stream",
     "text": [
      "Aristotle\n",
      "Issac Newton\n"
     ]
    }
   ],
   "source": [
    "# String notation using single quotes.\n",
    "string1 = 'Aristotle'\n",
    "print(string1)\n",
    "\n",
    "# String notation using double quotes.\n",
    "string2 = \"Issac Newton\"\n",
    "print(string2)"
   ]
  },
  {
   "attachments": {},
   "cell_type": "markdown",
   "id": "61761f6c-f199-409c-bd54-e8628cf47e6d",
   "metadata": {},
   "source": [
    "### String Literals"
   ]
  },
  {
   "attachments": {},
   "cell_type": "markdown",
   "id": "bac3886b-85cc-4ec6-add3-c5673ee734c4",
   "metadata": {},
   "source": [
    "A string literal can be created by writing a text(a group of Characters ) surrounded by a single(”), double(“”), or triple quotes.  By using triple quotes we can write multi-line strings or display them in the desired way. "
   ]
  },
  {
   "cell_type": "code",
   "execution_count": 2,
   "id": "6f2cc9f6-bf45-4009-bc9f-78d874043100",
   "metadata": {},
   "outputs": [
    {
     "name": "stdout",
     "output_type": "stream",
     "text": [
      "\n",
      "This is a string literal. \n",
      "        Spaces are printed as is. \n",
      "  Hello there!\n"
     ]
    }
   ],
   "source": [
    "m = \"\"\"\n",
    "This is a string literal. \n",
    "        Spaces are printed as is. \n",
    "  Hello there!\"\"\"\n",
    "print(m)"
   ]
  },
  {
   "attachments": {},
   "cell_type": "markdown",
   "id": "97160620-20f3-46e5-a02d-f98ca483eb9f",
   "metadata": {},
   "source": [
    "### Printing in Python"
   ]
  },
  {
   "cell_type": "code",
   "execution_count": 3,
   "id": "258f48de-3abe-4324-ac45-2a20e64708c7",
   "metadata": {},
   "outputs": [
    {
     "name": "stdout",
     "output_type": "stream",
     "text": [
      "abbcd 2 3\n",
      "abbcd\n",
      "2\n",
      "3\n"
     ]
    }
   ],
   "source": [
    "print('abbcd', 2, 3)\n",
    "print('abbcd', 2, 3, sep='\\n') # default separator is space"
   ]
  },
  {
   "attachments": {},
   "cell_type": "markdown",
   "id": "97838bbc-27a6-42a2-ac2d-3dac0ddb9ebb",
   "metadata": {},
   "source": [
    "### Concatenating String"
   ]
  },
  {
   "cell_type": "code",
   "execution_count": 4,
   "id": "da19053a-0c02-41b0-a66f-f25581979db6",
   "metadata": {},
   "outputs": [
    {
     "name": "stdout",
     "output_type": "stream",
     "text": [
      "Four score and 7 years ago\n"
     ]
    }
   ],
   "source": [
    "string3 = 'Four score and ' + str(7) + ' years ago'\n",
    "print(string3)"
   ]
  },
  {
   "attachments": {},
   "cell_type": "markdown",
   "id": "6984d21e-b41e-4cf6-8911-518400425f13",
   "metadata": {},
   "source": [
    "### Converting strings to numbers"
   ]
  },
  {
   "cell_type": "code",
   "execution_count": 5,
   "id": "56c3afae-4067-44d6-819e-57fd7ae9a89a",
   "metadata": {},
   "outputs": [
    {
     "name": "stdout",
     "output_type": "stream",
     "text": [
      "0 <class 'int'>\n",
      "11 <class 'int'>\n",
      "-324 <class 'int'>\n",
      "-324.4 <class 'float'>\n"
     ]
    }
   ],
   "source": [
    "print(int('0'), type(int('0')))\n",
    "print(int('11'), type(int('11')))\n",
    "print(int('-324'), type(int('-324')))\n",
    "print(float('-324.40'), type(float('-324.40')))"
   ]
  },
  {
   "attachments": {},
   "cell_type": "markdown",
   "id": "10b161d1-0be2-444d-b99b-3681a6dfecb7",
   "metadata": {},
   "source": [
    "### Repeating Strings"
   ]
  },
  {
   "cell_type": "code",
   "execution_count": 6,
   "id": "89e27cc1-57f9-407f-81ab-465e75f3fd5f",
   "metadata": {},
   "outputs": [
    {
     "name": "stdout",
     "output_type": "stream",
     "text": [
      "ATATATATAT\n",
      "-----\n"
     ]
    }
   ],
   "source": [
    "string4 = 'AT' * 5\n",
    "string5 = '-' * 5\n",
    "print(string4)\n",
    "print(string5)"
   ]
  },
  {
   "attachments": {},
   "cell_type": "markdown",
   "id": "0cd828f8-01c7-4baa-8f4c-5284d06c791d",
   "metadata": {},
   "source": [
    "### Using Special Characters in Strings\n",
    "- How would you put a single quote inside a string that is declared using a single quote?\n",
    "- `'\\\\'` -- how would you print `/\\/\\`\n",
    "- `'\\n'`\n",
    "- `'\\''`\n",
    "- `'\\\"'`\n",
    "- `'\\t'` -- useful for parsing TSV files"
   ]
  },
  {
   "attachments": {},
   "cell_type": "markdown",
   "id": "828bd411-e3dc-4bd6-a4ca-1934208ad47f",
   "metadata": {},
   "source": [
    "### Getting information from the Keyboard"
   ]
  },
  {
   "cell_type": "code",
   "execution_count": 7,
   "id": "119a4f48-4062-4dff-8e59-4b3efcff18e3",
   "metadata": {},
   "outputs": [
    {
     "name": "stdout",
     "output_type": "stream",
     "text": [
      "The number is 7.\n"
     ]
    }
   ],
   "source": [
    "number = input('Please enter a number: ')\n",
    "print(f'The number is {number}.')"
   ]
  },
  {
   "attachments": {},
   "cell_type": "markdown",
   "id": "20d35774-f46e-44bd-ae2e-856de8589b6f",
   "metadata": {
    "jp-MarkdownHeadingCollapsed": true,
    "tags": []
   },
   "source": [
    "## STRING FORMATTING"
   ]
  },
  {
   "attachments": {},
   "cell_type": "markdown",
   "id": "751c5f6d-1bf9-424c-96cc-c13f6ea812fc",
   "metadata": {},
   "source": [
    "### What can you format?\n",
    "String-formatting allows you to do at least five things. These string-format specifiers come after a colon. \n",
    "1. specify width\n",
    "2. align data to left, right, or center; make sure to explain the default alignment for string and number; make sure to \n",
    "3. specify padding character when specified width is greater than the width of the string/number being used\n",
    "4. specify precision for floating values\n",
    "5. add commas to numbers for easier viewing; "
   ]
  },
  {
   "attachments": {},
   "cell_type": "markdown",
   "id": "a4735f40-33b5-48f8-9d5d-7d6620a2364a",
   "metadata": {},
   "source": [
    "### Oldest Method"
   ]
  },
  {
   "cell_type": "code",
   "execution_count": 8,
   "id": "94faf1d4-0ce8-403a-bfb6-10aa94a11d7e",
   "metadata": {},
   "outputs": [
    {
     "name": "stdout",
     "output_type": "stream",
     "text": [
      "PI is 3.14\n"
     ]
    }
   ],
   "source": [
    "PI = 3.14159265359 \n",
    "name = 'PI'\n",
    "print('%s is %.2f' % (name, PI))  # oldest way format specifier is <width>.<precision><type>"
   ]
  },
  {
   "attachments": {},
   "cell_type": "markdown",
   "id": "8d07abb3-f9e5-4a61-a839-4f28669a3880",
   "metadata": {},
   "source": [
    "### Oldest Method"
   ]
  },
  {
   "cell_type": "code",
   "execution_count": 9,
   "id": "4486f4d8-09c7-4cff-9684-6270c6ca7d81",
   "metadata": {},
   "outputs": [
    {
     "name": "stdout",
     "output_type": "stream",
     "text": [
      "PI is 3.14\n"
     ]
    }
   ],
   "source": [
    "PI = 3.14159265359 \n",
    "name = 'PI'\n",
    "print('%s is %.2f' % (name, PI))  # oldest way format specifier is <width>.<precision><type>"
   ]
  },
  {
   "attachments": {},
   "cell_type": "markdown",
   "id": "a57b7f1d-f0b1-4a8b-bf44-9060e3eaff9c",
   "metadata": {},
   "source": [
    "### Newest Method\n",
    "Newest and fastest method for string formatting.\n",
    "`{<index>:<format-specifier>}` where the format specifier is: `<padding_character><alignment><width>.<comma><precision><type>`\n",
    "- padding_character can be anything. most common are\n",
    "  - space (default)\n",
    "  - `-`\n",
    "  - `0` \n",
    "- alignment\n",
    "  - `<` -- left aligned\n",
    "  - `^` -- center aligned\n",
    "  - `>` -- right aligned\n",
    "- width is a number. If the width is greater than the number of characters, then:\n",
    "  - strings are left aligned\n",
    "  - numbers are right aligned \n",
    "- comma is used to add commas to large numbers for easier viewing\n",
    "- precision controls how many decimal places to show. **NOTE** This uses round, but leaves trailing zeros.\n",
    "- type specifies the data type\n",
    "  - `f` -- float\n",
    "  - `d` -- integer\n",
    "  - `s` -- string"
   ]
  },
  {
   "cell_type": "code",
   "execution_count": 10,
   "id": "ead92cdc-2429-4897-9523-d9a0abfbd2f4",
   "metadata": {},
   "outputs": [
    {
     "name": "stdout",
     "output_type": "stream",
     "text": [
      "PI is 3.14\n"
     ]
    }
   ],
   "source": [
    "PI = 3.14159265359 \n",
    "name = 'PI'\n",
    "# {<name_of_variable>:<format-specifier>} where the format specifier is <width>.<precision><type>\n",
    "print(f'{name} is {PI:.2f}') # newest way"
   ]
  },
  {
   "attachments": {},
   "cell_type": "markdown",
   "id": "8cff7a18-c623-49fa-af07-c2e3ccc0e6ec",
   "metadata": {},
   "source": [
    "### Examples"
   ]
  },
  {
   "cell_type": "code",
   "execution_count": 11,
   "id": "feda426e-ba79-4460-90fb-e7d4882eb4df",
   "metadata": {},
   "outputs": [
    {
     "name": "stdout",
     "output_type": "stream",
     "text": [
      "EAS503\n",
      "EAS503\n"
     ]
    }
   ],
   "source": [
    "## Example 1\n",
    "course_number = 'EAS503'\n",
    "class_size = 113\n",
    "class_average = 92.3\n",
    "\n",
    "str_format = '{}'.format(course_number)\n",
    "f_string = f'{course_number}'\n",
    "\n",
    "print(str_format)\n",
    "print(f_string)"
   ]
  },
  {
   "cell_type": "code",
   "execution_count": 12,
   "id": "4b63137f-0bc7-430f-b28b-14bc967a961f",
   "metadata": {},
   "outputs": [
    {
     "name": "stdout",
     "output_type": "stream",
     "text": [
      "The course number is EAS503.\n",
      "The course number is EAS503.\n"
     ]
    }
   ],
   "source": [
    "## Example 2\n",
    "\n",
    "course_number = 'EAS503'\n",
    "class_size = 113\n",
    "class_average = 92.3\n",
    "\n",
    "str_format = 'The course number is {}.'.format(course_number)\n",
    "f_string = f'The course number is {course_number}.'\n",
    "\n",
    "print(str_format)\n",
    "print(f_string)"
   ]
  },
  {
   "cell_type": "code",
   "execution_count": 13,
   "id": "dafce7cb-547a-4524-9309-dc8e664a7346",
   "metadata": {},
   "outputs": [
    {
     "name": "stdout",
     "output_type": "stream",
     "text": [
      "The course number is EAS503. It has 113 students.\n",
      "The course number is EAS503. It has 113 students.\n"
     ]
    }
   ],
   "source": [
    "## Example 3 use index\n",
    "\n",
    "course_number = 'EAS503'\n",
    "class_size = 113\n",
    "class_average = 92.3\n",
    "str_format = 'The course number is {}. It has {} students.'.format(course_number, class_size)\n",
    "str_format = 'The course number is {0}. It has {1} students.'.format(course_number, class_size)\n",
    "f_string = f'The course number is {course_number}. It has {class_size} students.'\n",
    "\n",
    "print(str_format)\n",
    "print(f_string)"
   ]
  },
  {
   "cell_type": "code",
   "execution_count": 14,
   "id": "95f075b3-36a3-426b-af7a-2211c5c1785e",
   "metadata": {},
   "outputs": [
    {
     "name": "stdout",
     "output_type": "stream",
     "text": [
      "The course number is 113. It has EAS503 students.\n",
      "The course number is 113. It has EAS503 students.\n"
     ]
    }
   ],
   "source": [
    "## Example 4 change index\n",
    "\n",
    "course_number = 'EAS503'\n",
    "class_size = 113\n",
    "class_average = 92.3\n",
    "str_format = 'The course number is {1}. It has {0} students.'.format(course_number, class_size)\n",
    "f_string = f'The course number is {class_size}. It has {course_number} students.'\n",
    "\n",
    "print(str_format)\n",
    "print(f_string)"
   ]
  },
  {
   "cell_type": "code",
   "execution_count": 15,
   "id": "2d04f9bc-5d51-4d24-a5d6-f420a805ecbc",
   "metadata": {},
   "outputs": [
    {
     "name": "stdout",
     "output_type": "stream",
     "text": [
      "The course number is EAS503. It has 113 students. The class average is 92.3.\n",
      "The course number is 113. It has EAS503 students. The class average is 92.3.\n"
     ]
    }
   ],
   "source": [
    "## Example 5 adding a float\n",
    "\n",
    "course_number = 'EAS503'\n",
    "class_size = 113\n",
    "class_average = 92.3\n",
    "str_format = 'The course number is {0}. It has {1} students. The class average is {2}.'.format(course_number, class_size, class_average)\n",
    "f_string = f'The course number is {class_size}. It has {course_number} students. The class average is {class_average}.'\n",
    "\n",
    "print(str_format)\n",
    "print(f_string)"
   ]
  },
  {
   "cell_type": "code",
   "execution_count": 16,
   "id": "657a46b7-d600-401d-9a2a-42b4f8ae6f2d",
   "metadata": {},
   "outputs": [
    {
     "name": "stdout",
     "output_type": "stream",
     "text": [
      "The course number is EAS503    . It has        113 students. The class average is       92.3.\n",
      "The course number is EAS503    . It has        113 students. The class average is       92.3.\n"
     ]
    }
   ],
   "source": [
    "## Example 6 specify number of spaces to use -- width\n",
    "\n",
    "course_number = 'EAS503'\n",
    "class_size = 113\n",
    "class_average = 92.3\n",
    "str_format = 'The course number is {0:10}. It has {1:10} students. The class average is {2:10}.'.format(course_number, class_size, class_average)\n",
    "f_string = f'The course number is {course_number:10}. It has {class_size:10} students. The class average is {class_average:10}.'\n",
    "\n",
    "print(str_format)\n",
    "print(f_string)"
   ]
  },
  {
   "cell_type": "code",
   "execution_count": 17,
   "id": "d7f7a103-86bb-4c5e-899e-2b7304f3f192",
   "metadata": {},
   "outputs": [
    {
     "name": "stdout",
     "output_type": "stream",
     "text": [
      "The course number is     EAS503. It has        113 students. The class average is       92.3.\n",
      "The course number is     EAS503. It has        113 students. The class average is       92.3.\n"
     ]
    }
   ],
   "source": [
    "## Example 7 right align\n",
    "\n",
    "course_number = 'EAS503'\n",
    "class_size = 113\n",
    "class_average = 92.3\n",
    "str_format = 'The course number is {0:>10}. It has {1:>10} students. The class average is {2:>10}.'.format(course_number, class_size, class_average)\n",
    "f_string = f'The course number is {course_number:>10}. It has {class_size:>10} students. The class average is {class_average:>10}.'\n",
    "\n",
    "print(str_format)\n",
    "print(f_string)"
   ]
  },
  {
   "cell_type": "code",
   "execution_count": 18,
   "id": "e266a06b-e943-4151-ba37-fffc71a5958f",
   "metadata": {},
   "outputs": [
    {
     "name": "stdout",
     "output_type": "stream",
     "text": [
      "The course number is EAS503    . It has 113        students. The class average is 92.3      .\n",
      "The course number is EAS503    . It has 113        students. The class average is 92.3      .\n"
     ]
    }
   ],
   "source": [
    "##Example 8 left align\n",
    "\n",
    "course_number = 'EAS503'\n",
    "class_size = 113\n",
    "class_average = 92.3\n",
    "str_format = 'The course number is {0:<10}. It has {1:<10} students. The class average is {2:<10}.'.format(course_number, class_size, class_average)\n",
    "f_string = f'The course number is {course_number:<10}. It has {class_size:<10} students. The class average is {class_average:<10}.'\n",
    "\n",
    "print(str_format)\n",
    "print(f_string)"
   ]
  },
  {
   "cell_type": "code",
   "execution_count": 19,
   "id": "46455578-95b9-49c8-b95e-c852e6b7ed79",
   "metadata": {},
   "outputs": [
    {
     "name": "stdout",
     "output_type": "stream",
     "text": [
      "The course number is   EAS503  . It has    113     students. The class average is    92.3   .\n",
      "The course number is   EAS503  . It has    113     students. The class average is    92.3   .\n"
     ]
    }
   ],
   "source": [
    "## Example 9 center align\n",
    "course_number = 'EAS503'\n",
    "class_size = 113\n",
    "class_average = 92.3\n",
    "str_format = 'The course number is {0:^10}. It has {1:^10} students. The class average is {2:^10}.'.format(course_number, class_size, class_average)\n",
    "f_string = f'The course number is {course_number:^10}. It has {class_size:^10} students. The class average is {class_average:^10}.'\n",
    "\n",
    "print(str_format)\n",
    "print(f_string)"
   ]
  },
  {
   "cell_type": "code",
   "execution_count": 20,
   "id": "ab69a813-694f-4201-a4fe-e64051933746",
   "metadata": {},
   "outputs": [
    {
     "name": "stdout",
     "output_type": "stream",
     "text": [
      "The number padded 223333 padded with zeros 00223333\n",
      "The number padded 223333 padded with zeros 00223333\n"
     ]
    }
   ],
   "source": [
    "## Example 10 Padding with zeros\n",
    "## Zero padding does not require a alignment specifier\n",
    "\n",
    "student_id = 223333\n",
    "\n",
    "str_format = 'The number padded {} padded with zeros {:08}'.format(student_id, student_id)\n",
    "f_string = f'The number padded {student_id} padded with zeros {student_id:08}'\n",
    "\n",
    "print(str_format)\n",
    "print(f_string)"
   ]
  },
  {
   "cell_type": "code",
   "execution_count": 21,
   "id": "e648d62a-9e7c-4957-8be0-616d45e0e20c",
   "metadata": {},
   "outputs": [
    {
     "name": "stdout",
     "output_type": "stream",
     "text": [
      "The number padded 223333 padded with zeros --223333\n",
      "The number padded 223333 padded with zeros --223333\n"
     ]
    }
   ],
   "source": [
    "## Example 11 Padding with dashes\n",
    "student_id = 223333\n",
    "\n",
    "str_format = 'The number padded {} padded with zeros {:->8}'.format(student_id, student_id)\n",
    "f_string = f'The number padded {student_id} padded with zeros {student_id:->8}'\n",
    "\n",
    "print(str_format)\n",
    "print(f_string)"
   ]
  },
  {
   "cell_type": "code",
   "execution_count": 22,
   "id": "ce8bd900-46ea-48e3-b368-345184bff83f",
   "metadata": {},
   "outputs": [
    {
     "name": "stdout",
     "output_type": "stream",
     "text": [
      "123,456\n",
      "123,456.23\n"
     ]
    }
   ],
   "source": [
    "## Example 12 Adding Commas\n",
    "number = 123456\n",
    "print(f'{number:,}')\n",
    "number = 123456.2345\n",
    "print(f'{number:,.2f}')"
   ]
  },
  {
   "attachments": {},
   "cell_type": "markdown",
   "id": "c45d388e-0483-4ca6-aa09-1d4c9ae4941a",
   "metadata": {
    "jp-MarkdownHeadingCollapsed": true,
    "tags": []
   },
   "source": [
    "## CREATING A TABLE"
   ]
  },
  {
   "cell_type": "code",
   "execution_count": 23,
   "id": "4d2dcb81-6ec9-481c-835f-d9c5a0d22d75",
   "metadata": {},
   "outputs": [
    {
     "name": "stdout",
     "output_type": "stream",
     "text": [
      "+---------------------------------------------------+\n",
      "|               Cereal Yields (kg/ha)               |\n",
      "+---------------+--------+--------+--------+--------+\n",
      "|    Country    |  1980  |  1990  |  2000  |  2010  |\n",
      "+---------------+--------+--------+--------+--------+\n",
      "| China         |  2,937 |  4,321 |  4,752 |  5,527 |\n",
      "| Germany       |  4,225 |  5,411 |  6,453 |  6,718 |\n",
      "| United States |  3,772 |  4,755 |  5,854 |  6,988 |\n",
      "+---------------+--------+--------+--------+--------+\n"
     ]
    }
   ],
   "source": [
    "title = '|' + '{:^51}'.format('Cereal Yields (kg/ha)') + '|'\n",
    "line = '+' + '-'*15 + '+' + ('-'*8 + '+')*4\n",
    "row = '| {:<13} |' + ' {:6,d} |'*4\n",
    "header = '| {:^13s} |'.format('Country') + (' {:^6d} |'*4).format(1980, 1990,\n",
    "                                                                  2000, 2010)\n",
    "print('+' + '-'*(len(title)-2) + '+',\n",
    "      title,\n",
    "      line,\n",
    "      header,\n",
    "      line,\n",
    "      row.format('China', 2937, 4321, 4752, 5527),\n",
    "      row.format('Germany', 4225, 5411, 6453, 6718),\n",
    "      row.format('United States', 3772, 4755, 5854, 6988),\n",
    "      line,\n",
    "      sep='\\n')"
   ]
  },
  {
   "attachments": {},
   "cell_type": "markdown",
   "id": "0a1960dd-f037-400f-9aa6-d0910b12a2e6",
   "metadata": {},
   "source": [
    "### Writing to a file\n",
    "Use with context to manage closing file automatically."
   ]
  },
  {
   "cell_type": "code",
   "execution_count": 24,
   "id": "4e7b120c-b587-48ec-b4a2-3d855cd5edc7",
   "metadata": {},
   "outputs": [],
   "source": [
    "with open('test_file.txt', 'w') as file:\n",
    "    file.write('line1\\nline2')"
   ]
  },
  {
   "cell_type": "code",
   "execution_count": 25,
   "id": "42d12fda-ac04-444b-9a3c-71ed9d06de86",
   "metadata": {},
   "outputs": [],
   "source": [
    "title = '|' + '{:^51}'.format('Cereal Yields (kg/ha)') + '|'\n",
    "line = '+' + '-'*15 + '+' + ('-'*8 + '+')*4\n",
    "row = '| {:<13} |' + ' {:6,d} |'*4\n",
    "header = '| {:^13s} |'.format('Country') + (' {:^6d} |'*4).format(1980, 1990,\n",
    "                                                                  2000, 2010)\n",
    "file_content = '\\n'.join(('+' + '-'*(len(title)-2) + '+',\n",
    "      title,\n",
    "      line,\n",
    "      header,\n",
    "      line,\n",
    "      row.format('China', 2937, 4321, 4752, 5527),\n",
    "      row.format('Germany', 4225, 5411, 6453, 6718),\n",
    "      row.format('United States', 3772, 4755, 5854, 6988),\n",
    "      line))\n",
    "\n",
    "with open('test_file2.txt', 'w') as file:\n",
    "    file.write(file_content)"
   ]
  },
  {
   "cell_type": "code",
   "execution_count": 26,
   "id": "11b838e1-2ee8-4898-b653-56c70676ded3",
   "metadata": {},
   "outputs": [],
   "source": [
    "import os\n",
    "os.remove('test_file.txt')\n",
    "os.remove('test_file2.txt')"
   ]
  },
  {
   "attachments": {},
   "cell_type": "markdown",
   "id": "3c33b2dd-e6ce-485b-a6aa-ef3d9a5a902b",
   "metadata": {
    "jp-MarkdownHeadingCollapsed": true,
    "tags": []
   },
   "source": [
    "## STRING METHODS"
   ]
  },
  {
   "attachments": {},
   "cell_type": "markdown",
   "id": "8a7a7945-9bff-42ca-9b2b-de855c5f3b85",
   "metadata": {},
   "source": [
    "- We have already encountered functions: built-in functions and functions we have defined. A method is another kind of function that is attached to a particular type. This section covers\n",
    "the methods that are attached to string types.  \n",
    "- Method calls in this form—`'browning'.capitalize()`—are shorthand for this: `str.capitalize('browning')`. \n",
    "- Methods are like functions, except that the first argument must be an object of the class in which the method is defined."
   ]
  },
  {
   "attachments": {},
   "cell_type": "markdown",
   "id": "e86262ee-bfae-408d-816c-3e57fdb517c3",
   "metadata": {},
   "source": [
    "### Strip Methods"
   ]
  },
  {
   "cell_type": "code",
   "execution_count": 27,
   "id": "047147de-ea6d-4fb0-852f-1e8f7fa29ac9",
   "metadata": {},
   "outputs": [
    {
     "name": "stdout",
     "output_type": "stream",
     "text": [
      "   ABBCCC   Dummy\n",
      "ABBCCC\n"
     ]
    }
   ],
   "source": [
    "# strip() -- Strip spaces on the left and right of string\n",
    "my_string = '   ABBCCC  '\n",
    "print(my_string, 'Dummy')\n",
    "print(my_string.strip())"
   ]
  },
  {
   "cell_type": "code",
   "execution_count": 28,
   "id": "3a0b1ded-9007-44b3-aaf0-628c6d84a9d1",
   "metadata": {},
   "outputs": [
    {
     "name": "stdout",
     "output_type": "stream",
     "text": [
      "BBCCC\n",
      "  ABBCCC\n"
     ]
    }
   ],
   "source": [
    "# strip(chars) -- Strip chars on the left and right of string\n",
    "my_string = 'ABBCCCA'\n",
    "print(my_string.strip('A'))\n",
    "my_string = '  ABBCCCA'\n",
    "print(my_string.strip('A'))"
   ]
  },
  {
   "cell_type": "code",
   "execution_count": 29,
   "id": "e7a34d86-bf1f-43e7-b624-780c17f5d14d",
   "metadata": {},
   "outputs": [
    {
     "name": "stdout",
     "output_type": "stream",
     "text": [
      "   ABBCCC   Dummy\n",
      "ABBCCC   Dummy\n"
     ]
    }
   ],
   "source": [
    "# lstrip() -- Strip spaces from the left of string\n",
    "my_string = '   ABBCCC  '\n",
    "print(my_string, 'Dummy')\n",
    "print(my_string.lstrip(), 'Dummy')"
   ]
  },
  {
   "cell_type": "code",
   "execution_count": 30,
   "id": "a3a95daf-fab1-44a8-b241-1493083eb29b",
   "metadata": {},
   "outputs": [
    {
     "name": "stdout",
     "output_type": "stream",
     "text": [
      "   ABBCCC   Dummy\n",
      "   ABBCCC Dummy\n"
     ]
    }
   ],
   "source": [
    "# rstrip() -- Strip spaces from the right of string\n",
    "my_string = '   ABBCCC  '\n",
    "print(my_string, 'Dummy')\n",
    "print(my_string.rstrip(), 'Dummy')"
   ]
  },
  {
   "attachments": {},
   "cell_type": "markdown",
   "id": "426ea967-017c-4340-8f81-7cc604ee3323",
   "metadata": {},
   "source": [
    "### Case Methods"
   ]
  },
  {
   "cell_type": "code",
   "execution_count": 31,
   "id": "22305096-e3ab-4513-b334-2a81a7c4dfb0",
   "metadata": {},
   "outputs": [
    {
     "name": "stdout",
     "output_type": "stream",
     "text": [
      "False\n"
     ]
    }
   ],
   "source": [
    "# islower() -- Check if all alphabet characters are lower case\n",
    "my_string = 'EAS503'\n",
    "print(my_string.islower())"
   ]
  },
  {
   "cell_type": "code",
   "execution_count": 32,
   "id": "03251f5e-c61f-48a7-a692-b92544e33894",
   "metadata": {},
   "outputs": [
    {
     "name": "stdout",
     "output_type": "stream",
     "text": [
      "True\n"
     ]
    }
   ],
   "source": [
    "# isupper() -- Check if all alphabet characters are upper case\n",
    "my_string = 'EAS503'\n",
    "print(my_string.isupper())"
   ]
  },
  {
   "cell_type": "code",
   "execution_count": 33,
   "id": "45a1eec4-6392-4490-bea2-3ee98cc022a7",
   "metadata": {},
   "outputs": [
    {
     "name": "stdout",
     "output_type": "stream",
     "text": [
      "eas503\n"
     ]
    }
   ],
   "source": [
    "# lower() -- Lower case the string; returns a new string\n",
    "my_string = 'EAS503'\n",
    "print(my_string.lower())"
   ]
  },
  {
   "cell_type": "code",
   "execution_count": 34,
   "id": "58b3408b-3eae-4c27-86c4-ea8fe02edbae",
   "metadata": {},
   "outputs": [
    {
     "name": "stdout",
     "output_type": "stream",
     "text": [
      "EAS503\n"
     ]
    }
   ],
   "source": [
    "# upper() -- Upper case the string; returns a new string\n",
    "my_string = 'eas503'\n",
    "print(my_string.upper())"
   ]
  },
  {
   "cell_type": "code",
   "execution_count": 35,
   "id": "5c8ccf96-5eba-41c6-b93a-82fb034979a2",
   "metadata": {},
   "outputs": [
    {
     "name": "stdout",
     "output_type": "stream",
     "text": [
      "The Lazy Dog Jumped Over The Quick Brown Fox\n"
     ]
    }
   ],
   "source": [
    "# title() -- Make the first letter of each word upper case\n",
    "my_string = 'the lazy dog jumped over the quick brown fox'\n",
    "print(my_string.title())"
   ]
  },
  {
   "cell_type": "code",
   "execution_count": 36,
   "id": "71a69a07-d1d0-4f40-8aa3-6b453fddd316",
   "metadata": {},
   "outputs": [
    {
     "name": "stdout",
     "output_type": "stream",
     "text": [
      "The lazy dog jumped over the quick brown fox\n"
     ]
    }
   ],
   "source": [
    "# capitalize() -- Make the first letter upper case\n",
    "my_string = 'the lazy dog jumped over the quick brown fox'\n",
    "print(my_string.capitalize())"
   ]
  },
  {
   "cell_type": "code",
   "execution_count": 37,
   "id": "42c0072a-6fdd-4acb-a4d0-ccd07349a0ac",
   "metadata": {},
   "outputs": [
    {
     "name": "stdout",
     "output_type": "stream",
     "text": [
      "ThE LAzY DoG jUMPED OVEr THe QUiCK BrOWN fOX\n"
     ]
    }
   ],
   "source": [
    "# swapcase() -- Make upper case lower case and lower case upper case\n",
    "my_string = 'tHe laZy dOg Jumped oveR thE quIck bRown Fox'\n",
    "print(my_string.swapcase())"
   ]
  },
  {
   "attachments": {},
   "cell_type": "markdown",
   "id": "9dfb20e5-3c3b-4333-aa43-f4a3ee0a022c",
   "metadata": {},
   "source": [
    "### Content Methods\n",
    "- `isalpha()` -- Returns `True` if all the characters are alphabet \n",
    "- `isdecimal()` -- Returns `True` if all the characters are numbers (0-9); USE THIS!\n",
    "- `isdigit()` -- Returns `True` if all the characters are numbers (0-9), superscripts (`\"\\u00B2\"`), or fractions `'\\u00BC'`; \n",
    "- `isnumeric()` -- Returns `True` if all the characters are numbers (0-9), superscripts (`\"\\u00B2\"`), fractions `'\\u00BC'`, or Roman Numerals!\n",
    "- `isalnum()` -- Returns `True` if the string is alpha numeric\n",
    "- `startswith(substring)` -- Returns `True` if the string starts with the specific input argument\n",
    "- `endswith(substring)` -- Returns `True` if the string ends with the specific input argument\n",
    "- `find(substring)` -- Returns the index if the character is found; otherwise returns `-1`\n",
    "- `index(substring)` -- Returns the index if the character is found; otherwise **raises an error**\n",
    "- `in` operator -- Returns `True` if the operand on the left exists in the string\n",
    "- `count(substring)` -- Returns the number of times the substring occurs"
   ]
  },
  {
   "attachments": {},
   "cell_type": "markdown",
   "id": "426d4029-c2bc-4fd0-b97a-762bfe85e8c6",
   "metadata": {},
   "source": [
    "### Modification Methods\n",
    "- `replace()` -- Replaces character(s) with other character(s); returns a new string\n",
    "- You can **chain** methods! **Chaining** lets you avoid having to save intermediate results. \n",
    "```{code-cell} ipython3\n",
    "my_string = '(EAS503)'\n",
    "print(my_string.replace('(', '').replace(')', ''))\n",
    "```\n",
    "- `zfill(number_of_zeros)` -- prepend zeros to a string; returns a new string"
   ]
  },
  {
   "cell_type": "code",
   "execution_count": null,
   "id": "b9e8c2c4-84ae-4708-8883-b666c6b16ae2",
   "metadata": {},
   "outputs": [],
   "source": []
  }
 ],
 "metadata": {
  "kernelspec": {
   "display_name": "Python 3 (ipykernel)",
   "language": "python",
   "name": "python3"
  },
  "language_info": {
   "codemirror_mode": {
    "name": "ipython",
    "version": 3
   },
   "file_extension": ".py",
   "mimetype": "text/x-python",
   "name": "python",
   "nbconvert_exporter": "python",
   "pygments_lexer": "ipython3",
   "version": "3.10.11"
  }
 },
 "nbformat": 4,
 "nbformat_minor": 5
}
