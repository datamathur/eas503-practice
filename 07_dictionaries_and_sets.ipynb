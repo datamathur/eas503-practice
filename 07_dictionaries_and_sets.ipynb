{
 "cells": [
  {
   "cell_type": "markdown",
   "id": "3cdc9508-a144-43a2-914b-7d6ab0b772ed",
   "metadata": {},
   "source": [
    "# CHAPTER 7 - DICTIONARIES AND SETS"
   ]
  },
  {
   "cell_type": "markdown",
   "id": "9efdf98b-f719-4281-a3a6-48b7dbf08a74",
   "metadata": {
    "jp-MarkdownHeadingCollapsed": true,
    "tags": []
   },
   "source": [
    "## DICTIONARIES"
   ]
  },
  {
   "cell_type": "markdown",
   "id": "f1f35f26-2a7c-4e21-8ec8-fd0cf68122cc",
   "metadata": {},
   "source": [
    "In certain context, lists/tuples have a limitation where you do not know what the \"meaning\" of each element is. For example, we used `days_in_months = [0, 31, 28, 31, 30, 31, 30, 31, 31, 30, 31, 30, 31]` to represent the the days in months with the assumption that the index corresponds to month digit. "
   ]
  },
  {
   "cell_type": "code",
   "execution_count": 1,
   "id": "0e783f59-bf7e-4215-b21c-169ae7f8f838",
   "metadata": {},
   "outputs": [],
   "source": [
    "days_in_months = {\n",
    "    'Jan': 31,\n",
    "    'Feb': (28,29),\n",
    "    'Mar': 31,\n",
    "    'Apr': 30,\n",
    "    'May': 31,\n",
    "    'Jun': 30,\n",
    "    'Jul': 31,\n",
    "    'Aug': 31,\n",
    "    'Sep': 30,\n",
    "    'Oct': 31,\n",
    "    'Nov': 30,\n",
    "    'Dec': 31,\n",
    "}"
   ]
  },
  {
   "cell_type": "markdown",
   "id": "72d02c89-c923-4e35-86a6-f9cbb1f0633a",
   "metadata": {},
   "source": [
    "- The\"name is called a \"key\"\n",
    "- The value is called a \"value\"\n",
    "- Together they are called a key-value pair\n",
    "- Key is the 'index' to access the corresponding value\n",
    "- Python dictionary (since v3.6) keep the key values in the order they were inserted"
   ]
  },
  {
   "cell_type": "markdown",
   "id": "1d7e2808-0e5b-4501-8f6a-8036afc8b5c3",
   "metadata": {},
   "source": [
    "### Creating a Dictionary\n",
    "- There are two ways to create a dictionary"
   ]
  },
  {
   "cell_type": "markdown",
   "id": "0b5431ea-18cc-4cc4-b540-8ed2af71c346",
   "metadata": {},
   "source": [
    "#### Method 1"
   ]
  },
  {
   "cell_type": "code",
   "execution_count": 2,
   "id": "efdc1f5f-b0aa-47e0-be7b-5ac75de27678",
   "metadata": {},
   "outputs": [],
   "source": [
    "my_dict = {\n",
    "    'name': 'john',\n",
    "    'email': 'john@email.com',\n",
    "    'id': 1234,\n",
    "    'major': 'Engineering'\n",
    "}"
   ]
  },
  {
   "cell_type": "markdown",
   "id": "98770e59-27a3-4d57-a694-aa0ee83cd137",
   "metadata": {},
   "source": [
    "#### Method 2"
   ]
  },
  {
   "cell_type": "code",
   "execution_count": 3,
   "id": "78d09710-0368-40ea-8cae-ce92f128e5ab",
   "metadata": {},
   "outputs": [],
   "source": [
    "my_dict = dict(\n",
    "    name='john',\n",
    "    email='john@email.com',\n",
    "    id=1234,\n",
    "    major='Engineering'\n",
    ")"
   ]
  },
  {
   "cell_type": "markdown",
   "id": "afc9a0dd-6497-47bc-a80e-cbfb865e294d",
   "metadata": {},
   "source": [
    "### Accessing a Value"
   ]
  },
  {
   "cell_type": "code",
   "execution_count": 4,
   "id": "bcb24e5e-faed-4147-92ca-a79a887f96ff",
   "metadata": {},
   "outputs": [
    {
     "name": "stdout",
     "output_type": "stream",
     "text": [
      "john\n",
      "john\n"
     ]
    }
   ],
   "source": [
    "my_dict = {\n",
    "    'name': 'john',\n",
    "    'email': 'john@email.com',\n",
    "    'id': 1234,\n",
    "    'major': 'Engineering'\n",
    "}\n",
    "\n",
    "print(my_dict['name']) # Method 1\n",
    "\n",
    "key = 'name' # Method 2 -- use a variable key\n",
    "print(my_dict[key])"
   ]
  },
  {
   "cell_type": "markdown",
   "id": "a9b229c8-f54d-49ac-8b64-6c79c9b0425d",
   "metadata": {},
   "source": [
    "### Iterating Over a Dictionary"
   ]
  },
  {
   "cell_type": "markdown",
   "id": "05b9553d-3b03-4dde-abbf-0f0a0ab86f64",
   "metadata": {},
   "source": [
    "#### By Values"
   ]
  },
  {
   "cell_type": "code",
   "execution_count": 5,
   "id": "6624ff85-8b0b-4e82-8822-6f5eb9734b85",
   "metadata": {},
   "outputs": [
    {
     "name": "stdout",
     "output_type": "stream",
     "text": [
      "name\n",
      "email\n",
      "id\n",
      "major\n"
     ]
    }
   ],
   "source": [
    "my_dict = {\n",
    "    'name': 'john',\n",
    "    'email': 'john@email.com',\n",
    "    'id': 1234,\n",
    "    'major': 'Engineering'\n",
    "}\n",
    "for key in my_dict.keys():\n",
    "    print(key)"
   ]
  },
  {
   "cell_type": "markdown",
   "id": "f039a68a-8aff-4185-8e23-95199fc4645a",
   "metadata": {},
   "source": [
    "#### Key-Value Pair"
   ]
  },
  {
   "cell_type": "code",
   "execution_count": 6,
   "id": "eed41199-6231-4c7a-b584-3680c4717921",
   "metadata": {},
   "outputs": [
    {
     "name": "stdout",
     "output_type": "stream",
     "text": [
      "key is name and value is john\n",
      "key is email and value is john@email.com\n",
      "key is id and value is 1234\n",
      "key is major and value is Engineering\n"
     ]
    }
   ],
   "source": [
    "my_dict = {\n",
    "    'name': 'john',\n",
    "    'email': 'john@email.com',\n",
    "    'id': 1234,\n",
    "    'major': 'Engineering'\n",
    "}\n",
    "for key, value in my_dict.items():\n",
    "    print(f'key is {key} and value is {value}')"
   ]
  },
  {
   "cell_type": "markdown",
   "id": "515e7622-86c4-4bc6-96a1-ddf1c40115ab",
   "metadata": {},
   "source": [
    "### Checking if a Key Exists "
   ]
  },
  {
   "cell_type": "code",
   "execution_count": 7,
   "id": "5c18f61e-260b-4146-aaa2-063cbf522955",
   "metadata": {},
   "outputs": [
    {
     "name": "stdout",
     "output_type": "stream",
     "text": [
      "False\n"
     ]
    }
   ],
   "source": [
    "my_dict = {\n",
    "    'name': 'john',\n",
    "    'email': 'john@email.com',\n",
    "    'id': 1234,\n",
    "    'major': 'Engineering'\n",
    "}\n",
    "\n",
    "key = 'Major'\n",
    "if key in my_dict:\n",
    "    print(True)\n",
    "else:\n",
    "    print(False)"
   ]
  },
  {
   "cell_type": "markdown",
   "id": "75de0cde-89b7-4427-acf1-072d267bf5e6",
   "metadata": {},
   "source": [
    "### Dictionary Comprehension    "
   ]
  },
  {
   "cell_type": "markdown",
   "id": "bc98d091-928c-4aae-bb8f-43a0a2221ec4",
   "metadata": {},
   "source": [
    "```python\n",
    "{ ele:f(ele) for ele in sequence }\n",
    "\n",
    "{ ele:f(ele) for ele in sequence if condition }\n",
    "\n",
    "{ ele:f(ele) if condition else g(ele) for ele in sequence }\n",
    "\n",
    "{ ele:f(ele) for ele in sequence if condition1 and condition2}\n",
    "```"
   ]
  },
  {
   "cell_type": "code",
   "execution_count": 8,
   "id": "317d0e82-659d-4b1a-b159-55933f79dc5b",
   "metadata": {},
   "outputs": [
    {
     "data": {
      "text/plain": [
       "{0: 0, 1: 1, 2: 4, 3: 9, 4: 16}"
      ]
     },
     "execution_count": 8,
     "metadata": {},
     "output_type": "execute_result"
    }
   ],
   "source": [
    "{num: num*num for num in range(5)}"
   ]
  },
  {
   "cell_type": "markdown",
   "id": "a67ed480-1b5d-4942-8b47-a712e73e234d",
   "metadata": {},
   "source": [
    "### Zipping two lists"
   ]
  },
  {
   "cell_type": "code",
   "execution_count": 9,
   "id": "67427f96-f295-4628-bc97-3eb40e5a911e",
   "metadata": {},
   "outputs": [
    {
     "data": {
      "text/plain": [
       "{'john': 95, 'jane': 99, 'doe': 98}"
      ]
     },
     "execution_count": 9,
     "metadata": {},
     "output_type": "execute_result"
    }
   ],
   "source": [
    "list1 = ['john', 'jane', 'doe']\n",
    "list2 = [95, 99, 98]\n",
    "\n",
    "{list1[i]: list2[i] for i in range(len(list1))}"
   ]
  },
  {
   "cell_type": "code",
   "execution_count": 10,
   "id": "6cad1854-07c7-49c5-a716-39e8cdb28ce0",
   "metadata": {},
   "outputs": [
    {
     "data": {
      "text/plain": [
       "{'john': 95, 'jane': 99, 'doe': 98}"
      ]
     },
     "execution_count": 10,
     "metadata": {},
     "output_type": "execute_result"
    }
   ],
   "source": [
    "dict(zip(list1,list2))"
   ]
  },
  {
   "cell_type": "markdown",
   "id": "b178a0b2-017a-417b-9bcb-a91c59d820e1",
   "metadata": {
    "jp-MarkdownHeadingCollapsed": true,
    "tags": []
   },
   "source": [
    "## SETS"
   ]
  },
  {
   "cell_type": "markdown",
   "id": "a97141a7-0e63-4250-97d1-111bfaeb745e",
   "metadata": {},
   "source": [
    "- Formal mathematical sets\n",
    "- **Do not have duplicate values**\n",
    "- Are not ordered\n",
    "- Cannot access via index. \n",
    "- Useful for doing set operations\n",
    "- Can have different data types"
   ]
  },
  {
   "cell_type": "code",
   "execution_count": 11,
   "id": "6f8d34db-9394-4e0d-ae3d-c4193f1b98a7",
   "metadata": {},
   "outputs": [],
   "source": [
    "A = {0, 2, 4, 6, 8}\n",
    "B = {1, 2, 3, 4, 5}"
   ]
  },
  {
   "cell_type": "markdown",
   "id": "35420fc9-9e3e-41ca-8718-9ccb77e13151",
   "metadata": {},
   "source": [
    "### Check if a value belongs"
   ]
  },
  {
   "cell_type": "code",
   "execution_count": 12,
   "id": "60468f70-8e85-47dc-b466-8a1ef7697e66",
   "metadata": {},
   "outputs": [
    {
     "data": {
      "text/plain": [
       "True"
      ]
     },
     "execution_count": 12,
     "metadata": {},
     "output_type": "execute_result"
    }
   ],
   "source": [
    "2 in A"
   ]
  },
  {
   "cell_type": "markdown",
   "id": "1b4147c4-3f7c-42b2-a733-db8464f6e8ea",
   "metadata": {},
   "source": [
    "### Union -- all values"
   ]
  },
  {
   "cell_type": "code",
   "execution_count": 13,
   "id": "d8bb9354-1f11-4f2f-837c-3c593db6eb1e",
   "metadata": {},
   "outputs": [
    {
     "data": {
      "text/plain": [
       "{0, 1, 2, 3, 4, 5, 6, 8}"
      ]
     },
     "execution_count": 13,
     "metadata": {},
     "output_type": "execute_result"
    }
   ],
   "source": [
    "A | B"
   ]
  },
  {
   "cell_type": "markdown",
   "id": "a2e20b7c-8e38-47db-a7d4-51c8a2184e2f",
   "metadata": {},
   "source": [
    "### Intersection -- shared values"
   ]
  },
  {
   "cell_type": "code",
   "execution_count": 14,
   "id": "558a62e1-51ac-48cf-82d6-fc5148a9762c",
   "metadata": {},
   "outputs": [
    {
     "data": {
      "text/plain": [
       "{2, 4}"
      ]
     },
     "execution_count": 14,
     "metadata": {},
     "output_type": "execute_result"
    }
   ],
   "source": [
    "A & B"
   ]
  },
  {
   "cell_type": "markdown",
   "id": "6192fb92-0326-4bba-bea3-2b4953ada2b8",
   "metadata": {},
   "source": [
    "### Difference -- order matters"
   ]
  },
  {
   "cell_type": "code",
   "execution_count": 15,
   "id": "8d8a3b96-ff27-4f6b-b065-b917e6383265",
   "metadata": {},
   "outputs": [
    {
     "name": "stdout",
     "output_type": "stream",
     "text": [
      "{0, 8, 6}\n",
      "{1, 3, 5}\n"
     ]
    }
   ],
   "source": [
    "print(A - B)\n",
    "print(B - A)"
   ]
  },
  {
   "cell_type": "markdown",
   "id": "a4dc2a0b-012b-4a60-b537-ba6093df9908",
   "metadata": {},
   "source": [
    "### Check Subset "
   ]
  },
  {
   "cell_type": "code",
   "execution_count": 16,
   "id": "91cb897d-5058-4410-afdb-466dc9d8b5db",
   "metadata": {},
   "outputs": [
    {
     "data": {
      "text/plain": [
       "True"
      ]
     },
     "execution_count": 16,
     "metadata": {},
     "output_type": "execute_result"
    }
   ],
   "source": [
    "A = {1, 2, 3, 4, 5}\n",
    "B = {3, 4}\n",
    "B <= A"
   ]
  },
  {
   "cell_type": "code",
   "execution_count": 17,
   "id": "fe520bdf-bee5-4ff6-b7ce-2b132b665c44",
   "metadata": {},
   "outputs": [
    {
     "data": {
      "text/plain": [
       "False"
      ]
     },
     "execution_count": 17,
     "metadata": {},
     "output_type": "execute_result"
    }
   ],
   "source": [
    "A = {1, 2, 3, 4, 5}\n",
    "B = {3, 4}\n",
    "B > A"
   ]
  },
  {
   "cell_type": "markdown",
   "id": "3a32c320-004f-4d98-b2ad-aa74d8aa136e",
   "metadata": {},
   "source": [
    "### Adding a single element "
   ]
  },
  {
   "cell_type": "code",
   "execution_count": 18,
   "id": "56eba5c8-03d4-47b4-9a0f-7ec75c7f6cde",
   "metadata": {},
   "outputs": [
    {
     "name": "stdout",
     "output_type": "stream",
     "text": [
      "{1, 2, 3, 4, 5, 6}\n"
     ]
    }
   ],
   "source": [
    "A = {1, 2, 3, 4, 5}\n",
    "A.add(6)\n",
    "print(A)"
   ]
  },
  {
   "cell_type": "code",
   "execution_count": 19,
   "id": "358510e1-bd26-4b8f-96ba-1b2941c05a26",
   "metadata": {},
   "outputs": [
    {
     "name": "stdout",
     "output_type": "stream",
     "text": [
      "{1, 2, 3, 4, 5}\n"
     ]
    }
   ],
   "source": [
    "A = {1, 2, 3, 4, 5}\n",
    "A.add(1)\n",
    "print(A)"
   ]
  },
  {
   "cell_type": "markdown",
   "id": "900be345-23b2-4bba-8578-7c5bd744ffdf",
   "metadata": {},
   "source": [
    "### Symmetric difference "
   ]
  },
  {
   "cell_type": "code",
   "execution_count": 20,
   "id": "fed4885e-9f9c-400c-96f0-f93f15bf7fe5",
   "metadata": {},
   "outputs": [
    {
     "data": {
      "text/plain": [
       "{1, 2, 5}"
      ]
     },
     "execution_count": 20,
     "metadata": {},
     "output_type": "execute_result"
    }
   ],
   "source": [
    "A = {1, 2, 3, 4, 5}\n",
    "B = {3, 4}\n",
    "A ^ B"
   ]
  },
  {
   "cell_type": "code",
   "execution_count": null,
   "id": "11e9dd76-c5f1-4db0-984d-98129c7c2cb0",
   "metadata": {},
   "outputs": [],
   "source": []
  }
 ],
 "metadata": {
  "kernelspec": {
   "display_name": "Python 3 (ipykernel)",
   "language": "python",
   "name": "python3"
  },
  "language_info": {
   "codemirror_mode": {
    "name": "ipython",
    "version": 3
   },
   "file_extension": ".py",
   "mimetype": "text/x-python",
   "name": "python",
   "nbconvert_exporter": "python",
   "pygments_lexer": "ipython3",
   "version": "3.10.11"
  }
 },
 "nbformat": 4,
 "nbformat_minor": 5
}
