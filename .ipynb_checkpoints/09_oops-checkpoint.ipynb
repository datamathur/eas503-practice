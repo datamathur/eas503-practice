{
 "cells": [
  {
   "cell_type": "markdown",
   "id": "6dcba3eb-91a4-40eb-9f25-0446254f93ba",
   "metadata": {},
   "source": [
    "# CHAPTER 9 - OBJECT ORIENTED PROGRAMMING"
   ]
  },
  {
   "cell_type": "markdown",
   "id": "2179a40d-1c73-4f5d-bd4c-b44362e243b0",
   "metadata": {},
   "source": [
    "- Procedural programming:\n",
    "  - We write a list of nouns (data)\n",
    "  - We also have a separate list of verbs (functions)\n",
    "  - We leave it up to the programmer to figure out which data goes with with function\n",
    "- Object-oriented programming:\n",
    "  - We define an object which contains both the nouns (data) and verbs (functions) that manipulate that data. \n",
    "  - Data --> Attribute\n",
    "  - Function --> Method "
   ]
  },
  {
   "cell_type": "markdown",
   "id": "15ab0c15-83ab-4a7b-91e4-1c5c59d147ab",
   "metadata": {},
   "source": [
    "## Procedural Programming Example"
   ]
  },
  {
   "cell_type": "code",
   "execution_count": 2,
   "id": "98409b40-42d4-4526-adba-e09872be4f30",
   "metadata": {},
   "outputs": [
    {
     "name": "stdout",
     "output_type": "stream",
     "text": [
      "The average score is 88.4.\n"
     ]
    }
   ],
   "source": [
    "# function \n",
    "def average(numbers): \n",
    "  return sum(numbers) / len(numbers)\n",
    "\n",
    "# data\n",
    "scores = [80, 90, 95, 92, 85]\n",
    "\n",
    "# User has to know which data to pass into function\n",
    "# to get desired output\n",
    "print(f'The average score is {average(scores)}.')"
   ]
  },
  {
   "cell_type": "markdown",
   "id": "2781c4e5-75af-4aee-bf7b-6533f0988d9e",
   "metadata": {},
   "source": [
    "## Object-Oriented Programming Example"
   ]
  },
  {
   "cell_type": "markdown",
   "id": "914964c4-70a5-45e8-a179-5c8f4d5478d5",
   "metadata": {},
   "source": [
    "- Define a new class that will contain both the data and the function to manipulate it. \n",
    "- So put the scores list and the average function inside a class.\n",
    "- No difference in the actual calculation, only that the code is organized differently."
   ]
  },
  {
   "cell_type": "code",
   "execution_count": 3,
   "id": "202630bf-7527-4916-bcba-306761a265f5",
   "metadata": {},
   "outputs": [
    {
     "name": "stdout",
     "output_type": "stream",
     "text": [
      "The final score is 88.4.\n"
     ]
    }
   ],
   "source": [
    "class ScoreList():\n",
    "  def __init__(self, scores):\n",
    "    self.scores = scores\n",
    "\n",
    "  def average(self):\n",
    "    return sum(self.scores) / len(self.scores)\n",
    "\n",
    "scores = ScoreList([80, 90, 95, 92, 85]) \n",
    "print(f'The final score is {scores.average()}.')   "
   ]
  },
  {
   "cell_type": "markdown",
   "id": "7bf3d3a2-e974-4560-9423-a64c9a39a947",
   "metadata": {},
   "source": [
    "## Benefits of OOP"
   ]
  },
  {
   "cell_type": "markdown",
   "id": "17dba6a2-5acf-46ab-9b2d-f2cbd97e3927",
   "metadata": {},
   "source": [
    "- We can organize our code into distinct objects, so each object handles storing and manipulating the data. \n",
    "- We can create hierarchies of classes where each child inherits from its parent class attributes and methods, reducing code repetition and improves code maintainability."
   ]
  },
  {
   "cell_type": "markdown",
   "id": "49a75144-4680-422b-963f-be4bed9d0388",
   "metadata": {},
   "source": [
    "## Thoughts on OOP"
   ]
  },
  {
   "cell_type": "markdown",
   "id": "d53dd508-772c-4a89-b6e0-8abccae04dba",
   "metadata": {},
   "source": [
    "- In Python everything is an object, which means every entity has some attributes and associated functionality called methods. This means that `str` and `dict` are classes that know how to store data and how to operate on them. \n",
    "- Do not overdo OOP. It is possible to create a very large object which then basically functions like a procedural system disguised as an object-oriented one. "
   ]
  },
  {
   "cell_type": "markdown",
   "id": "ec0dd960-377b-4277-9bd9-c9fe9510f826",
   "metadata": {},
   "source": [
    "## Data Class Builders"
   ]
  },
  {
   "cell_type": "markdown",
   "id": "09d0e1df-062b-4d65-9c54-e1802ad0dce0",
   "metadata": {
    "tags": []
   },
   "source": [
    "### namedtuple\n",
    "\n",
    "- Sometimes you want to build a class that simply contains data and no added functionality. For this, use use `namedtuple`.\n",
    "- Right away we notice that a `namedtuple` provides a useful representation of the object."
   ]
  },
  {
   "cell_type": "code",
   "execution_count": 4,
   "id": "36471275-6f66-4392-af81-90b37f82b7a9",
   "metadata": {},
   "outputs": [
    {
     "name": "stdout",
     "output_type": "stream",
     "text": [
      "<__main__.Point object at 0x7fedb84dcb80>\n",
      "<__main__.Point object at 0x7fedb84dfd30>\n",
      "False\n",
      "False\n"
     ]
    }
   ],
   "source": [
    "class Point:\n",
    "    def __init__(self, x, y):\n",
    "        self.x = x\n",
    "        self.y = y\n",
    "\n",
    "p1 = Point(10, 10)\n",
    "p2 = Point(10, 10)\n",
    "print(p1)\n",
    "print(p2)\n",
    "print(p1 == p2)\n",
    "print(p1 is p2)"
   ]
  },
  {
   "cell_type": "code",
   "execution_count": 5,
   "id": "aa981f7e-0d69-44ad-82eb-17e6da40c6df",
   "metadata": {},
   "outputs": [
    {
     "name": "stdout",
     "output_type": "stream",
     "text": [
      "Point(x=10, y=10)\n",
      "Point(x=10, y=10)\n",
      "True\n",
      "False\n"
     ]
    }
   ],
   "source": [
    "from collections import namedtuple\n",
    "Point = namedtuple('Point', 'x y')\n",
    "\n",
    "p1 = Point(10, 10)\n",
    "p2 = Point(10, 10)\n",
    "print(p1)\n",
    "print(p2)\n",
    "print(p1 == p2)\n",
    "print(p1 is p2)"
   ]
  },
  {
   "cell_type": "markdown",
   "id": "db948883-a95c-496b-ac2e-154e34f8bbd5",
   "metadata": {},
   "source": [
    "### Equality vs Reference\n",
    "\n",
    "- `==` is for value equality\n",
    "- `is` is for reference equality"
   ]
  },
  {
   "cell_type": "code",
   "execution_count": 6,
   "id": "588d0ef3-1c73-4ba3-973a-2b7a75de9dc9",
   "metadata": {},
   "outputs": [
    {
     "name": "stdout",
     "output_type": "stream",
     "text": [
      "True\n",
      "True\n",
      "True\n",
      "False\n"
     ]
    }
   ],
   "source": [
    "x = {1: 2, 3:4}\n",
    "y = x\n",
    "print(x == y)\n",
    "print(x is y)\n",
    "\n",
    "x = {3:4, 1:2}\n",
    "y = {1:2, 3:4}\n",
    "print(x == y)\n",
    "print(x is y)"
   ]
  },
  {
   "cell_type": "markdown",
   "id": "82f5030d-b07d-4e69-9ca4-fddd51a44030",
   "metadata": {},
   "source": [
    "### Passing in a mutable object to a class "
   ]
  },
  {
   "cell_type": "code",
   "execution_count": 7,
   "id": "150841f2-bcf1-4cc2-8265-cc9a6e779710",
   "metadata": {},
   "outputs": [
    {
     "name": "stdout",
     "output_type": "stream",
     "text": [
      "The final score is 88.4.\n",
      "The final score is 89.25.\n"
     ]
    }
   ],
   "source": [
    "class ScoreList():\n",
    "    def __init__(self, scores):\n",
    "        self.scores = scores\n",
    "\n",
    "    def average(self):\n",
    "        return sum(self.scores) / len(self.scores)\n",
    "\n",
    "l1 = [80, 90, 95, 92, 85]\n",
    "scores = ScoreList(l1) \n",
    "print(f'The final score is {scores.average()}.') \n",
    "l1.pop()\n",
    "print(f'The final score is {scores.average()}.') "
   ]
  },
  {
   "cell_type": "markdown",
   "id": "70ff7120-c979-4592-be3b-faba3f2a6b74",
   "metadata": {},
   "source": [
    "### __repr__ vs __str__\n",
    "- `__repr__` - a method that returns a string containing\n",
    "an object's printed representation. Its purpose is to unambiguous\n",
    "- `__str__` - a method that also returns a string representation of an object, but it is supposed to be human readable. \n",
    "- `print()` will first try to use `__str__`. If that is not available, then it will use `__repr__`. That if that is not available, then it will use the parents `__repr__`. "
   ]
  },
  {
   "cell_type": "code",
   "execution_count": 8,
   "id": "16f1f1f9-6e40-49f1-b7ca-6e41247e82f9",
   "metadata": {},
   "outputs": [
    {
     "name": "stdout",
     "output_type": "stream",
     "text": [
      "__str__: 1\n"
     ]
    },
    {
     "data": {
      "text/plain": [
       "__repr__: 1"
      ]
     },
     "execution_count": 8,
     "metadata": {},
     "output_type": "execute_result"
    }
   ],
   "source": [
    "class a:\n",
    "    def __init__(self, value):\n",
    "        self.value = value\n",
    "    \n",
    "    def __repr__(self):\n",
    "        return f'__repr__: {self.value}'\n",
    "        \n",
    "    def __str__(self):\n",
    "        return f'__str__: {self.value}'\n",
    "\n",
    "print(a(1))\n",
    "a(1)"
   ]
  },
  {
   "cell_type": "markdown",
   "id": "40012dd7-f7fc-4950-94f9-7d4d8f8ad1cd",
   "metadata": {},
   "source": [
    "### NamedTuple\n",
    "\n",
    "- You can also use the `NamedTuple` class to build a data class. The benefit is that you can overwrite default functions, for example `__str__`. \n",
    "- Equality is meaningful and now you control what is printed\n",
    "- `namedtuple` and `NamedTuple` are immutable!"
   ]
  },
  {
   "cell_type": "markdown",
   "id": "e03236c2-5ef8-49a5-bdbd-d7ce71811519",
   "metadata": {},
   "source": [
    "### Dataclass\n",
    "\n",
    "- A third way to build a data class is to use the `dataclass` operator\n",
    "- `dataclasses` are mutable by default. You can make them immutable by passing in an optional argument, `@dataclass(frozen=True)`"
   ]
  },
  {
   "cell_type": "code",
   "execution_count": 9,
   "id": "a0582dc5-2959-4b36-afe8-a578ebd5ad12",
   "metadata": {},
   "outputs": [
    {
     "name": "stdout",
     "output_type": "stream",
     "text": [
      "x: 10; y: 10\n",
      "x: 10; y: 10\n",
      "True\n",
      "False\n"
     ]
    }
   ],
   "source": [
    "from dataclasses import dataclass\n",
    "\n",
    "@dataclass\n",
    "class Point:\n",
    "    x: int\n",
    "    y: int\n",
    "\n",
    "    def __str__(self):\n",
    "        return f'x: {self.x}; y: {self.y}'\n",
    "\n",
    "p1 = Point(10, 10)\n",
    "p2 = Point(10, 10)\n",
    "print(p1)\n",
    "print(p2)\n",
    "print(p1 == p2)\n",
    "print(p1 is p2)"
   ]
  },
  {
   "cell_type": "code",
   "execution_count": 10,
   "id": "30ad1a9e-1705-45f6-9f9e-f224e251d91b",
   "metadata": {},
   "outputs": [],
   "source": [
    "from dataclasses import dataclass\n",
    "\n",
    "@dataclass\n",
    "class InventoryItem:\n",
    "    \"\"\"Class for keeping track of an item in inventory.\"\"\"\n",
    "    name: str\n",
    "    unit_price: float\n",
    "    quantity_on_hand: int = 0\n",
    "\n",
    "    def total_cost(self) -> float:\n",
    "        return self.unit_price * self.quantity_on_hand"
   ]
  },
  {
   "cell_type": "code",
   "execution_count": 11,
   "id": "5b92362c-501c-4b9e-a6a3-9744d62ddefc",
   "metadata": {},
   "outputs": [],
   "source": [
    "class InventoryItem:\n",
    "    def __init__(self, name: str, unit_price: float, quantity_on_hand: int = 0):\n",
    "        self.name = name\n",
    "        self.unit_price = unit_price\n",
    "        self.quantity_on_hand = quantity_on_hand"
   ]
  },
  {
   "cell_type": "markdown",
   "id": "532461b8-4278-4a8f-81a8-aa84b902897f",
   "metadata": {},
   "source": [
    "## Getting data as a dict"
   ]
  },
  {
   "cell_type": "code",
   "execution_count": 15,
   "id": "ea363f76-0e8e-4c27-9781-121e3e8be755",
   "metadata": {},
   "outputs": [
    {
     "name": "stdout",
     "output_type": "stream",
     "text": [
      "{'x': 10, 'y': 12}\n",
      "{'x': 10, 'y': 12}\n",
      "{'x': 10, 'y': 12}\n"
     ]
    }
   ],
   "source": [
    "from collections import namedtuple\n",
    "from typing import NamedTuple\n",
    "import dataclasses\n",
    "from dataclasses import dataclass\n",
    "\n",
    "\n",
    "Pointnamedtuple = namedtuple('Point', 'x y')\n",
    "\n",
    "\n",
    "class PointNamedTuple(NamedTuple):\n",
    "    x: int\n",
    "    y: int\n",
    "\n",
    "    def __str__(self):\n",
    "        return f'x: {self.x}; y: {self.y}'\n",
    "\n",
    "@dataclass\n",
    "class Pointdataclass:\n",
    "    x: int\n",
    "    y: int\n",
    "\n",
    "    def __str__(self):\n",
    "        return f'x: {self.x}; y: {self.y}'\n",
    "\n",
    "p1 = Pointnamedtuple(10, 12)\n",
    "p2 = PointNamedTuple(10, 12)\n",
    "p3 = Pointdataclass(10, 12)\n",
    "print(p1._asdict())\n",
    "print(p2._asdict())\n",
    "print(dataclasses.asdict(p3))"
   ]
  },
  {
   "cell_type": "markdown",
   "id": "93b0ff4b-3f1d-48bb-a7a0-8ddae5643798",
   "metadata": {},
   "source": [
    "## Replacing values in an immutable data class\n",
    "\n",
    "- Returns a new object"
   ]
  },
  {
   "cell_type": "code",
   "execution_count": 16,
   "id": "d058d94f-1161-403a-a9ff-e58a6ffefcd7",
   "metadata": {},
   "outputs": [
    {
     "name": "stdout",
     "output_type": "stream",
     "text": [
      "Point(x=5, y=12)\n",
      "x: 5; y: 12\n",
      "x: 5; y: 12\n"
     ]
    }
   ],
   "source": [
    "from collections import namedtuple\n",
    "from typing import NamedTuple\n",
    "import dataclasses\n",
    "from dataclasses import dataclass\n",
    "\n",
    "\n",
    "Pointnamedtuple = namedtuple('Point', 'x y')\n",
    "\n",
    "\n",
    "class PointNamedTuple(NamedTuple):\n",
    "    x: int\n",
    "    y: int\n",
    "\n",
    "    def __str__(self):\n",
    "        return f'x: {self.x}; y: {self.y}'\n",
    "\n",
    "@dataclass\n",
    "class Pointdataclass:\n",
    "    x: int\n",
    "    y: int\n",
    "\n",
    "    def __str__(self):\n",
    "        return f'x: {self.x}; y: {self.y}'\n",
    "\n",
    "p1 = Pointnamedtuple(10, 12)\n",
    "p2 = PointNamedTuple(10, 12)\n",
    "p3 = Pointdataclass(10, 12)\n",
    "print(p1._replace(x=5))\n",
    "print(p2._replace(x=5))\n",
    "print(dataclasses.replace(p3, x=5))"
   ]
  },
  {
   "cell_type": "markdown",
   "id": "278fb00b-108e-4180-8452-af20b054d7a1",
   "metadata": {},
   "source": [
    "## Default values in data classes"
   ]
  },
  {
   "cell_type": "code",
   "execution_count": 17,
   "id": "f7a9d1a6-7ddb-4531-a865-a28cbf6c373d",
   "metadata": {},
   "outputs": [
    {
     "name": "stdout",
     "output_type": "stream",
     "text": [
      "Point(x=5, y=10)\n",
      "x: 5; y: 10\n",
      "x: 5; y: 10\n"
     ]
    }
   ],
   "source": [
    "from collections import namedtuple\n",
    "from typing import NamedTuple\n",
    "from dataclasses import dataclass\n",
    "\n",
    "\n",
    "Pointnamedtuple = namedtuple('Point', 'x y', defaults=[5, 10])\n",
    "\n",
    "\n",
    "class PointNamedTuple(NamedTuple):\n",
    "    x: int = 5\n",
    "    y: int = 10\n",
    "\n",
    "    def __str__(self):\n",
    "        return f'x: {self.x}; y: {self.y}'\n",
    "\n",
    "@dataclass\n",
    "class Pointdataclass:\n",
    "    x: int = 5\n",
    "    y: int = 10\n",
    "\n",
    "    def __str__(self):\n",
    "        return f'x: {self.x}; y: {self.y}'\n",
    "\n",
    "p1 = Pointnamedtuple()\n",
    "p2 = PointNamedTuple()\n",
    "p3 = Pointdataclass()\n",
    "print(p1)\n",
    "print(p2)\n",
    "print(p3)"
   ]
  },
  {
   "cell_type": "markdown",
   "id": "910ce67c-5be9-4a16-94ab-ec9cb2f80df5",
   "metadata": {},
   "source": [
    "If you are using lots of data classes and have processing logic elsewhere, then you should probably not use a dataclass and put the processing logic and data together. "
   ]
  },
  {
   "cell_type": "markdown",
   "id": "12a7ef19-7e5f-4e2c-b850-7b5aa985bb74",
   "metadata": {},
   "source": [
    "## Example"
   ]
  },
  {
   "cell_type": "code",
   "execution_count": 19,
   "id": "ba6b70c3-b3f4-43b9-b96a-d511b59e13e3",
   "metadata": {},
   "outputs": [
    {
     "name": "stdout",
     "output_type": "stream",
     "text": [
      "john doe\n",
      "Already enrolled in Math!\n",
      "Already enrolled in Math!\n",
      "You will be over the max credits! Cannot add Chemistry.\n",
      "Cannot enroll\n",
      "You will be over the max credits! Cannot add English.\n",
      "Cannot enroll\n",
      "You will be over the max credits! Cannot add Physics.\n",
      "Chemistry, Math, Math\n"
     ]
    }
   ],
   "source": [
    "class Person:\n",
    "    def __init__(self, first_name, last_name, email):\n",
    "        self.first_name = first_name\n",
    "        self.last_name = last_name\n",
    "        self.email = email\n",
    "\n",
    "    def __repr__(self):\n",
    "        return f'{self.first_name} {self.last_name}'\n",
    "\n",
    "    def get_email(self):\n",
    "        return self.email\n",
    "\n",
    "    def get_full_name(self):\n",
    "        return f'{self.last_name}, {self.first_name}'\n",
    "\n",
    "class Student(Person):\n",
    "    PROGRAMS = ['graduate', 'undergraduate']\n",
    "    MAX_CREDITS = 9\n",
    "\n",
    "    def __init__(self, first_name, last_name, email, program):\n",
    "        super().__init__(first_name, last_name, email)\n",
    "        if program.lower() not in self.PROGRAMS:\n",
    "            raise ValueError('program can only be \"graduate\" or \"undergraduate\"')\n",
    "        self.program = program\n",
    "        self.classes = []\n",
    "        self.enrolled_credits = 0\n",
    "\n",
    "    def enroll(self, course):\n",
    "        if self.enrolled_credits < self.MAX_CREDITS:\n",
    "            self.classes.append(course)\n",
    "            self.enrolled_credits += course.credits\n",
    "        else:\n",
    "            print('Cannot enroll')\n",
    "        if self.get_total_credits() + course.credits > self.MAX_CREDITS:\n",
    "            print(f'You will be over the max credits! Cannot add {course}.')\n",
    "            return\n",
    "\n",
    "        if course not in self.classes:\n",
    "            self.classes.append(course)\n",
    "        else:\n",
    "            print(f'Already enrolled in {course}!')\n",
    "\n",
    "    def print_classes(self):\n",
    "        classes = ', '.join(sorted([i.course_name for i in self.classes]))\n",
    "        print(f'{classes}')\n",
    "\n",
    "\n",
    "    def get_total_credits(self):\n",
    "        total_credits = 0\n",
    "        for ele in self.classes:\n",
    "            total_credits += ele.credits\n",
    "        return total_credits\n",
    "\n",
    "class Course:\n",
    "    def __init__(self, course_name, credits):\n",
    "        self.course_name = course_name\n",
    "        self.credits = credits\n",
    "\n",
    "    def __repr__(self):\n",
    "        return f'{self.course_name}'\n",
    "\n",
    "    def __str__(self):\n",
    "        return f'{self.course_name}'\n",
    "\n",
    "\n",
    "    def get_course_name(self):\n",
    "        return self.course_name\n",
    "\n",
    "\n",
    "c1 = Course('Math', 3)\n",
    "c2 = Course('Physics', 4)\n",
    "c3 = Course('Chemistry', 3)\n",
    "c4 = Course('English', 3)\n",
    "\n",
    "s1 = Student('john', 'doe', 'jdoe@example.edu', 'graduate')\n",
    "print(s1)\n",
    "s1.enroll(c1)\n",
    "s1.enroll(c1)\n",
    "s1.enroll(c3)\n",
    "s1.enroll(c4)\n",
    "s1.enroll(c2)\n",
    "s1.print_classes()"
   ]
  },
  {
   "cell_type": "markdown",
   "id": "89b65dc5-2ae2-47c1-9434-e9da91948565",
   "metadata": {},
   "source": [
    "- super() - used to invoke parent class's methods"
   ]
  },
  {
   "cell_type": "markdown",
   "id": "55a9d5b0-3e60-4d9b-84b7-ea5e37208471",
   "metadata": {},
   "source": [
    "## Payroll system using polymorphism\n",
    "- Employee -- Abstract\n",
    "    - variables (properties)\n",
    "        - lastname\n",
    "        - firstname\n",
    "        - social_security_number\n",
    "    - functions (methods)\n",
    "        - __repr__ -- \n",
    "        - earnings() -- \n",
    "- SalariedEmployee -- inherits from Employee\n",
    "- CommissionEmployee -- inherits from Employee\n",
    "- HourlyEmployee -- inherits from Employee\n",
    "- BasePlusCommissionEmployee -- inherits from CommissionEmployee\n",
    "\n",
    "- Demonstrate polymorphism"
   ]
  },
  {
   "cell_type": "code",
   "execution_count": 20,
   "id": "c53a66cf-43dd-4bf6-a82e-e3ce1b740f54",
   "metadata": {},
   "outputs": [
    {
     "name": "stdout",
     "output_type": "stream",
     "text": [
      "Employees processed individually:\n",
      "\n",
      "salaried employee: John Smith\n",
      "social security: 111-11-1111\n",
      "weekly salary: $800\n",
      "earned: $800\n",
      "\n",
      "hourly employee: Karen Price\n",
      "social security: 222-22-2222\n",
      "hourly wage: $16.75; hours worked: 40\n",
      "earned: $670.0\n",
      "\n",
      "commission employee: Sue Jones\n",
      "social security: 333-33-3333\n",
      "gross sales: $10000; commission rate: 0.06\n",
      "earned: $600.0\n",
      "\n",
      "base-salaried commission employee: Bob Lewis\n",
      "social security: 444-44-4444\n",
      "gross sales: $5000; commission rate: 0.04; base-salary: $300\n",
      "earned: $500.0\n",
      "\n",
      "salaried employee: John Smith\n",
      "social security: 111-11-1111\n",
      "weekly salary: $800\n",
      "earned: $800\n",
      "\n",
      "hourly employee: Karen Price\n",
      "social security: 222-22-2222\n",
      "hourly wage: $16.75; hours worked: 40\n",
      "earned: $670.0\n",
      "\n",
      "commission employee: Sue Jones\n",
      "social security: 333-33-3333\n",
      "gross sales: $10000; commission rate: 0.06\n",
      "earned: $600.0\n",
      "\n",
      "base-salaried commission employee: Bob Lewis\n",
      "social security: 444-44-4444\n",
      "gross sales: $5000; commission rate: 0.04; base-salary: $300\n",
      "new base salary with 10% increase is 330.0\n",
      "earned: $530.0\n"
     ]
    }
   ],
   "source": [
    "# Java How to Program Deitel et. al\n",
    "\n",
    "from abc import ABC, abstractmethod\n",
    "\n",
    "\n",
    "class Employee(ABC):\n",
    "\n",
    "    def __init__(self, first_name, last_name, ssn):\n",
    "        self.first_name = first_name\n",
    "        self.last_name = last_name\n",
    "        self.ssn = ssn\n",
    "\n",
    "    @abstractmethod\n",
    "    def earnings(self):\n",
    "        pass\n",
    "\n",
    "    def __repr__(self):\n",
    "        return f'{self.first_name} {self.last_name}\\nsocial security: {self.ssn}'\n",
    "\n",
    "\n",
    "class SalariedEmployee(Employee):\n",
    "    def __init__(self, first_name, last_name, ssn, salary):\n",
    "        super().__init__(first_name, last_name, ssn)\n",
    "        self.weekly_salary = salary\n",
    "\n",
    "    def earnings(self):\n",
    "        return self.weekly_salary\n",
    "\n",
    "    def __repr__(self):\n",
    "        return f'salaried employee: {super().__repr__()}\\nweekly salary: ${self.weekly_salary}'\n",
    "\n",
    "\n",
    "class HourlyEmployee(Employee):\n",
    "    def __init__(self, first_name, last_name, ssn, hourly_wage, hours_worked):\n",
    "        super().__init__(first_name, last_name, ssn)\n",
    "        self.hourly_wage = hourly_wage\n",
    "        self.hours_worked = hours_worked\n",
    "\n",
    "    def earnings(self):\n",
    "        if self.hours_worked < 40:  # no overtime\n",
    "            earned = self.hourly_wage * self.hours_worked\n",
    "        else:\n",
    "            earned = 40 * self.hourly_wage + \\\n",
    "                (self.hours_worked - 40) * self.hourly_wage * 1.5\n",
    "\n",
    "        return earned\n",
    "\n",
    "    def __repr__(self):\n",
    "        return f'hourly employee: {super().__repr__()}\\nhourly wage: ${self.hourly_wage}; hours worked: {self.hours_worked}'\n",
    "\n",
    "\n",
    "class CommissionEmployee(Employee):\n",
    "    def __init__(self, first_name, last_name, ssn, sales, rate):\n",
    "        super().__init__(first_name, last_name, ssn)\n",
    "        self.sales = sales\n",
    "        self.rate = rate\n",
    "\n",
    "    def earnings(self):\n",
    "        earned = self.sales * self.rate\n",
    "        return earned\n",
    "\n",
    "    def __repr__(self):\n",
    "        return f'commission employee: {super().__repr__()}\\ngross sales: ${self.sales}; commission rate: {self.rate}'\n",
    "\n",
    "\n",
    "class BasePlusCommissionEmployee(CommissionEmployee):\n",
    "    def __init__(self, first_name, last_name, ssn, sales, rate, salary):\n",
    "        super().__init__(first_name, last_name, ssn, sales, rate)\n",
    "        self.salary = salary\n",
    "\n",
    "    def earnings(self):\n",
    "        earned = self.salary + super().earnings()\n",
    "        return earned\n",
    "\n",
    "    def __repr__(self):\n",
    "        return f'base-salaried {super().__repr__()}; base-salary: ${self.salary}'\n",
    "\n",
    "\n",
    "print('Employees processed individually:\\n')\n",
    "salaried_employee = SalariedEmployee('John', 'Smith', '111-11-1111', 800)\n",
    "print(salaried_employee)\n",
    "print(f'earned: ${salaried_employee.earnings()}')\n",
    "\n",
    "print()\n",
    "hourly_employee = HourlyEmployee('Karen', 'Price', '222-22-2222', 16.75, 40)\n",
    "print(hourly_employee)\n",
    "print(f'earned: ${hourly_employee.earnings()}')\n",
    "\n",
    "print()\n",
    "commission_employee = CommissionEmployee('Sue', 'Jones', '333-33-3333', 10000, 0.06)\n",
    "print(commission_employee)\n",
    "print(f'earned: ${commission_employee.earnings()}')\n",
    "\n",
    "\n",
    "print()\n",
    "base_plus_commission_employee = BasePlusCommissionEmployee('Bob', 'Lewis', '444-44-4444', 5000, 0.04, 300)\n",
    "print(base_plus_commission_employee)\n",
    "print(f'earned: ${base_plus_commission_employee.earnings()}')\n",
    "\n",
    "\n",
    "employees = [salaried_employee, hourly_employee,\n",
    "             commission_employee, base_plus_commission_employee]\n",
    "\n",
    "for employee in employees:\n",
    "    print()\n",
    "    print(employee)\n",
    "    if employee.__class__.__name__ == 'BasePlusCommissionEmployee':\n",
    "        employee.salary = 1.10 * employee.salary\n",
    "        print(f'new base salary with 10% increase is {employee.salary}')\n",
    "    print(f'earned: ${employee.earnings()}')"
   ]
  },
  {
   "cell_type": "markdown",
   "id": "b8b8340a-9277-4cd3-8483-b32a8e485876",
   "metadata": {},
   "source": [
    "## Operator overloading\n",
    "- We know how to create objects. Now we will learn how to define what +, -, or lte means for an object\n",
    "- add\n",
    "- gt\n",
    "- lt\n",
    "- eq\n",
    "- iterators https://www.programiz.com/python-programming/iterator\n",
    "- generators https://www.programiz.com/python-programming/generator"
   ]
  },
  {
   "cell_type": "markdown",
   "id": "fb325e30-d129-43a9-92cb-8372aa8fa4dc",
   "metadata": {},
   "source": [
    "### Basic Class"
   ]
  },
  {
   "cell_type": "code",
   "execution_count": 21,
   "id": "27bc3708-dea8-46c0-8746-944d169db80e",
   "metadata": {},
   "outputs": [
    {
     "name": "stdout",
     "output_type": "stream",
     "text": [
      "Circle with radius 10\n",
      "Circle with radius 5\n",
      "78.53981633974483\n"
     ]
    }
   ],
   "source": [
    "import math\n",
    "class Circle:\n",
    "\n",
    "    def __init__(self, radius):\n",
    "        self.radius = radius\n",
    "\n",
    "    def get_area(self):\n",
    "        return math.pi * self.radius**2\n",
    "\n",
    "\n",
    "    def __repr__(self):\n",
    "        return \"Circle with radius \" + str(self.radius)\n",
    "    def __str__(self):\n",
    "        return \"Circle with radius \" + str(self.radius)\n",
    "\n",
    "c1 = Circle(10)\n",
    "c2 = Circle(5)\n",
    "\n",
    "print(c1)\n",
    "print(c2)\n",
    "print(c2.get_area())"
   ]
  },
  {
   "cell_type": "markdown",
   "id": "402ae06d-5ab0-406a-a3b5-72a026831f9e",
   "metadata": {},
   "source": [
    "### Adding Add"
   ]
  },
  {
   "cell_type": "code",
   "execution_count": 22,
   "id": "3497a197-beec-48e7-aaef-59aa1c1da229",
   "metadata": {},
   "outputs": [
    {
     "name": "stdout",
     "output_type": "stream",
     "text": [
      "False\n",
      "11, 10\n",
      "5.385164807134504\n"
     ]
    }
   ],
   "source": [
    "class Circle:\n",
    "\n",
    "    def __init__(self, radius):\n",
    "        self.radius = radius\n",
    "\n",
    "    def get_area(self):\n",
    "        return math.pi * self.radius**2\n",
    "\n",
    "    def __str__(self):\n",
    "        return \"Circle with radius \" + str(self.radius)\n",
    "\n",
    "    def __add__(self, another_circle):\n",
    "        return Circle(self.radius + another_circle.radius)\n",
    "\n",
    "    def __gt__(self, another_circle):\n",
    "        return self.radius > another_circle.radius\n",
    "\n",
    "    def __lt__(self, another_circle):\n",
    "        return self.radius < another_circle.radius\n",
    "\n",
    "\n",
    "\n",
    "c1 = Circle(10)\n",
    "c2 = Circle(5)\n",
    "print(c1 < c2)\n",
    "\n",
    "\n",
    "\n",
    "class Point:\n",
    "    def __init__(self, x=0, y=0):\n",
    "        self.x = x\n",
    "        self.y = y\n",
    "\n",
    "    def __add__(self, another_point):\n",
    "        return Point(self.x + another_point.x, self.y + another_point.y)\n",
    "\n",
    "    def __sub__(self, another_point):\n",
    "        return Point(self.x - another_point.x, self.y - another_point.y)\n",
    "\n",
    "    def __str__(self):\n",
    "        return f'{self.x}, {self.y}'\n",
    "\n",
    "p1 = Point(3, 4)\n",
    "p2 = Point(8, 6)\n",
    "print(p2+p1)\n",
    "\n",
    "import math\n",
    "class Point:\n",
    "    def __init__(self, x=0, y=0):\n",
    "        self.x = x\n",
    "        self.y = y\n",
    "\n",
    "    def __add__(self, another_point):\n",
    "        return Point(self.x + another_point.x, self.y + another_point.y)\n",
    "\n",
    "    def __sub__(self, another_point):\n",
    "        return Point(self.x - another_point.x, self.y - another_point.y)\n",
    "\n",
    "    def length(self):\n",
    "        return math.sqrt(self.x**2 + self.y**2)\n",
    "\n",
    "    def distance(self, another_point):\n",
    "        return (self - another_point).length()\n",
    "\n",
    "    def __str__(self):\n",
    "        return f'{self.x}, {self.y}'\n",
    "\n",
    "p1 = Point(3, 4)\n",
    "p2 = Point(8, 6)\n",
    "print(p1.distance(p2))"
   ]
  },
  {
   "cell_type": "markdown",
   "id": "8bfd688a-1ec6-4c8c-96aa-304da09e8c07",
   "metadata": {},
   "source": [
    "### Iterator Class"
   ]
  },
  {
   "cell_type": "code",
   "execution_count": 30,
   "id": "affc92c8-452b-4d8b-aaad-aa46837a91d7",
   "metadata": {},
   "outputs": [
    {
     "name": "stdout",
     "output_type": "stream",
     "text": [
      "0\n",
      "1\n",
      "2\n",
      "3\n",
      "4\n",
      "5\n",
      "6\n",
      "7\n",
      "8\n",
      "9\n",
      "0\n",
      "1\n",
      "8\n",
      "27\n",
      "64\n",
      "125\n",
      "216\n",
      "343\n",
      "512\n",
      "729\n",
      "0\n",
      "1\n",
      "8\n",
      "27\n",
      "64\n",
      "125\n",
      "216\n",
      "343\n",
      "512\n",
      "729\n",
      "0\n",
      "8\n",
      "64\n",
      "216\n",
      "512\n"
     ]
    }
   ],
   "source": [
    "class MyRange:\n",
    "\n",
    "    def __init__(self, limit):\n",
    "        self.limit = limit\n",
    "\n",
    "    def __iter__(self):\n",
    "        self.value = 0\n",
    "        return self\n",
    "\n",
    "    def __next__(self):\n",
    "        if self.value < self.limit:\n",
    "            output = self.value\n",
    "            self.value += 1\n",
    "            return output\n",
    "        else:\n",
    "            raise StopIteration\n",
    "\n",
    "\n",
    "i = iter(MyRange(10))\n",
    "next(i)\n",
    "for ele in MyRange(10):\n",
    "    print(ele)\n",
    "\n",
    "\n",
    "class PowX:\n",
    "    def __init__(self, limit, power):\n",
    "        self.limit = limit\n",
    "        self.power = power\n",
    "\n",
    "    def __iter__(self):\n",
    "        self.value = 0\n",
    "        return self\n",
    "\n",
    "    def __next__(self):\n",
    "        if self.value < self.limit:\n",
    "            output = self.value**self.power\n",
    "            self.value += 1\n",
    "            return output\n",
    "        else:\n",
    "            raise StopIteration\n",
    "\n",
    "\n",
    "for ele in PowX(10, 3):\n",
    "    print(ele)\n",
    "\n",
    "\n",
    "## lets use generator\n",
    "\n",
    "def PowX(limit, power):\n",
    "    value = 0\n",
    "    while value < limit:\n",
    "        yield value**power\n",
    "        value += 1\n",
    "\n",
    "for ele in PowX(10, 3):\n",
    "    print(ele)\n",
    "    \n",
    "numbers = PowX(10,3)\n",
    "new_list = []\n",
    "for number in numbers:\n",
    "    if number % 2 == 0:\n",
    "        new_list.append(number)\n",
    "        print(number)"
   ]
  },
  {
   "cell_type": "markdown",
   "id": "58fd92f4-3cc7-4d72-ac90-c47dd6093002",
   "metadata": {},
   "source": [
    "## Self"
   ]
  },
  {
   "cell_type": "markdown",
   "id": "4f6f2621-c6eb-4450-b099-295f13606961",
   "metadata": {},
   "source": [
    "- `self` is a reference to an instance of a class. You can use `self` to access attributes and methods bound to an instance.\n",
    "- class variable vs instance variable (https://www.digitalocean.com/community/tutorials/understanding-class-and-instance-variables-in-python-3)\n",
    "- staticmethods vs class methods"
   ]
  },
  {
   "cell_type": "code",
   "execution_count": 31,
   "id": "60a8bfa9-dda8-42ee-ace4-ffa5c8143df6",
   "metadata": {},
   "outputs": [
    {
     "name": "stdout",
     "output_type": "stream",
     "text": [
      "\n",
      "Print class_variable\n",
      "t1.class_variable:  1\n",
      "t2.class_variable:  1\n",
      "\n",
      "Change class_variable in class definition and print class_variable\n",
      "t1.class_variable:  2\n",
      "t2.class_variable:  2\n",
      "\n",
      "Change class_variable in instance t1 and print class_variable\n",
      "t1.class_variable:  3\n",
      "t2.class_variable:  2\n",
      "\n",
      "Change class_variable in instance t2 and print class_variable\n",
      "t1.class_variable:  3\n",
      "t2.class_variable:  4\n",
      "\n",
      " ------------------------------------------------------------ \n",
      "\n",
      "\n",
      "Print class_variable\n",
      "t1.class_variable:  1\n",
      "t2.class_variable:  1\n",
      "\n",
      "Print instance_variable\n",
      "t1.instance_variable:  1\n",
      "t2.instance_variable:  2\n",
      "\n",
      "Change class_variable in class definition and print class_variable\n",
      "t1.class_variable:  2\n",
      "t1.class_variable:  2\n",
      "\n",
      "Change instance_variable for t1 and print instance_variable\n",
      "t1.instance_variable:  10\n",
      "t2.instance_variable:  2\n",
      "\n",
      "Change instance_variable for t2 and print instance_variable\n",
      "t1.instance_variable:  10\n",
      "t2.instance_variable:  20\n",
      "\n",
      "Change class_variable in instance t1 and print class_variable\n",
      "t1.class_variable:  3\n",
      "t2.class_variable:  2\n",
      "\n",
      "Change class_variable in instance t2 and print class_variable\n",
      "t1.class_variable:  3\n",
      "t2.class_variable:  4\n",
      "\n",
      " ------------------------------------------------------------ \n",
      "\n",
      "@staticmethod add:  7\n",
      "@staticmethod add:  7\n",
      "\n",
      " ------------------------------------------------------------ \n",
      "\n",
      "@classmethod add:  11\n",
      "@classmethod add -- access to class variable:  12\n",
      "\n",
      " ------------------------------------------------------------ \n",
      "\n",
      "add_static:  27\n",
      "add_class:  28\n",
      "Call from class -- add_object:  57\n",
      "Call from object -- add_object:  57\n"
     ]
    }
   ],
   "source": [
    "class TestClass:\n",
    "    class_variable = 1 # Belongs to the class. Shared by all instances\n",
    "\n",
    "\n",
    "\n",
    "t1 = TestClass()\n",
    "t2 = TestClass()\n",
    "\n",
    "\n",
    "print('\\nPrint class_variable')\n",
    "print('t1.class_variable: ', t1.class_variable)\n",
    "print('t2.class_variable: ', t2.class_variable)\n",
    "\n",
    "\n",
    "print('\\nChange class_variable in class definition and print class_variable')\n",
    "TestClass.class_variable = 2\n",
    "print('t1.class_variable: ', t1.class_variable)\n",
    "print('t2.class_variable: ', t2.class_variable)\n",
    "\n",
    "\n",
    "print('\\nChange class_variable in instance t1 and print class_variable')\n",
    "t1.class_variable = 3\n",
    "print('t1.class_variable: ', t1.class_variable)\n",
    "print('t2.class_variable: ', t2.class_variable)\n",
    "\n",
    "\n",
    "print('\\nChange class_variable in instance t2 and print class_variable')\n",
    "t2.class_variable = 4\n",
    "print('t1.class_variable: ', t1.class_variable)\n",
    "print('t2.class_variable: ', t2.class_variable)\n",
    "\n",
    "\n",
    "print('\\n', '-'*60, '\\n')\n",
    "\n",
    "class TestClass:\n",
    "    class_variable = 1 # Belongs to the class. Shared by all instances\n",
    "\n",
    "    def __init__(self, instance_variable):\n",
    "        self.instance_variable = instance_variable\n",
    "\n",
    "\n",
    "t1 = TestClass(1)\n",
    "t2 = TestClass(2)\n",
    "\n",
    "\n",
    "print('\\nPrint class_variable')\n",
    "print('t1.class_variable: ', t1.class_variable)\n",
    "print('t2.class_variable: ', t2.class_variable)\n",
    "\n",
    "print('\\nPrint instance_variable')\n",
    "print('t1.instance_variable: ', t1.instance_variable)\n",
    "print('t2.instance_variable: ', t2.instance_variable)\n",
    "\n",
    "\n",
    "print('\\nChange class_variable in class definition and print class_variable')\n",
    "TestClass.class_variable = 2\n",
    "print('t1.class_variable: ', t1.class_variable)\n",
    "print('t1.class_variable: ', t2.class_variable)\n",
    "\n",
    "\n",
    "print('\\nChange instance_variable for t1 and print instance_variable')\n",
    "t1.instance_variable = 10\n",
    "print('t1.instance_variable: ', t1.instance_variable)\n",
    "print('t2.instance_variable: ', t2.instance_variable)\n",
    "\n",
    "print('\\nChange instance_variable for t2 and print instance_variable')\n",
    "t2.instance_variable = 20\n",
    "print('t1.instance_variable: ', t1.instance_variable)\n",
    "print('t2.instance_variable: ', t2.instance_variable)\n",
    "\n",
    "\n",
    "print('\\nChange class_variable in instance t1 and print class_variable')\n",
    "t1.class_variable = 3\n",
    "print('t1.class_variable: ', t1.class_variable)\n",
    "print('t2.class_variable: ', t2.class_variable)\n",
    "\n",
    "\n",
    "print('\\nChange class_variable in instance t2 and print class_variable')\n",
    "t2.class_variable = 4\n",
    "print('t1.class_variable: ', t1.class_variable)\n",
    "print('t2.class_variable: ', t2.class_variable)\n",
    "\n",
    "\n",
    "\n",
    "print('\\n', '-'*60, '\\n')\n",
    "\n",
    "\n",
    "class TestClass:\n",
    "    class_variable = 1\n",
    "\n",
    "    # @staticmethod are bound to class rather than object. Therefore, to use them, you do not have\n",
    "    # to instantiate an object.\n",
    "    # NOTE: staticmethods do no have access to class properties (variables or methods).\n",
    "    # This means they cannot access class_variable.\n",
    "    # Such methods are used when you do not want subclasses to change/overwrite a specific method.\n",
    "\n",
    "    @staticmethod\n",
    "    def add(number1, number2):\n",
    "        return number1 + number2\n",
    "\n",
    "\n",
    "print('@staticmethod add: ', TestClass.add(3,4))\n",
    "\n",
    "\n",
    "class TestClass2:\n",
    "    class_variable = 1\n",
    "\n",
    "    # @staticmethod are bound to class rather than object. Therefore, to use them, you do not have\n",
    "    # to instantiate an object.\n",
    "    # NOTE: staticmethods do no have access to class properties (variables or methods).\n",
    "    # This means they cannot access class_variable.\n",
    "    # Such methods are used when you do not want subclasses to change/overwrite a specific method.\n",
    "\n",
    "    @staticmethod\n",
    "    def add(number1, number2):\n",
    "        return number1 + number2# + class_variable\n",
    "\n",
    "print('@staticmethod add: ', TestClass2.add(3,4))\n",
    "print('\\n', '-'*60, '\\n')\n",
    "\n",
    "class TestClass:\n",
    "    class_variable = 1\n",
    "\n",
    "    # @classmethod are bound to class rather than object. Therefore, to use them, you do not have\n",
    "    # to instantiate an object.\n",
    "    # NOTE: Unlike staticmethods, classmethods do have access to class properties (variables or methods).\n",
    "    # This means they can access class_variable.\n",
    "\n",
    "    @classmethod\n",
    "    def add(cls, number1, number2):\n",
    "        return number1 + number2\n",
    "print('@classmethod add: ', TestClass.add(5,6))\n",
    "\n",
    "\n",
    "\n",
    "class TestClass2:\n",
    "    class_variable = 1\n",
    "\n",
    "    # @classmethod are bound to class rather than object. Therefore, to use them, you do not have\n",
    "    # to instantiate an object.\n",
    "    # NOTE: Unlike staticmethods, classmethods do have access to class properties (variables or methods).\n",
    "    # This means they can access class_variable.\n",
    "\n",
    "    @classmethod\n",
    "    def add(cls, number1, number2):\n",
    "        return number1 + number2 + cls.class_variable\n",
    "\n",
    "print('@classmethod add -- access to class variable: ', TestClass2.add(5,6))\n",
    "\n",
    "\n",
    "print('\\n', '-'*60, '\\n')\n",
    "\n",
    "\n",
    "class TestClass:\n",
    "    class_variable = 1\n",
    "\n",
    "    @staticmethod\n",
    "    def add_static(number1, number2):\n",
    "        return number1 + number2\n",
    "\n",
    "    @classmethod\n",
    "    def add_class(cls, number1, number2):\n",
    "        return number1 + number2 + cls.class_variable\n",
    "\n",
    "\n",
    "    def add_object(self, number1, number2):\n",
    "        return number1 + number2 + self.class_variable + 29\n",
    "\n",
    "\n",
    "print('add_static: ', TestClass.add_static(13,14))\n",
    "print('add_class: ', TestClass.add_class(13,14))\n",
    "\n",
    "\n",
    "t1 = TestClass()\n",
    "\n",
    "print('Call from class -- add_object: ', TestClass.add_object(t1, 13, 14))\n",
    "print('Call from object -- add_object: ', t1.add_object(13, 14))"
   ]
  },
  {
   "cell_type": "markdown",
   "id": "3ef28102-1656-4f86-8322-c1fd4ba6da4b",
   "metadata": {},
   "source": [
    "## Item assignment"
   ]
  },
  {
   "cell_type": "markdown",
   "id": "e5b046f1-453d-4865-85f8-d1f53a9beefb",
   "metadata": {},
   "source": [
    "- add functionality pass in multiple data; with and wihtout header   \n",
    "- add functionality to select multiple columns\n",
    "- add functionality to add two columns  \n",
    "- add functionality to take a mean of a column(s)  \n",
    "- add functionality to select rows   \n",
    "- add functionality slicing!"
   ]
  },
  {
   "cell_type": "code",
   "execution_count": 32,
   "id": "f6ab7478-d7b0-4db0-928d-dc44e6901a98",
   "metadata": {},
   "outputs": [],
   "source": [
    "class MyClass:\n",
    "    def __init__(self, **kwargs):\n",
    "        self.data = {}\n",
    "              \n",
    "    def __setitem__(self, key, value):\n",
    "        self.data[key] = value\n",
    "        \n",
    "    def __getitem__(self, key):\n",
    "        return self.data[key]   "
   ]
  }
 ],
 "metadata": {
  "kernelspec": {
   "display_name": "Python 3 (ipykernel)",
   "language": "python",
   "name": "python3"
  },
  "language_info": {
   "codemirror_mode": {
    "name": "ipython",
    "version": 3
   },
   "file_extension": ".py",
   "mimetype": "text/x-python",
   "name": "python",
   "nbconvert_exporter": "python",
   "pygments_lexer": "ipython3",
   "version": "3.10.11"
  }
 },
 "nbformat": 4,
 "nbformat_minor": 5
}
