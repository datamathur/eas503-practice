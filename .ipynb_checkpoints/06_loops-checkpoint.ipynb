{
 "cells": [
  {
   "cell_type": "markdown",
   "id": "50339aad-40bf-468b-b2a8-8da3590f320c",
   "metadata": {},
   "source": [
    "# CHAPTER 6 - LOOPS"
   ]
  },
  {
   "cell_type": "markdown",
   "id": "808a1484-2650-41c6-ae93-e163373787df",
   "metadata": {
    "jp-MarkdownHeadingCollapsed": true,
    "tags": []
   },
   "source": [
    "## LOOPS"
   ]
  },
  {
   "cell_type": "markdown",
   "id": "2132df82-ea9c-466d-85cf-02fabfe40a4e",
   "metadata": {},
   "source": [
    "```Python\n",
    "for <ele> in <sequence>:\n",
    "    <body>\n",
    "```\n",
    "\n",
    "- The loop index variable `ele` takes on each successive value in the sequence, and the statements in the body of the loop are executed once for each value.\n",
    "- For loops have a limitation -- you have to know how many times you are looping -- it is a definite loop. The number of iterations is determined when the loop starts. If you do not know how many times you will be looping, use a while loop, which is an indefinite loop that will continue to loop until its condition is no longer true.\n",
    "\n",
    "```Python\n",
    "while <condition>\n",
    "    <body>\n",
    "```"
   ]
  },
  {
   "cell_type": "markdown",
   "id": "e6801ec3-6e7e-450c-a014-eb1ca13b468b",
   "metadata": {
    "tags": []
   },
   "source": [
    "### Controlling Loops"
   ]
  },
  {
   "cell_type": "markdown",
   "id": "46e26392-b98f-4967-a278-5bc5ccda6ebd",
   "metadata": {},
   "source": [
    "- `break` - Used to break a loop\n",
    "- `continue` - Used to skip the current loop and go to the next value"
   ]
  },
  {
   "cell_type": "markdown",
   "id": "9a1444e0-8828-4425-90ae-72bd026ecf56",
   "metadata": {
    "tags": []
   },
   "source": [
    "### Range\n",
    "\n",
    "```Python\n",
    "range(start,stop,step) # [start:step:stop)\n",
    "```"
   ]
  },
  {
   "cell_type": "markdown",
   "id": "42169e3e-2c8d-4ac5-bbf5-247de504c2dc",
   "metadata": {
    "jp-MarkdownHeadingCollapsed": true,
    "tags": []
   },
   "source": [
    "### Examples"
   ]
  },
  {
   "cell_type": "code",
   "execution_count": 2,
   "id": "3bec5705-84b2-4c64-b6f9-491b19a23219",
   "metadata": {},
   "outputs": [
    {
     "name": "stdout",
     "output_type": "stream",
     "text": [
      "0\n",
      "1\n",
      "2\n",
      "3\n",
      "4\n"
     ]
    }
   ],
   "source": [
    "# Example 1\n",
    "values = [4, 10, 3, 8, -6]\n",
    "for i in range(len(values)):\n",
    "    print(i)"
   ]
  },
  {
   "cell_type": "code",
   "execution_count": 3,
   "id": "6ee6a7e1-7a19-45e4-a1a4-359379b4cde8",
   "metadata": {},
   "outputs": [
    {
     "name": "stdout",
     "output_type": "stream",
     "text": [
      "0 4\n",
      "1 10\n",
      "2 3\n",
      "3 8\n",
      "4 -6\n"
     ]
    }
   ],
   "source": [
    "# Example 2\n",
    "values = [4, 10, 3, 8, -6]\n",
    "for i in range(len(values)):\n",
    "    print(i, values[i])"
   ]
  },
  {
   "cell_type": "code",
   "execution_count": 4,
   "id": "f0ae0b82-ae7e-44ee-b2a8-6f942ca314bf",
   "metadata": {},
   "outputs": [
    {
     "name": "stdout",
     "output_type": "stream",
     "text": [
      "0 4\n",
      "1 10\n",
      "2 3\n",
      "3 8\n",
      "4 -6\n"
     ]
    }
   ],
   "source": [
    "# Example 3.1\n",
    "values = [4, 10, 3, 8, -6]\n",
    "for i in range(len(values)):\n",
    "    print(i, values[i])"
   ]
  },
  {
   "cell_type": "code",
   "execution_count": 5,
   "id": "53386fa7-2fe9-4e14-93d3-32cdb8fe5ef6",
   "metadata": {},
   "outputs": [
    {
     "name": "stdout",
     "output_type": "stream",
     "text": [
      "0 4\n",
      "1 10\n",
      "2 3\n",
      "3 8\n",
      "4 -6\n"
     ]
    }
   ],
   "source": [
    "# Example 3.2\n",
    "values = [4, 10, 3, 8, -6]\n",
    "for index, value in enumerate(values):\n",
    "    print(index, value)"
   ]
  },
  {
   "cell_type": "code",
   "execution_count": 6,
   "id": "d85c07d8-0bc5-435f-84e9-eb63346aaf03",
   "metadata": {},
   "outputs": [],
   "source": [
    "# Example 4\n",
    "values = [4, 10, 3, 8, -6]\n",
    "for i in range(len(values)):\n",
    "    values[i] = values[i] * 2"
   ]
  },
  {
   "cell_type": "code",
   "execution_count": 7,
   "id": "834ebf1b-9b43-4580-b9f1-3804e0092d9c",
   "metadata": {},
   "outputs": [
    {
     "name": "stdout",
     "output_type": "stream",
     "text": [
      "Li 6.941\n",
      "Na 22.98976928\n",
      "K 39.0983\n"
     ]
    }
   ],
   "source": [
    "# Example 5\n",
    "metals = ['Li', 'Na', 'K']\n",
    "weights = [6.941, 22.98976928, 39.0983]\n",
    "for i in range(len(metals)):\n",
    "    print(metals[i], weights[i])"
   ]
  },
  {
   "cell_type": "code",
   "execution_count": 8,
   "id": "f1728d72-9222-49c6-a392-c182d9b6c16a",
   "metadata": {},
   "outputs": [
    {
     "name": "stdout",
     "output_type": "stream",
     "text": [
      "Li 6.941\n",
      "Na 22.98976928\n",
      "K 39.0983\n"
     ]
    }
   ],
   "source": [
    "# Example 6\n",
    "metals = ['Li', 'Na', 'K']\n",
    "weights = [6.941, 22.98976928, 39.0983]\n",
    "for metal, weight in zip(metals, weights):\n",
    "    print(metal, weight)"
   ]
  },
  {
   "cell_type": "code",
   "execution_count": 9,
   "id": "f18baed3-ac89-4635-9c31-e04a5d37f5ed",
   "metadata": {},
   "outputs": [
    {
     "name": "stdout",
     "output_type": "stream",
     "text": [
      "Li\n",
      "Na\n",
      "K\n",
      "F\n",
      "Cl\n",
      "Br\n"
     ]
    }
   ],
   "source": [
    "# Example 7\n",
    "elements = [['Li', 'Na', 'K'], ['F', 'Cl', 'Br']]\n",
    "for inner_list in elements:\n",
    "    for item in inner_list:\n",
    "        print(item)"
   ]
  },
  {
   "cell_type": "code",
   "execution_count": 10,
   "id": "f3e887f3-eeab-40a1-9b59-a06638c680b9",
   "metadata": {},
   "outputs": [
    {
     "name": "stdout",
     "output_type": "stream",
     "text": [
      "3\n",
      "3\n",
      "4\n"
     ]
    }
   ],
   "source": [
    "# Example 8\n",
    "info = [\n",
    "    ['Isaac Newton', 1643, 1727],\n",
    "    ['Charles Darwin', 1809, 1882],\n",
    "    ['Alan Turing', 1912, 1954, 'alan@bletchley.uk']\n",
    "]\n",
    "for item in info:\n",
    "    print(len(item))"
   ]
  },
  {
   "cell_type": "code",
   "execution_count": 15,
   "id": "b56676bc-bfdf-448f-b89b-015d45036225",
   "metadata": {},
   "outputs": [
    {
     "name": "stdout",
     "output_type": "stream",
     "text": [
      "173\n"
     ]
    }
   ],
   "source": [
    "# Sum Numbers in an Array\n",
    "x = [1, 7, 3]\n",
    "\n",
    "sum = 0\n",
    "for ele in x:\n",
    "    sum = sum *10 + ele\n",
    "print(sum)"
   ]
  },
  {
   "cell_type": "code",
   "execution_count": 14,
   "id": "22e231f6-51c5-448e-8708-863d90406165",
   "metadata": {},
   "outputs": [
    {
     "name": "stdout",
     "output_type": "stream",
     "text": [
      "1134000234 0001123344 4433211000\n"
     ]
    }
   ],
   "source": [
    "# Sort without sorting\n",
    "string1 = '1134000234'\n",
    "string2 = ''.join(sorted([ele for ele in string1]))\n",
    "string3 = ''.join(sorted([ele for ele in string1], reverse=True))\n",
    "print(string1, string2, string3)"
   ]
  },
  {
   "cell_type": "code",
   "execution_count": 16,
   "id": "311fcb5f-a575-4486-b23e-cfabe9cfda3e",
   "metadata": {},
   "outputs": [
    {
     "name": "stdout",
     "output_type": "stream",
     "text": [
      "10\n"
     ]
    }
   ],
   "source": [
    "# How to sum an integer?\n",
    "number = 1234\n",
    "sum = 0\n",
    "while number:\n",
    "    sum += number % 10\n",
    "    number = number // 10 \n",
    "print(sum)"
   ]
  },
  {
   "cell_type": "markdown",
   "id": "ab5356d4-e3e3-4732-ab0b-6c80fc098b28",
   "metadata": {
    "tags": []
   },
   "source": [
    "### File Handling"
   ]
  },
  {
   "cell_type": "markdown",
   "id": "87a56484-feb3-44e7-99b8-31363cb565bc",
   "metadata": {},
   "source": [
    "```python\n",
    "with open(filename, 'r') as file:\n",
    "    for line in file:\n",
    "        if not line.strip(): # used for skipping empty lines!\n",
    "            continue\n",
    "        # do something with line\n",
    "```"
   ]
  },
  {
   "cell_type": "markdown",
   "id": "62f75295-2f00-453c-97ba-215b6c82b234",
   "metadata": {},
   "source": [
    "### Initial Values"
   ]
  },
  {
   "cell_type": "markdown",
   "id": "16610fa9-ae22-4205-bb65-cbcec1880563",
   "metadata": {},
   "source": [
    "Sometimes before the for loop code you to have initialize a variable to 0 or an empty list.\n",
    "1. If you want to calculate the average or sum of a list, for example, you would need to initialize a variable to zero and update it every time you access a new element in a list."
   ]
  },
  {
   "cell_type": "code",
   "execution_count": 19,
   "id": "b53b88ad-3ad0-48f9-a204-77c177fdb125",
   "metadata": {},
   "outputs": [],
   "source": [
    "total = 0\n",
    "count = 0\n",
    "my_list = [4, 10, 3, 8, -6]\n",
    "for value in my_list:\n",
    "   total += value\n",
    "   count += 1\n",
    "average = total / count"
   ]
  },
  {
   "cell_type": "markdown",
   "id": "587ebd45-9016-4d63-b05d-a311885c4c48",
   "metadata": {},
   "source": [
    "2. If you want to keep track of some values as you loop over some list, you might need to initialize an empty list. One example is removing duplicates from a sequence."
   ]
  },
  {
   "cell_type": "code",
   "execution_count": 22,
   "id": "87e75770-b5e6-48ac-88c0-9164b8ccbfeb",
   "metadata": {},
   "outputs": [
    {
     "name": "stdout",
     "output_type": "stream",
     "text": [
      "[0, 1, 2, 3, 4, 5, 6, 7, 8, 9]\n"
     ]
    }
   ],
   "source": [
    "unique_values = []\n",
    "for ele in range(0,10):\n",
    "    if ele not in unique_values:\n",
    "        unique_values.append(ele)\n",
    "print(unique_values)"
   ]
  },
  {
   "cell_type": "markdown",
   "id": "e9027892-668d-4d3e-97cd-51bf41b99203",
   "metadata": {
    "jp-MarkdownHeadingCollapsed": true,
    "tags": []
   },
   "source": [
    "## FOR LOOP EXERCISE"
   ]
  },
  {
   "cell_type": "markdown",
   "id": "5b86f1a4-72f3-4b24-9b1a-33f92fdea3d3",
   "metadata": {},
   "source": [
    "### Exercise 1\n",
    "Write a function that takes in a list of values and returns its sum"
   ]
  },
  {
   "cell_type": "code",
   "execution_count": 23,
   "id": "357dd890-dfe3-405b-bf0b-9aa01d355ebd",
   "metadata": {},
   "outputs": [
    {
     "name": "stdout",
     "output_type": "stream",
     "text": [
      "10\n"
     ]
    }
   ],
   "source": [
    "def sum_list(input_list):\n",
    "    summed_values = 0\n",
    "    for value in input_list:\n",
    "        summed_values += value\n",
    "\n",
    "    return summed_values\n",
    "\n",
    "\n",
    "print(sum_list([1, 2, 3, 4]))"
   ]
  },
  {
   "cell_type": "markdown",
   "id": "81e0734d-3323-44a1-8653-1787cd98f337",
   "metadata": {},
   "source": [
    "### Exercise 2\n",
    "Write a function that takes in a list of values and returns its average"
   ]
  },
  {
   "cell_type": "code",
   "execution_count": 27,
   "id": "f87bafcf-0bfc-43de-bdf5-e311b49c87c2",
   "metadata": {},
   "outputs": [
    {
     "name": "stdout",
     "output_type": "stream",
     "text": [
      "2.5\n"
     ]
    }
   ],
   "source": [
    "def avg_list(input_list):\n",
    "    summed_values = 0\n",
    "    number_of_values = 0\n",
    "    for value in input_list:\n",
    "        summed_values += value\n",
    "        number_of_values += 1\n",
    "\n",
    "    return summed_values / number_of_values\n",
    "\n",
    "\n",
    "print(avg_list([1, 2, 3, 4]))"
   ]
  },
  {
   "cell_type": "markdown",
   "id": "d3e45868-2efc-4459-8e1c-8082994fffc5",
   "metadata": {},
   "source": [
    "### Exercise 3\n",
    "Write a function that takes in a list of values and returns its average. Instead of using a for loop as in ex2, use sum_list() and len() to calculate the average"
   ]
  },
  {
   "cell_type": "code",
   "execution_count": 31,
   "id": "82dcf45b-1382-4a9c-9481-2b27b57d0af3",
   "metadata": {},
   "outputs": [
    {
     "name": "stdout",
     "output_type": "stream",
     "text": [
      "2.5\n"
     ]
    }
   ],
   "source": [
    "def avg_list(input_list):\n",
    "\n",
    "    return sum_list(input_list) / len(input_list)\n",
    "\n",
    "print(avg_list([1, 2, 3, 4]))"
   ]
  },
  {
   "cell_type": "markdown",
   "id": "4144a94b-2a7d-4728-bb32-05d6fb3cf59e",
   "metadata": {},
   "source": [
    "### Exercise 4\n",
    "Write a function that multiplies the elements of the list by two and returns them"
   ]
  },
  {
   "cell_type": "code",
   "execution_count": 32,
   "id": "e824a095-07dc-4f5c-b3e2-ad022ab53e19",
   "metadata": {},
   "outputs": [
    {
     "name": "stdout",
     "output_type": "stream",
     "text": [
      "[2, 4, 6, 8]\n"
     ]
    }
   ],
   "source": [
    "def multiply(input_list):\n",
    "    output = []\n",
    "\n",
    "    for ele in input_list:\n",
    "        output.append(ele * 2)\n",
    "\n",
    "    return output\n",
    "\n",
    "\n",
    "print(multiply([1, 2, 3, 4]))"
   ]
  },
  {
   "cell_type": "markdown",
   "id": "20e3fb38-1b69-43c3-8c6a-091984392980",
   "metadata": {},
   "source": [
    "### Exercise 5\n",
    "Write a pow() function that computes the power of each element in a list"
   ]
  },
  {
   "cell_type": "code",
   "execution_count": 33,
   "id": "ed3b8a29-d3b4-49d9-a4d5-fb1618364056",
   "metadata": {},
   "outputs": [
    {
     "name": "stdout",
     "output_type": "stream",
     "text": [
      "[1, 4, 9, 16]\n",
      "[1, 8, 27, 64]\n"
     ]
    }
   ],
   "source": [
    "def pow(input_list, power):\n",
    "    output = []\n",
    "\n",
    "    for ele in input_list:\n",
    "        output.append(ele ** power)\n",
    "\n",
    "    return output\n",
    "\n",
    "\n",
    "print(pow([1, 2, 3, 4], 2))\n",
    "print(pow([1, 2, 3, 4], 3))"
   ]
  },
  {
   "cell_type": "markdown",
   "id": "683378e2-090a-4c6c-aebf-5b88de1e5370",
   "metadata": {},
   "source": [
    "### Exercise 6\n",
    "Write a function to remove duplicate from a list"
   ]
  },
  {
   "cell_type": "code",
   "execution_count": 34,
   "id": "9054c5e5-9ac9-4456-b097-b18967b8c506",
   "metadata": {},
   "outputs": [
    {
     "name": "stdout",
     "output_type": "stream",
     "text": [
      "[1, 2, 3, 4, 5]\n"
     ]
    }
   ],
   "source": [
    "def remove_duplicate(input_list):\n",
    "    return list(set(input_list))\n",
    "\n",
    "print(remove_duplicate([1, 2, 3, 4, 4, 5, 1]))"
   ]
  },
  {
   "cell_type": "markdown",
   "id": "619f0dbe-17aa-4a41-b1ab-f984f0a91a97",
   "metadata": {
    "jp-MarkdownHeadingCollapsed": true,
    "tags": []
   },
   "source": [
    "## WHILE LOOP EXERCISE"
   ]
  },
  {
   "cell_type": "markdown",
   "id": "5bc9fdc5-4fc9-46eb-9c0c-0a7f0ed6aa03",
   "metadata": {},
   "source": [
    "### Exercise 1\n",
    "Write a program that takes integers from the user and returns the average. Use a while loop and make an empty string the stop criteria."
   ]
  },
  {
   "cell_type": "code",
   "execution_count": 36,
   "id": "e4d2922b-be7f-4541-be11-21bb5aaa7d0e",
   "metadata": {},
   "outputs": [
    {
     "name": "stdin",
     "output_type": "stream",
     "text": [
      "Enter an integer. Enter nothing to quit:  12\n",
      "Enter an integer. Enter nothing to quit:  3\n",
      "Enter an integer. Enter nothing to quit:  4\n",
      "Enter an integer. Enter nothing to quit:  5\n",
      "Enter an integer. Enter nothing to quit:  \n"
     ]
    },
    {
     "name": "stdout",
     "output_type": "stream",
     "text": [
      "The average of 4 numbers is 6.000000\n"
     ]
    }
   ],
   "source": [
    "summed_values = 0  # a container to store the sum of interger values collected\n",
    "number_count = 0  # a container to store the number of integer values collected\n",
    "\n",
    "input_string = input('Enter an integer. Enter nothing to quit: ')\n",
    "\n",
    "while input_string:\n",
    "    summed_values += int(input_string)\n",
    "    number_count += 1\n",
    "    input_string = input('Enter an integer. Enter nothing to quit: ')\n",
    "\n",
    "\n",
    "average = summed_values / number_count\n",
    "\n",
    "print('The average of %d numbers is %f' %(number_count, average))"
   ]
  },
  {
   "cell_type": "markdown",
   "id": "2961f292-e86a-44e8-bfa1-0a0d151ca05c",
   "metadata": {},
   "source": [
    "### Exercise 2\n",
    "Write a program that takes integers from the user and returns the average. Use a while loop and make negative number the stop criteria."
   ]
  },
  {
   "cell_type": "code",
   "execution_count": 37,
   "id": "63e554de-cc80-4517-a3e2-b893f9252b69",
   "metadata": {},
   "outputs": [
    {
     "name": "stdin",
     "output_type": "stream",
     "text": [
      "Enter an integer. Enter negative number to quit:  12\n",
      "Enter an integer. Enter nothing to quit:  -2\n"
     ]
    },
    {
     "name": "stdout",
     "output_type": "stream",
     "text": [
      "The average of 1 numbers is 12.000000\n"
     ]
    }
   ],
   "source": [
    "summed_values = 0  # a container to store the sum of interger values collected\n",
    "number_count = 0  # a container to store the number of integer values collected\n",
    "\n",
    "number = int(input('Enter an integer. Enter negative number to quit: '))\n",
    "\n",
    "while number >=0:\n",
    "    summed_values += int(number)\n",
    "    number_count += 1\n",
    "    number = int(input('Enter an integer. Enter nothing to quit: '))\n",
    "\n",
    "\n",
    "average = summed_values / number_count\n",
    "\n",
    "print('The average of %d numbers is %f' %(number_count, summed_values))"
   ]
  },
  {
   "cell_type": "markdown",
   "id": "8cf4029f-aa1e-4ce1-9ed0-7639c92e4c6b",
   "metadata": {},
   "source": [
    "### Exercise 3\n",
    "Write a program that takes test grades from the user and returns their average and the letter grade of the average.Use a while loop and make negative number the stop criteria. A >=90 B 80-89 C 70-79 D 60-69 F 59 or less"
   ]
  },
  {
   "cell_type": "code",
   "execution_count": 41,
   "id": "27e53f6b-8730-4d4a-a2c8-a7b3fad6452b",
   "metadata": {},
   "outputs": [
    {
     "name": "stdin",
     "output_type": "stream",
     "text": [
      "Enter a test grade. Enter negative number to quit:  100\n",
      "Enter a test grade. Enter negative number to quit:  90\n",
      "Enter a test grade. Enter negative number to quit:  99\n",
      "Enter a test grade. Enter negative number to quit:  -1\n"
     ]
    },
    {
     "name": "stdout",
     "output_type": "stream",
     "text": [
      "96.33333333333333 A\n"
     ]
    }
   ],
   "source": [
    "test_grades = 0  # a container to store the sum of interger values collected\n",
    "number_tests = 0  # a container to store the number of integer values collected\n",
    "\n",
    "number = int(input('Enter a test grade. Enter negative number to quit: '))\n",
    "\n",
    "while number >=0:\n",
    "    test_grades += int(number)\n",
    "    number_tests += 1\n",
    "    number = int(input('Enter a test grade. Enter negative number to quit: '))\n",
    "\n",
    "\n",
    "average = test_grades / number_tests\n",
    "\n",
    "\n",
    "if 90 <= average:\n",
    "    letter_grade = 'A'\n",
    "elif 80 <= average <= 89:\n",
    "    letter_grade = 'B'\n",
    "elif 70 <= average <= 79:\n",
    "    letter_grade = 'C'\n",
    "elif 60 <= average <= 69:\n",
    "    letter_grade = 'D'\n",
    "elif 60 >= average:\n",
    "    letter_grade = 'F'\n",
    "\n",
    "\n",
    "print(average, letter_grade)"
   ]
  },
  {
   "cell_type": "markdown",
   "id": "0f18503a-e32d-4441-bf0c-b82e72584963",
   "metadata": {},
   "source": [
    "### Exercise 4\n",
    "Write a program that takes an integer and counts down to zero -- print the value"
   ]
  },
  {
   "cell_type": "code",
   "execution_count": 42,
   "id": "b14d8765-5702-4c34-9065-4baeb56e5bfa",
   "metadata": {},
   "outputs": [
    {
     "name": "stdin",
     "output_type": "stream",
     "text": [
      "Enter a starting number:  1\n"
     ]
    },
    {
     "name": "stdout",
     "output_type": "stream",
     "text": [
      "1\n",
      "0\n"
     ]
    }
   ],
   "source": [
    "number = int(input('Enter a starting number: '))\n",
    "\n",
    "while number >= 0:\n",
    "    print(number)\n",
    "    number -= 1"
   ]
  },
  {
   "cell_type": "markdown",
   "id": "c3aded91-93ad-4591-b8ab-919d8c5df08f",
   "metadata": {},
   "source": [
    "### Exercise 5\n",
    "Write a program that takes an integer number and outputs all the even numbers starting from 0 to the number"
   ]
  },
  {
   "cell_type": "code",
   "execution_count": 43,
   "id": "327a88bd-5068-43f9-98c3-b0d5808c5e24",
   "metadata": {},
   "outputs": [
    {
     "name": "stdin",
     "output_type": "stream",
     "text": [
      "Enter an integer number:  6\n"
     ]
    },
    {
     "name": "stdout",
     "output_type": "stream",
     "text": [
      "0\n",
      "2\n",
      "4\n",
      "6\n"
     ]
    }
   ],
   "source": [
    "end_number = int(input('Enter an integer number: '))\n",
    "current_number = 0\n",
    "while current_number <= end_number:\n",
    "    if current_number % 2 == 0:\n",
    "        print(current_number)\n",
    "    current_number += 1"
   ]
  },
  {
   "cell_type": "markdown",
   "id": "666a7699-e1aa-434b-be7c-40a2c6647873",
   "metadata": {
    "jp-MarkdownHeadingCollapsed": true,
    "tags": []
   },
   "source": [
    "## MODIFY LOOP EXERCISE"
   ]
  },
  {
   "cell_type": "markdown",
   "id": "a35457b1-c434-4b23-86de-f8617b542682",
   "metadata": {},
   "source": [
    "### Exercise 1\n",
    "Write a function that prints from 1 to n using a for loop, it should skip every multiple of 5."
   ]
  },
  {
   "cell_type": "code",
   "execution_count": 45,
   "id": "5669cd23-71bc-4b05-b005-7fbe17ab6da7",
   "metadata": {},
   "outputs": [
    {
     "name": "stdout",
     "output_type": "stream",
     "text": [
      "Skipping: 0\n",
      "1\n",
      "2\n",
      "3\n",
      "4\n",
      "Skipping: 5\n",
      "6\n",
      "7\n",
      "8\n",
      "9\n",
      "Skipping: 10\n",
      "11\n",
      "12\n"
     ]
    }
   ],
   "source": [
    "def modify_loop_ex1(n):\n",
    "    for number in range(n):\n",
    "\n",
    "        if number % 5 == 0:\n",
    "            print('Skipping:', number)\n",
    "            continue\n",
    "\n",
    "        print(number)\n",
    "modify_loop_ex1(13)"
   ]
  },
  {
   "cell_type": "markdown",
   "id": "53973e18-f8cd-48ac-92fa-9512abe1d840",
   "metadata": {},
   "source": [
    "### Exercise 2\n",
    "Write a function that prints from 1 to n squared using a while loop. It should stop the while loop if the iteration count is 50."
   ]
  },
  {
   "cell_type": "code",
   "execution_count": 46,
   "id": "43d5160d-5a50-4711-83af-dbea461c2a3b",
   "metadata": {},
   "outputs": [
    {
     "name": "stdout",
     "output_type": "stream",
     "text": [
      "1\n",
      "2\n",
      "3\n",
      "4\n",
      "5\n",
      "6\n",
      "7\n",
      "8\n",
      "9\n",
      "10\n",
      "11\n",
      "12\n"
     ]
    }
   ],
   "source": [
    "def modify_loop_ex2(n):\n",
    "\n",
    "    iteration_count = 0\n",
    "    number = 1\n",
    "    while number <= n:\n",
    "\n",
    "        if number == 50:\n",
    "            break\n",
    "\n",
    "        print(number)\n",
    "        number += 1\n",
    "        iteration_count += 1\n",
    "\n",
    "modify_loop_ex2(12)"
   ]
  },
  {
   "cell_type": "markdown",
   "id": "4e3b0a69-c8fc-445f-a588-f9b802143a88",
   "metadata": {
    "jp-MarkdownHeadingCollapsed": true,
    "tags": []
   },
   "source": [
    "## COMPREHENSIONS"
   ]
  },
  {
   "cell_type": "markdown",
   "id": "9c32a1be-35ba-4293-9527-9a83412324f7",
   "metadata": {},
   "source": [
    "### List Comprehension\n",
    "- Unique to Python\n",
    "- Three variations\n",
    "\n",
    "```python\n",
    "[ f(ele) for ele in sequence ]\n",
    "\n",
    "[ f(ele) for ele in sequence if condition ]\n",
    "\n",
    "[ f(ele) if condition else g(ele) for ele in sequence ]\n",
    "\n",
    "[ f(ele) for ele in sequence if condition1 and condition2]\n",
    "\n",
    "```"
   ]
  },
  {
   "cell_type": "markdown",
   "id": "b41ef629-2c7e-43ca-8ad3-98a241c39095",
   "metadata": {},
   "source": [
    "### Tuple Comprehension\n",
    "- Tuple Comprehension returns a generator\n",
    "- Generators generate one-time use values\n",
    "\n",
    "```python\n",
    "( f(ele) for ele in sequence )\n",
    "\n",
    "( f(ele) for ele in sequence if condition )\n",
    "\n",
    "( f(ele) if condition else g(ele) for ele in sequence )\n",
    "\n",
    "```"
   ]
  },
  {
   "cell_type": "markdown",
   "id": "7e2c2c79-922c-408b-a2f4-05c6ff2f74a2",
   "metadata": {},
   "source": [
    "### List Comprehension Exercises "
   ]
  },
  {
   "cell_type": "markdown",
   "id": "38522dd7-5cc3-42ac-9df2-94059610d6cc",
   "metadata": {},
   "source": [
    "#### Exercise 1\n",
    "Re-write the following code to use List Comprehension\n",
    "```python\n",
    "my_list = [1, 2, 3]\n",
    "new_list = []\n",
    "for ele in my_list:\n",
    "    tmp = ele * ele\n",
    "    new_list.append(tmp)\n",
    "```"
   ]
  },
  {
   "cell_type": "code",
   "execution_count": 50,
   "id": "2335a8e1-4fff-4bf1-aac1-48a8bfafe3d6",
   "metadata": {},
   "outputs": [
    {
     "name": "stdout",
     "output_type": "stream",
     "text": [
      "[1, 4, 9]\n"
     ]
    }
   ],
   "source": [
    "my_list = [1, 2, 3]\n",
    "new_list = []\n",
    "for ele in my_list:\n",
    "    tmp = ele * ele\n",
    "    new_list.append(tmp)\n",
    "new_list = [ele*ele for ele in my_list]\n",
    "print(new_list)"
   ]
  },
  {
   "cell_type": "markdown",
   "id": "3db7a604-be35-405d-aec6-31b9c8105dff",
   "metadata": {},
   "source": [
    "#### Exercise 2\n",
    "Re-write the following code to use List Comprehension\n",
    "Multiply each number by 10\n",
    "\n",
    "```python\n",
    "my_list = [1, 2, 3]\n",
    "new_list = []\n",
    "for ele in my_list:\n",
    "    tmp = ele * 10\n",
    "    new_list.append(tmp)\n",
    "```"
   ]
  },
  {
   "cell_type": "code",
   "execution_count": 51,
   "id": "93c6d86d-0fb9-487f-a8ed-c9e014b9487a",
   "metadata": {},
   "outputs": [
    {
     "name": "stdout",
     "output_type": "stream",
     "text": [
      "[10, 20, 30]\n"
     ]
    }
   ],
   "source": [
    "my_list = [1, 2, 3]\n",
    "new_list = []\n",
    "for ele in my_list:\n",
    "    tmp = ele * 10\n",
    "    new_list.append(tmp)\n",
    "new_list = [ele*10 for ele in my_list]\n",
    "print(new_list)"
   ]
  },
  {
   "cell_type": "markdown",
   "id": "06e31695-99f9-4baf-af55-135caf6b78c9",
   "metadata": {},
   "source": [
    "#### Exercise 3\n",
    "Upper case each letter in animal variable\n",
    "\n",
    "```python\n",
    "animal = 'buffalo'\n",
    "```"
   ]
  },
  {
   "cell_type": "code",
   "execution_count": 52,
   "id": "608f2543-efeb-496a-aa82-e1f6d4753706",
   "metadata": {},
   "outputs": [
    {
     "data": {
      "text/plain": [
       "['B', 'U', 'F', 'F', 'A', 'L', 'O']"
      ]
     },
     "execution_count": 52,
     "metadata": {},
     "output_type": "execute_result"
    }
   ],
   "source": [
    "animal = 'buffalo'\n",
    "[char.upper() for char in animal]"
   ]
  },
  {
   "cell_type": "markdown",
   "id": "22cd7fce-e424-4771-be1d-fc26e1a9a758",
   "metadata": {},
   "source": [
    "#### Exercise 4\n",
    "Title each name in the student list\n",
    "\n",
    "```python\n",
    "students = ['john', 'jane', 'doe']\n",
    "```"
   ]
  },
  {
   "cell_type": "code",
   "execution_count": 53,
   "id": "d2069e7c-bcdc-4a20-a6fe-50115816757c",
   "metadata": {},
   "outputs": [
    {
     "name": "stdout",
     "output_type": "stream",
     "text": [
      "['John', 'Jane', 'Doe']\n"
     ]
    }
   ],
   "source": [
    "students = ['john', 'jane', 'doe']\n",
    "[student[0].upper()+student[1:] for student in students]\n",
    "students = ['john', 'jane', 'doe']\n",
    "print([student.title() for student in students])"
   ]
  },
  {
   "cell_type": "markdown",
   "id": "48e26298-d1d0-493e-8530-31ea4a79e171",
   "metadata": {},
   "source": [
    "#### Exercise 5\n",
    "Use list comprehension to get the Truthiness of each element in `my_list`\n",
    "\n",
    "```python\n",
    "my_list = [0, '', []]\n",
    "```"
   ]
  },
  {
   "cell_type": "code",
   "execution_count": 54,
   "id": "a175ea9a-b4c2-44a6-8715-ecc21a5f7bfe",
   "metadata": {},
   "outputs": [
    {
     "data": {
      "text/plain": [
       "[False, False, False]"
      ]
     },
     "execution_count": 54,
     "metadata": {},
     "output_type": "execute_result"
    }
   ],
   "source": [
    "my_list = [0, '', []]\n",
    "[bool(ele) for ele in my_list]"
   ]
  },
  {
   "cell_type": "markdown",
   "id": "786b0de1-e9af-4f40-b6e9-f37e0f30f3a4",
   "metadata": {},
   "source": [
    "#### Exercise 6\n",
    "Convert each element of my_list to str using list comprehension\n",
    "\n",
    "```python\n",
    "my_list = range(6)\n",
    "```"
   ]
  },
  {
   "cell_type": "code",
   "execution_count": 55,
   "id": "0c756e9c-cb91-4cae-ad6b-9c107775b91c",
   "metadata": {},
   "outputs": [
    {
     "data": {
      "text/plain": [
       "['0', '1', '2', '3', '4', '5']"
      ]
     },
     "execution_count": 55,
     "metadata": {},
     "output_type": "execute_result"
    }
   ],
   "source": [
    "my_list = range(6)\n",
    "[str(element) for element in my_list]"
   ]
  },
  {
   "cell_type": "markdown",
   "id": "34175715-7a9e-4cdd-a870-af0eac6fae8d",
   "metadata": {},
   "source": [
    "#### Exercise 7\n",
    "Use list comprehension to reduce a list of numbers to just even or odd\n",
    "\n",
    "```python\n",
    "numbers = range(20)\n",
    "```"
   ]
  },
  {
   "cell_type": "code",
   "execution_count": 56,
   "id": "c92fd447-62bb-4241-86e4-5c12466e83a7",
   "metadata": {},
   "outputs": [],
   "source": [
    "numbers = range(20)\n",
    "even = [number for number in numbers if number % 2 == 0 ]\n",
    "odd = [number for number in numbers if number % 2 != 0 ]"
   ]
  },
  {
   "cell_type": "markdown",
   "id": "aa457acb-5a2f-42c2-961c-a287c45255ea",
   "metadata": {},
   "source": [
    "#### Exercise 8\n",
    "Use list comprehension to modify a list of numbers such that evens are left as is\n",
    "and the odds are raised to the three power\n",
    "\n",
    "```python\n",
    "numbers = range(10)\n",
    "```"
   ]
  },
  {
   "cell_type": "code",
   "execution_count": 57,
   "id": "7a939eb4-b404-4a3e-a430-04d24203be9b",
   "metadata": {},
   "outputs": [
    {
     "data": {
      "text/plain": [
       "[0, 1, 2, 27, 4, 125, 6, 343, 8, 729]"
      ]
     },
     "execution_count": 57,
     "metadata": {},
     "output_type": "execute_result"
    }
   ],
   "source": [
    "numbers = range(10)\n",
    "[number if number % 2 == 0 else number**3 for number in range(10)]"
   ]
  },
  {
   "cell_type": "markdown",
   "id": "15d92739-0b60-499a-86e5-c3c4517926ff",
   "metadata": {},
   "source": [
    "#### Exercise 9\n",
    "Use list comprehension to remove vowels from a sentence\n",
    "\n",
    "```python\n",
    "sentence = 'I rEAlly want to gO to work'\n",
    "```"
   ]
  },
  {
   "cell_type": "code",
   "execution_count": 58,
   "id": "46031bc5-8195-4e6d-b59b-165fb553ff4c",
   "metadata": {},
   "outputs": [
    {
     "data": {
      "text/plain": [
       "' rlly wnt t g t wrk'"
      ]
     },
     "execution_count": 58,
     "metadata": {},
     "output_type": "execute_result"
    }
   ],
   "source": [
    "sentence = 'I rEAlly want to gO to work'\n",
    "''.join([char for char in sentence if char.lower() not in 'aeiou'])"
   ]
  }
 ],
 "metadata": {
  "kernelspec": {
   "display_name": "Python 3 (ipykernel)",
   "language": "python",
   "name": "python3"
  },
  "language_info": {
   "codemirror_mode": {
    "name": "ipython",
    "version": 3
   },
   "file_extension": ".py",
   "mimetype": "text/x-python",
   "name": "python",
   "nbconvert_exporter": "python",
   "pygments_lexer": "ipython3",
   "version": "3.10.11"
  }
 },
 "nbformat": 4,
 "nbformat_minor": 5
}
