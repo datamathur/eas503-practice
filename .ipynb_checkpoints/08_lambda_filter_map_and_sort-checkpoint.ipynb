{
 "cells": [
  {
   "cell_type": "markdown",
   "id": "849a4d65-ef0c-4804-928e-fdf810808295",
   "metadata": {},
   "source": [
    "# CHAPTER 8 - LAMBDA, FILTER, MAP, AND SORTED"
   ]
  },
  {
   "cell_type": "markdown",
   "id": "c9f5dc59-1a5d-411a-b914-01c5bf858f89",
   "metadata": {
    "tags": []
   },
   "source": [
    "## Lambda\n",
    "lambda a function without a name;\n",
    "- anonymous functions\n",
    "- one line only\n",
    "- single expression only\n",
    "- stored in a variable\n",
    "- When do you use it? \n",
    "  - Pass a function into another function as a parameter\n",
    "- lambda variables (comma separated): expression\n",
    "- lambda functions are used with other functions. Usually with map, filter, sort"
   ]
  },
  {
   "cell_type": "markdown",
   "id": "e3fbbc1d-27a2-4194-8be0-ad1ca3ac5b21",
   "metadata": {},
   "source": [
    "## Filter"
   ]
  },
  {
   "cell_type": "markdown",
   "id": "467a1f63-091a-495c-97bd-82820ced4636",
   "metadata": {},
   "source": [
    "- Uses `function` to test the truthiness of each value in the sequence and returns a filtered list.\n",
    "- `function` must return True or False\n",
    "\n",
    "```python\n",
    "filter(function, sequence)\n",
    "```"
   ]
  },
  {
   "cell_type": "markdown",
   "id": "c90ba25f-97ba-47b5-bd50-6aadd107e878",
   "metadata": {},
   "source": [
    "## Map"
   ]
  },
  {
   "cell_type": "markdown",
   "id": "a30b8ac1-ac57-44dc-9b74-a80739468ecf",
   "metadata": {},
   "source": [
    "- Uses `function` to transform the values in a sequence \n",
    "```python\n",
    "map(function, sequence)\n",
    "```"
   ]
  },
  {
   "cell_type": "markdown",
   "id": "1f0c21af-8597-49bb-881c-f9ade98d3f37",
   "metadata": {},
   "source": [
    "## Sorted"
   ]
  },
  {
   "cell_type": "markdown",
   "id": "2d68d351-913d-4d4b-8d49-b6e445f5064f",
   "metadata": {},
   "source": [
    "- Uses `function` to sort values\n",
    "```python\n",
    "sorted(sequence, key=function)\n",
    "```"
   ]
  },
  {
   "cell_type": "markdown",
   "id": "69185613-5d63-4ba4-984c-caef76f28682",
   "metadata": {
    "jp-MarkdownHeadingCollapsed": true,
    "tags": []
   },
   "source": [
    "## EXERCISES"
   ]
  },
  {
   "cell_type": "markdown",
   "id": "b0aba91e-b9b2-48c0-b703-617633fccbb2",
   "metadata": {},
   "source": [
    "### Exercise 1\n",
    "Write a function that squares a number and returns the value. Write it again again using Lambda functions"
   ]
  },
  {
   "cell_type": "code",
   "execution_count": 1,
   "id": "ec939dc3-81b3-400a-80c9-2f50db53b790",
   "metadata": {},
   "outputs": [
    {
     "name": "stdout",
     "output_type": "stream",
     "text": [
      "81\n",
      "81\n"
     ]
    }
   ],
   "source": [
    "def square(num):\n",
    "    return num * num\n",
    "\n",
    "square2 = lambda num: num * num\n",
    "\n",
    "print(square(9))\n",
    "print(square2(9))"
   ]
  },
  {
   "cell_type": "markdown",
   "id": "0995a0ae-f41b-451f-8abc-8ebd63ce50b6",
   "metadata": {},
   "source": [
    "### Exercise 2\n",
    "Write a lambda function for adding two numbers"
   ]
  },
  {
   "cell_type": "code",
   "execution_count": 2,
   "id": "4353810c-7950-4664-9dd5-e204072b6a5e",
   "metadata": {},
   "outputs": [
    {
     "name": "stdout",
     "output_type": "stream",
     "text": [
      "13\n"
     ]
    }
   ],
   "source": [
    "add = lambda a,b: a + b\n",
    "print(add(3,10))"
   ]
  },
  {
   "cell_type": "markdown",
   "id": "83c0ce0a-4846-4bff-9018-ea6c41754171",
   "metadata": {},
   "source": [
    "### Exercise 3\n",
    "Write a lambda function that multiples two numbers. Use the lambda function as an input to another function."
   ]
  },
  {
   "cell_type": "code",
   "execution_count": 3,
   "id": "faca30f0-0f6c-4935-a15c-8d74e7dcb6cf",
   "metadata": {},
   "outputs": [
    {
     "name": "stdout",
     "output_type": "stream",
     "text": [
      "12\n"
     ]
    }
   ],
   "source": [
    "func = lambda a, b: a * b\n",
    "def lambda_test(function, number1, number2):\n",
    "    return function(number1, number2)\n",
    "print(lambda_test(func, 3, 4))"
   ]
  },
  {
   "cell_type": "markdown",
   "id": "08041a8b-ef77-434b-a3c7-01e95ee44956",
   "metadata": {},
   "source": [
    "### Exercise 4\n",
    "1. Write a function to double a list\n",
    "2. Use list comprehension to double a list\n",
    "3. Use lambda with map to double a list\n",
    "\n",
    "map objects are a generator. How many times can you iterate over them?"
   ]
  },
  {
   "cell_type": "code",
   "execution_count": 5,
   "id": "8c78324a-cac2-4768-954b-0af9ab9a3e58",
   "metadata": {},
   "outputs": [
    {
     "name": "stdout",
     "output_type": "stream",
     "text": [
      "[4, 9, 16]\n",
      "[4, 9, 16]\n",
      "[4, 9, 16]\n"
     ]
    }
   ],
   "source": [
    "my_list = [2, 3, 4]\n",
    "\n",
    "# double this list\n",
    "\n",
    "# method 1 - define a square function\n",
    "\n",
    "def square_list(my_list):\n",
    "    new_list = []\n",
    "    for ele in my_list:\n",
    "        new_list.append(ele * ele)\n",
    "\n",
    "    return new_list\n",
    "\n",
    "print(square_list(my_list))\n",
    "\n",
    "# method 2 - list comprehension\n",
    "\n",
    "print([ele*ele for ele in my_list])\n",
    "\n",
    "# method 3 - use lambda with map\n",
    "# map(lambda variables (comma separated): expression)\n",
    "\n",
    "print(list(map(lambda ele: ele*ele, my_list)))"
   ]
  },
  {
   "cell_type": "markdown",
   "id": "24e58277-6398-4c5a-82ea-91aa679edab4",
   "metadata": {},
   "source": [
    "### Exercise 5\n",
    "Capitalize the names in the students list \n",
    "1. using a list and loop\n",
    "2. using list comprehension\n",
    "3. using lambda and map"
   ]
  },
  {
   "cell_type": "code",
   "execution_count": 7,
   "id": "71351f00-d8db-4760-a3a4-239af6221539",
   "metadata": {},
   "outputs": [
    {
     "name": "stdout",
     "output_type": "stream",
     "text": [
      "['John', 'Jane', 'Doe']\n",
      "['John', 'Jane', 'Doe']\n",
      "['John', 'Jane', 'Doe']\n"
     ]
    }
   ],
   "source": [
    "students = ['john', 'jane', 'doe']\n",
    "# make upper case\n",
    "\n",
    "\n",
    "# method 1 create new list and loop\n",
    "new_list = []\n",
    "for student in students:\n",
    "    new_list.append(student.title())\n",
    "\n",
    "print(new_list)\n",
    "\n",
    "# method 2 -- use list comprehension\n",
    "\n",
    "print([student[0].upper()+student[1:] for student in students])\n",
    "\n",
    "# method 3 -- use lambda\n",
    "\n",
    "print(list(map(lambda student: student.title(), students)))"
   ]
  },
  {
   "cell_type": "markdown",
   "id": "8d8afd18-6c9d-491b-a15e-ab614126d14a",
   "metadata": {},
   "source": [
    "### Exercise 6\n",
    "Using lambda and map, convert the numbers to float\n",
    "\n",
    "Covert each value to float"
   ]
  },
  {
   "cell_type": "code",
   "execution_count": 8,
   "id": "68a9192c-edfe-47c7-8fe0-b781d0d402bf",
   "metadata": {},
   "outputs": [
    {
     "name": "stdout",
     "output_type": "stream",
     "text": [
      "[{'Value': 34.4}, {'Value': 45.3}, {'Value': 73.4}]\n"
     ]
    }
   ],
   "source": [
    "my_dict = [{'value': '34.4'}, {'value': '45.3'}, {'value': '73.4'}]\n",
    "\n",
    "print(list(map(lambda ele: {'Value': float(ele['value'])}, my_dict)))"
   ]
  },
  {
   "cell_type": "markdown",
   "id": "674031a4-ebe7-4797-8825-bb35195ceb6d",
   "metadata": {},
   "source": [
    "### Exercise 7\n",
    "Create a dictionary where the key is year and \n",
    "value is True/False if the year is a leap year\n",
    "1. using a loop and dict\n",
    "2. using filter without a function"
   ]
  },
  {
   "cell_type": "code",
   "execution_count": 9,
   "id": "7f45fdd8-7645-4e19-ae9a-a6cd4f01c5ac",
   "metadata": {},
   "outputs": [
    {
     "name": "stdout",
     "output_type": "stream",
     "text": [
      "{1970: False,\n",
      " 1971: False,\n",
      " 1972: True,\n",
      " 1973: False,\n",
      " 1974: False,\n",
      " 1975: False,\n",
      " 1976: True,\n",
      " 1977: False,\n",
      " 1978: False,\n",
      " 1979: False,\n",
      " 1980: True,\n",
      " 1981: False,\n",
      " 1982: False,\n",
      " 1983: False,\n",
      " 1984: True,\n",
      " 1985: False,\n",
      " 1986: False,\n",
      " 1987: False,\n",
      " 1988: True,\n",
      " 1989: False,\n",
      " 1990: False,\n",
      " 1991: False,\n",
      " 1992: True,\n",
      " 1993: False,\n",
      " 1994: False,\n",
      " 1995: False,\n",
      " 1996: True,\n",
      " 1997: False,\n",
      " 1998: False,\n",
      " 1999: False}\n",
      "[1972, 1976, 1980, 1984, 1988, 1992, 1996]\n",
      "[1972, 1976, 1980, 1984, 1988, 1992, 1996]\n",
      "[1972, 1976, 1980, 1984, 1988, 1992, 1996]\n",
      "[394.4, 395.2, 396.0, 396.8, 397.6, 398.4, 399.2]\n",
      "['1972 is a leap year!', '1976 is a leap year!', '1980 is a leap year!', '1984 is a leap year!', '1988 is a leap year!', '1992 is a leap year!', '1996 is a leap year!']\n",
      "['1972 is a leap year', '1976 is a leap year', '1980 is a leap year', '1984 is a leap year', '1988 is a leap year', '1992 is a leap year', '1996 is a leap year']\n"
     ]
    }
   ],
   "source": [
    "years = range(1970, 2000) # for these years\n",
    "\n",
    "\n",
    "\n",
    "def is_leap_year(year):\n",
    "    # does not work for century year\n",
    "    if year % 4 == 0:\n",
    "        return True\n",
    "    else:\n",
    "        return False\n",
    "\n",
    "my_dict = {}\n",
    "leap_years = []\n",
    "for year in years:\n",
    "    my_dict.update({year: is_leap_year(year)})\n",
    "    if is_leap_year(year):\n",
    "        leap_years.append(year)\n",
    "\n",
    "import pprint\n",
    "pprint.pprint(my_dict)\n",
    "print(leap_years)\n",
    "\n",
    "# filter(function, sequence)\n",
    "\n",
    "leap_year_lambda = lambda year: year % 4 == 0 \n",
    "\n",
    "filter(leap_year_lambda, range(1970, 2000))\n",
    "\n",
    "print(list(filter(lambda year: year % 4 == 0, range(1970, 2000))))\n",
    "print(list(filter(lambda year: is_leap_year(year), range(1970, 2000))))\n",
    "print(list(map(lambda year: year/5, filter(lambda year: year % 4 == 0, range(1970, 2000)))))\n",
    "\n",
    "# # combining map with filter\n",
    "\n",
    "print(list(map(lambda year: f'{year} is a leap year!', filter(lambda year: year % 4 == 0, range(1970, 2000)) )))\n",
    "\n",
    "\n",
    "# # list comprehension\n",
    "\n",
    "# print()\n",
    "print([f'{year} is a leap year' for year in range(1970, 2000) if year % 4 == 0])"
   ]
  },
  {
   "cell_type": "markdown",
   "id": "4e4f80af-cd78-4801-a536-e03bfaa36384",
   "metadata": {},
   "source": [
    "### Exercise 8\n",
    "Sort `x` using value"
   ]
  },
  {
   "cell_type": "code",
   "execution_count": 10,
   "id": "5e0f2124-e3aa-4153-b807-de75e421353c",
   "metadata": {},
   "outputs": [
    {
     "name": "stdout",
     "output_type": "stream",
     "text": [
      "[('abc', 3), ('efg', 1), ('hij', 2)]\n",
      "[('efg', 1), ('hij', 2), ('abc', 3)]\n"
     ]
    }
   ],
   "source": [
    "x = (('efg', 1), ('abc', 3), ('hij', 2))\n",
    "\n",
    "print(sorted(x)) # does work\n",
    "\n",
    "print(sorted(x, key=lambda ele: ele[1]))"
   ]
  },
  {
   "cell_type": "markdown",
   "id": "081a79ea-4449-4ad0-9802-dde615e89bcf",
   "metadata": {},
   "source": [
    "### Exercise 9\n",
    "sort dictionary by username; reverse sort"
   ]
  },
  {
   "cell_type": "code",
   "execution_count": 11,
   "id": "2698e1bd-9a7f-4b46-8fa5-2024db449d61",
   "metadata": {},
   "outputs": [
    {
     "name": "stdout",
     "output_type": "stream",
     "text": [
      "[{'grade': 89, 'username': 'Kelly'}, {'username': 'doe', 'grade': 35}, {'username': 'jane', 'grade': 80}, {'username': 'john', 'grade': 50}]\n",
      "\n",
      "[{'username': 'john', 'grade': 50}, {'username': 'jane', 'grade': 80}, {'username': 'doe', 'grade': 35}, {'grade': 89, 'username': 'Kelly'}]\n"
     ]
    }
   ],
   "source": [
    "students = [\n",
    "    {'username': 'john', 'grade': 50},\n",
    "    {'username': 'jane', 'grade': 80},\n",
    "    {'username': 'doe', 'grade': 35},\n",
    "    {'grade': 89, 'username': 'Kelly'}\n",
    "]\n",
    "\n",
    "from pprint import pprint\n",
    "print(sorted(students, key=lambda student: student['username']))\n",
    "print()\n",
    "print(sorted(students, key=lambda student: student['username'], reverse=True))"
   ]
  },
  {
   "cell_type": "markdown",
   "id": "b978fb44-74a8-437e-9c2b-d48f4f578402",
   "metadata": {},
   "source": [
    "### Exercise 10\n",
    "Sort dictionary by grade; reverse sort"
   ]
  },
  {
   "cell_type": "code",
   "execution_count": 12,
   "id": "e032f9ec-60b3-4edc-98bf-14aac7aab218",
   "metadata": {},
   "outputs": [
    {
     "name": "stdout",
     "output_type": "stream",
     "text": [
      "\n",
      "[{'username': 'doe', 'grade': 35}, {'username': 'john', 'grade': 50}, {'username': 'jane', 'grade': 80}, {'grade': 89, 'username': 'Kelly'}]\n",
      "\n",
      "[{'grade': 89, 'username': 'Kelly'}, {'username': 'jane', 'grade': 80}, {'username': 'john', 'grade': 50}, {'username': 'doe', 'grade': 35}]\n"
     ]
    }
   ],
   "source": [
    "students = [\n",
    "    {'username': 'john', 'grade': 50},\n",
    "    {'username': 'jane', 'grade': 80},\n",
    "    {'username': 'doe', 'grade': 35},\n",
    "    {'grade': 89, 'username': 'Kelly'}\n",
    "]\n",
    "\n",
    "print()\n",
    "print(sorted(students, key=lambda student: student['grade']))\n",
    "print()\n",
    "print(sorted(students, key=lambda student: student['grade'], reverse=True))"
   ]
  },
  {
   "cell_type": "markdown",
   "id": "3430531a-e52f-4d83-b08d-3fdb72b56116",
   "metadata": {},
   "source": [
    "### Exercise 11\n",
    "Sort array by len of names"
   ]
  },
  {
   "cell_type": "code",
   "execution_count": 13,
   "id": "fc035bba-d442-4863-87fb-10996df11c6d",
   "metadata": {},
   "outputs": [
    {
     "name": "stdout",
     "output_type": "stream",
     "text": [
      "Janette\n",
      "doe\n",
      "Janette\n",
      "doe\n",
      "Janette\n"
     ]
    }
   ],
   "source": [
    "students = ['john', 'Janette', 'doe']\n",
    "print(min(students))\n",
    "print(min(students, key=lambda student: len(student)))\n",
    "print(max(students, key=lambda student: len(student)))\n",
    "\n",
    "\n",
    "print(min(students, key=len))\n",
    "print(max(students, key=len))"
   ]
  },
  {
   "cell_type": "markdown",
   "id": "ad9ad08e-3f10-4474-a716-eab2320464de",
   "metadata": {},
   "source": [
    "### Exercise 12\n",
    "Sort dictionary by value"
   ]
  },
  {
   "cell_type": "code",
   "execution_count": 14,
   "id": "07d5f030-6648-499d-a980-dbdf428adf76",
   "metadata": {},
   "outputs": [
    {
     "name": "stdout",
     "output_type": "stream",
     "text": [
      "{'value': '73.4'}\n"
     ]
    }
   ],
   "source": [
    "my_list = [{'value': '34.4'}, {'value': '45.3'}, {'value': '73.4'}]\n",
    "print(max(my_list, key=lambda ele: float(ele['value'])))"
   ]
  }
 ],
 "metadata": {
  "kernelspec": {
   "display_name": "Python 3 (ipykernel)",
   "language": "python",
   "name": "python3"
  },
  "language_info": {
   "codemirror_mode": {
    "name": "ipython",
    "version": 3
   },
   "file_extension": ".py",
   "mimetype": "text/x-python",
   "name": "python",
   "nbconvert_exporter": "python",
   "pygments_lexer": "ipython3",
   "version": "3.10.11"
  }
 },
 "nbformat": 4,
 "nbformat_minor": 5
}
