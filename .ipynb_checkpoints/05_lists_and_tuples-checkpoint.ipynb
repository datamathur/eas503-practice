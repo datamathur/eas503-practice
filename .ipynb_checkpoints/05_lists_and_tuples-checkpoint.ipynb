{
 "cells": [
  {
   "cell_type": "markdown",
   "id": "5fef0857-de08-4d68-974a-7eb2776097c0",
   "metadata": {
    "tags": []
   },
   "source": [
    "# CHAPTER 5 - LISTS AND TUPLES"
   ]
  },
  {
   "cell_type": "markdown",
   "id": "e17f8e3f-4391-4020-a89e-73dd55aa5fbe",
   "metadata": {},
   "source": [
    "- So far we have covered the following data types: `int`, `float`, `str`, `None` and `bool`. Now we will cover `list`, and `tuple` which are a sequence data types. \n",
    "- Data types in Python can be classified as `mutable` and `immutable`. \n",
    "    - Immutable data types are: `int`, `float`, `bool`, and `tuple`\n",
    "    - Mutable data types are: `list`, `dict`, and `set`\n",
    "    - NOTE: In other programming language, data types such as ints and floats are passed to a function using `pass-by-value` and\n",
    "    data types such as arrays are `pass-by-reference`. This means that changes made to ints and floats inside a function do not change the value outside of the function because they were passed a copy (independent copy). As for arrays, they are passed to a function as a reference, so changes made to the array persist outside the function. \n",
    "    - NOTE: In Python, however, everything is passed to a function using `pass-by-object-reference`.\n",
    "\n",
    "- In many programming languages there are two ways to pass arguments--pass-by-value and pass-by-reference (sometimes called call-by-value and call-by-reference, respectively):\n",
    "    - With pass-by-value, the called function receives a copy of the argument's value and works exclusively with that copy. Changes to the function's copy do not affect the original variable's value in the caller.\n",
    "    - With pass-by-reference, the called function can access the argument's value in the caller directly and modify the value if it's mutable. "
   ]
  },
  {
   "cell_type": "markdown",
   "id": "300666c7-1433-4249-98e0-69d92bcf9c84",
   "metadata": {
    "jp-MarkdownHeadingCollapsed": true,
    "tags": []
   },
   "source": [
    "## LISTS"
   ]
  },
  {
   "cell_type": "markdown",
   "id": "322bbf67-6608-4ce0-81f2-455049768dda",
   "metadata": {},
   "source": [
    "`list` is a container for storing a sequence of values. The values can be of different type. When the values are all `int`, `float`, or `bool`, you can use special functions. "
   ]
  },
  {
   "cell_type": "markdown",
   "id": "6ea4a208-61b9-472a-9d28-018db999d3f1",
   "metadata": {},
   "source": [
    "### List Index\n",
    "An index is used to access a particular element in a list. All the elements in the list get a number or index. The element numbering starts at 0, which means that the first element is accessed using 0, the second element is accessed using 1, etc. Since the numbering starts at 0, Python indexing is called 0-indexed. The square brackets on a list with index number lets you access a particular element: my_list[0] will access the first element in the list."
   ]
  },
  {
   "cell_type": "markdown",
   "id": "52dac9f0-a8c1-44f8-bfc4-d6478176e283",
   "metadata": {},
   "source": [
    "### Creating a list"
   ]
  },
  {
   "cell_type": "code",
   "execution_count": 1,
   "id": "7e4295c6-40d9-40d3-8e1d-56d6489efb9e",
   "metadata": {},
   "outputs": [],
   "source": [
    "grades = ['A', 'B', 'C', 'D', 'F']\n",
    "days_in_months = [0, 31, 28, 31, 30, 31, 30, 31, 31, 30, 31, 30, 31]\n",
    "grades_count = [20, 40, 10, 2, 3]"
   ]
  },
  {
   "cell_type": "markdown",
   "id": "587acf63-16d9-4498-884f-e697a45ccba7",
   "metadata": {},
   "source": [
    "### Accessing a list"
   ]
  },
  {
   "cell_type": "code",
   "execution_count": 2,
   "id": "5f689000-e466-4b99-b0e4-f53c0d715b47",
   "metadata": {},
   "outputs": [
    {
     "name": "stdout",
     "output_type": "stream",
     "text": [
      "A\n",
      "B\n",
      "30\n",
      "31\n",
      "0\n"
     ]
    }
   ],
   "source": [
    "print(grades[0])\n",
    "print(grades[1])\n",
    "print(days_in_months[11])\n",
    "print(days_in_months[3])\n",
    "print(days_in_months[0])"
   ]
  },
  {
   "cell_type": "markdown",
   "id": "0c8bd6b9-ad44-401d-b637-dcb14f9c0834",
   "metadata": {},
   "source": [
    "### Slicing a list\n",
    "- List slicing allows you to pick out specific elements from a list. In oder to understand the list slicing, you need to know five things:\n",
    "  1. Start index -- this is the index from which the slice of a list is taken. This index is included.\n",
    "  2. End Index -- this is the index to which the slice is taken up to but not including.\n",
    "  3. Step size -- you can specify a skip factor that allows you to skip certain number of values\n",
    "  4. the colon is used separate start and end index and the step size.\n",
    "  5. Start index, end index, and step size are all optional, but you need at least one\n",
    "- Here are some variations of slicing:\n",
    "  1. start index, but no end index -- my_list[3:] -- will take all elements from index 3 to the end of list, including the last value\n",
    "  2. end index, but no start index -- my_list[:10] -- will take all elements from start of the of the list to index 10, but not include value at index 10\n",
    "  3. both start and end index -- my_list[3:10] -- this will include all elements from index 3 all the way up to index 10, but not include index 10.\n",
    "  4. start and end index and step size -- my_list[3:10:2] -- same as #3 but take every other element.\n",
    "  5. no start index, end index, and step size -- my_list[:10:2] -- take all elements from start of list to index number 10, but not including index number 10; also take every other element."
   ]
  },
  {
   "cell_type": "code",
   "execution_count": 8,
   "id": "8625c1f4-4cc5-41f5-9815-36fca77ff816",
   "metadata": {},
   "outputs": [
    {
     "name": "stdout",
     "output_type": "stream",
     "text": [
      "['C', 'D']\n",
      "['B', 'C', 'D', 'F']\n",
      "['A', 'C', 'F']\n",
      "['B', 'F']\n"
     ]
    }
   ],
   "source": [
    "print(grades[2:4])\n",
    "print(grades[1::1])\n",
    "print(grades[0::2])\n",
    "print(grades[1::3])"
   ]
  },
  {
   "cell_type": "markdown",
   "id": "fa81122e-e79c-490c-8b95-a24d6c747e06",
   "metadata": {},
   "source": [
    "### -1 Index\n",
    "- Index -1 means the last index in the list\n",
    "- `grades[::-1]` -- This starts at the end of the list and ends at position zero by stepping backward because of `-1` index."
   ]
  },
  {
   "cell_type": "code",
   "execution_count": 9,
   "id": "2a09460b-97e6-4c3e-bca1-3807b097b217",
   "metadata": {},
   "outputs": [
    {
     "name": "stdout",
     "output_type": "stream",
     "text": [
      "F\n",
      "['F', 'D', 'C', 'B', 'A']\n"
     ]
    }
   ],
   "source": [
    "grades = ['A', 'B', 'C', 'D', 'F']\n",
    "print(grades[-1]) # returns the last element in the list\n",
    "print(grades[::-1]) # this is taking all the elements in the list but in reverse order; can be used to reverse a string"
   ]
  },
  {
   "cell_type": "markdown",
   "id": "39f30790-760f-4486-a086-5af209072187",
   "metadata": {},
   "source": [
    "### Reassigning a list"
   ]
  },
  {
   "cell_type": "code",
   "execution_count": 10,
   "id": "32124917-c597-4960-bdf2-94f0f7b1702d",
   "metadata": {},
   "outputs": [
    {
     "name": "stdout",
     "output_type": "stream",
     "text": [
      "['a', 'B', 'C', 'D', 'F']\n",
      "['a', 'a', 'C', 'D', 'F']\n",
      "['a', 'a', 'd', 'f']\n"
     ]
    }
   ],
   "source": [
    "grades = ['A', 'B', 'C', 'D', 'F']\n",
    "grades[0] = 'a'\n",
    "print(grades)\n",
    "grades[1:2] = 'a'\n",
    "print(grades)\n",
    "grades[2:] = ['d', 'f']\n",
    "print(grades)"
   ]
  },
  {
   "cell_type": "markdown",
   "id": "db3e0949-8b9e-4cf9-9cc6-0a0a9722b085",
   "metadata": {},
   "source": [
    "### Deleting from a list"
   ]
  },
  {
   "cell_type": "code",
   "execution_count": 11,
   "id": "d990b2e7-e136-448a-8155-0fa110285410",
   "metadata": {},
   "outputs": [
    {
     "name": "stdout",
     "output_type": "stream",
     "text": [
      "['B', 'C', 'D', 'F']\n",
      "['B', 'F']\n"
     ]
    }
   ],
   "source": [
    "grades = ['A', 'B', 'C', 'D', 'F']\n",
    "del grades[0]\n",
    "print(grades)\n",
    "del grades[1:3]\n",
    "print(grades)\n",
    "del grades"
   ]
  },
  {
   "cell_type": "code",
   "execution_count": 14,
   "id": "7bcb0c8d-77cb-4634-ba4d-dfc8a126fdb8",
   "metadata": {},
   "outputs": [
    {
     "name": "stdout",
     "output_type": "stream",
     "text": [
      "F\n",
      "A\n",
      "D\n"
     ]
    }
   ],
   "source": [
    "grades = ['A', 'B', 'C', 'D', 'F']\n",
    "print(grades.pop()) # deletes the last element in list and returns it \n",
    "print(grades.pop(0)) # deletes the first element in list and returns it\n",
    "print(grades.pop(2)) # deletes the fourth element in list and returns it"
   ]
  },
  {
   "cell_type": "markdown",
   "id": "1efcb2d8-aeb3-41c3-bb2b-20c841dfda9e",
   "metadata": {},
   "source": [
    "### The Multiplication Operator "
   ]
  },
  {
   "cell_type": "code",
   "execution_count": 15,
   "id": "e1839637-5758-4501-9dd0-db4c0f98f3bc",
   "metadata": {},
   "outputs": [
    {
     "name": "stdout",
     "output_type": "stream",
     "text": [
      "['A', 'B', 'C', 'D', 'F', 'A', 'B', 'C', 'D', 'F', 'A', 'B', 'C', 'D', 'F']\n"
     ]
    }
   ],
   "source": [
    "grades = ['A', 'B', 'C', 'D', 'F']\n",
    "grades *= 3\n",
    "print(grades)"
   ]
  },
  {
   "cell_type": "markdown",
   "id": "0582061d-3686-405d-ab5f-6736aa1f5d6a",
   "metadata": {},
   "source": [
    "### Can store different data types"
   ]
  },
  {
   "cell_type": "code",
   "execution_count": 16,
   "id": "96fc272b-9c27-4c9d-b33c-e1acc702ba10",
   "metadata": {},
   "outputs": [],
   "source": [
    "my_list = ['A', 1, 'Spam', True]\n",
    "my_list2 = [['John', [55, 65, 86]], ['Jane', [70, 80, 80]]]"
   ]
  },
  {
   "cell_type": "markdown",
   "id": "45f73b64-8694-4507-81ec-5e6d027a2204",
   "metadata": {},
   "source": [
    "### `in` Operator\n",
    "- The `in` operator returns `True` if an element exists in a list"
   ]
  },
  {
   "cell_type": "code",
   "execution_count": 17,
   "id": "5c5a43b2-f580-4bc5-a603-f1d11004e391",
   "metadata": {},
   "outputs": [
    {
     "data": {
      "text/plain": [
       "True"
      ]
     },
     "execution_count": 17,
     "metadata": {},
     "output_type": "execute_result"
    }
   ],
   "source": [
    "my_list = ['A', 1, 'Spam', True]\n",
    "'A' in my_list"
   ]
  },
  {
   "cell_type": "markdown",
   "id": "574de661-7b54-4f4e-8b1a-7a9c076d110c",
   "metadata": {},
   "source": [
    "### Built-in List Functions\n",
    "- `len()` calculate length of list\n",
    "- `max()` calculate max of list\n",
    "- `min()` calculate min of list\n",
    "- `sum()` calculate sum of list\n",
    "- `sorted()` return a sorted list\n",
    "- `list()` cast to type list -- convert tuple to list or a generator to list\n",
    "- `any()` return `True` if the truthiness of any value is `True` in the list\n",
    "- `all()` return `True` if the truthiness of all the values is `True` in the list"
   ]
  },
  {
   "cell_type": "markdown",
   "id": "4d6da64a-e6f6-4ace-add8-4bfbc003aa32",
   "metadata": {},
   "source": [
    "### List unpacking "
   ]
  },
  {
   "cell_type": "code",
   "execution_count": 18,
   "id": "55e3cf0b-c9f2-4335-ac90-c9e24de282ea",
   "metadata": {},
   "outputs": [],
   "source": [
    "a, b = [3,4]"
   ]
  },
  {
   "cell_type": "markdown",
   "id": "8c42d48c-e4c9-4c13-a386-69965aa24876",
   "metadata": {},
   "source": [
    "### List methods (functions)\n",
    "Lists supports the following methods:\n",
    "- `append(value)` - add an element to the end of a list\n",
    "- `insert(index, value)` - insert an element to the list at the specified location\n",
    "- `remove(value)` - remove the first matching value from a list \n",
    "- `pop()` - remove the last element in the list; also returns the value; you can save this to another variable\n",
    "- `pop(index)` - remove the element at specified index in the list; also returns the value; you can save this to another variable\n",
    "- `clear()` - empty the list\n",
    "- `index(element)` - return position of first matching element\n",
    "- `count(element)` - return the number of elements in the list that match `element`;\n",
    "- `sort()` - sort the list in place \n",
    "- `reverse()` - reverse the list in place"
   ]
  },
  {
   "cell_type": "markdown",
   "id": "0060a53e-a99c-4005-bd6f-1c851d721e0b",
   "metadata": {
    "jp-MarkdownHeadingCollapsed": true,
    "tags": []
   },
   "source": [
    "## TUPLES"
   ]
  },
  {
   "cell_type": "markdown",
   "id": "e32053d0-55e5-4443-a723-5f2bf10dc70b",
   "metadata": {},
   "source": [
    "- Tuples just like lists except that they are immutable. Once you have created a tuple, you cannot modify it. \n",
    "- Why use them?\n",
    "  - Faster than lists\n",
    "  - Make code safer -- because you cannot change it\n",
    "  - Valid keys in a dictionary"
   ]
  },
  {
   "cell_type": "code",
   "execution_count": 19,
   "id": "4bdae447-5640-47fb-816b-35cc655fb3b4",
   "metadata": {},
   "outputs": [
    {
     "name": "stdout",
     "output_type": "stream",
     "text": [
      "(1, 2, 3, [4, 5, 6, 7])\n"
     ]
    }
   ],
   "source": [
    "my_tuple = (1, 2, 3, [4, 5, 6])\n",
    "my_tuple[3].append(7)\n",
    "print(my_tuple)"
   ]
  },
  {
   "cell_type": "markdown",
   "id": "3857c311-3393-4937-a61e-98a5d2259982",
   "metadata": {
    "jp-MarkdownHeadingCollapsed": true,
    "tags": []
   },
   "source": [
    "## STRINGS AS LISTS"
   ]
  },
  {
   "cell_type": "code",
   "execution_count": 20,
   "id": "a721a05d-82bc-4398-8067-59e7ea451b8c",
   "metadata": {},
   "outputs": [
    {
     "name": "stdout",
     "output_type": "stream",
     "text": [
      "D\n",
      "n\n",
      "e\n"
     ]
    }
   ],
   "source": [
    "# Remember, strings are a sequence, so you can index them.\n",
    "my_string = 'Doe, John'\n",
    "print(my_string[0])\n",
    "print(my_string[-1])\n",
    "print(my_string[2])"
   ]
  },
  {
   "cell_type": "markdown",
   "id": "ac158f31-3d2d-46a4-8b8e-6a8685081db0",
   "metadata": {},
   "source": [
    "### Splitting a Name"
   ]
  },
  {
   "cell_type": "code",
   "execution_count": 22,
   "id": "43959445-c9f7-40ee-acd3-24945b02dfd9",
   "metadata": {},
   "outputs": [
    {
     "name": "stdout",
     "output_type": "stream",
     "text": [
      "['Doe,', 'John']\n",
      "['Doe', ' John']\n",
      "['Doe', 'John']\n"
     ]
    }
   ],
   "source": [
    "my_string = 'Doe, John'\n",
    "print(my_string.split())\n",
    "print(my_string.split(','))\n",
    "print(my_string.split(', '))"
   ]
  },
  {
   "cell_type": "markdown",
   "id": "5c8a64d9-b96b-4a8c-96e9-27f83a3aa9c2",
   "metadata": {},
   "source": [
    "### Splitting a Date"
   ]
  },
  {
   "cell_type": "code",
   "execution_count": 23,
   "id": "be0ac162-5c76-418c-85a9-05f46e480cbd",
   "metadata": {},
   "outputs": [
    {
     "name": "stdout",
     "output_type": "stream",
     "text": [
      "['2023', '05', '23']\n",
      "2023 05 23\n",
      "2023 5 23\n"
     ]
    }
   ],
   "source": [
    "# Example 1\n",
    "date = '2023/05/23'\n",
    "print(date.split('/'))\n",
    "\n",
    "year, month, day = date.split('/')\n",
    "print(year, month, day)\n",
    "print(int(year), int(month), int(day))"
   ]
  },
  {
   "cell_type": "code",
   "execution_count": 25,
   "id": "558dc51a-449a-4ba0-84e6-36d11d937667",
   "metadata": {},
   "outputs": [
    {
     "name": "stdout",
     "output_type": "stream",
     "text": [
      "['05', '23', '2023']\n",
      "05 23 2023\n",
      "5 23 2023\n"
     ]
    }
   ],
   "source": [
    "# Example 2\n",
    "date = '05-23-2023'\n",
    "print(date.split('-'))\n",
    "\n",
    "month, day, year = date.split('-')\n",
    "print(month, day, year)\n",
    "print(int(month), int(day), int(year))"
   ]
  },
  {
   "cell_type": "code",
   "execution_count": 26,
   "id": "c56c077d-bfed-4bca-b341-a7b429678aa7",
   "metadata": {},
   "outputs": [
    {
     "name": "stdout",
     "output_type": "stream",
     "text": [
      "05 23 2023\n",
      "5 23 2023\n"
     ]
    }
   ],
   "source": [
    "# Example 3\n",
    "date = '05-23-2023'\n",
    "\n",
    "month, day, year = date[:2], date[3:5], date[6:]\n",
    "print(month, day, year)\n",
    "print(int(month), int(day), int(year))"
   ]
  },
  {
   "cell_type": "markdown",
   "id": "bb04c4f1-8c85-4ff2-8484-3276aee5fc25",
   "metadata": {},
   "source": [
    "### Limiting Splits"
   ]
  },
  {
   "cell_type": "code",
   "execution_count": 27,
   "id": "0b302456-9a0a-4ab2-b2f6-b75bd916eaa0",
   "metadata": {},
   "outputs": [
    {
     "name": "stdout",
     "output_type": "stream",
     "text": [
      "['range', 'start=3;end=20;step=2']\n"
     ]
    }
   ],
   "source": [
    "my_string = 'range=start=3;end=20;step=2'\n",
    "print(my_string.split('=', 1))"
   ]
  },
  {
   "cell_type": "code",
   "execution_count": 28,
   "id": "248cd416-d926-4daa-95b6-ff4d514707b1",
   "metadata": {},
   "outputs": [
    {
     "name": "stdout",
     "output_type": "stream",
     "text": [
      "3 20 2\n"
     ]
    }
   ],
   "source": [
    "my_string = 'range=start=3;end=20;step=2'\n",
    "range_options = my_string.split('=', 1)[1]\n",
    "start, end, step = range_options.split(';')\n",
    "start = start.split('=')[1] # or [-1]\n",
    "end = end.split('=')[1] # or [-1]\n",
    "step = step.split('=')[1] # or [-1]\n",
    "print(start, end, step)"
   ]
  },
  {
   "cell_type": "markdown",
   "id": "2f58fec2-7bf3-44a9-9ea3-79c99b517d96",
   "metadata": {},
   "source": [
    "### Spliting Lines"
   ]
  },
  {
   "cell_type": "code",
   "execution_count": 29,
   "id": "788743a1-6fd7-472b-b3fd-6b6567adadd8",
   "metadata": {},
   "outputs": [
    {
     "name": "stdout",
     "output_type": "stream",
     "text": [
      "['First', 'line', 'Second', 'line', 'Third', 'line']\n",
      "['First line', 'Second line', 'Third line']\n",
      "['First line', 'Second line', 'Third line']\n"
     ]
    }
   ],
   "source": [
    "long_string='First line\\nSecond line\\nThird line'\n",
    "print(long_string.split())\n",
    "print(long_string.split('\\n'))\n",
    "print(long_string.splitlines())"
   ]
  },
  {
   "cell_type": "markdown",
   "id": "546d1c9b-15d0-4351-bc4e-af6aaea29779",
   "metadata": {},
   "source": [
    "### Checking Character Type Manually"
   ]
  },
  {
   "cell_type": "code",
   "execution_count": 30,
   "id": "3281d966-f8b3-464f-9f08-98e604494696",
   "metadata": {},
   "outputs": [
    {
     "name": "stdout",
     "output_type": "stream",
     "text": [
      "E Upper Case\n",
      "a Lower Case\n",
      "S Upper Case\n",
      "5 Digit\n",
      "0 Digit\n",
      "3 Digit\n",
      "! Not Alpha Numeric\n"
     ]
    }
   ],
   "source": [
    "my_string = 'EaS503!'\n",
    "\n",
    "def char_type(char):\n",
    "    if 'A' <= char <= 'Z':\n",
    "        return 'Upper Case'\n",
    "    elif 'a' <= char <= 'z':\n",
    "        return 'Lower Case'\n",
    "    elif '0' <= char <= '9':\n",
    "        return 'Digit'\n",
    "    else:\n",
    "        return 'Not Alpha Numeric'\n",
    "\n",
    "\n",
    "print(my_string[0], char_type(my_string[0]))\n",
    "print(my_string[1], char_type(my_string[1]))\n",
    "print(my_string[2], char_type(my_string[2]))\n",
    "print(my_string[3], char_type(my_string[3]))\n",
    "print(my_string[4], char_type(my_string[4]))\n",
    "print(my_string[5], char_type(my_string[5]))\n",
    "print(my_string[6], char_type(my_string[6]))"
   ]
  }
 ],
 "metadata": {
  "kernelspec": {
   "display_name": "Python 3 (ipykernel)",
   "language": "python",
   "name": "python3"
  },
  "language_info": {
   "codemirror_mode": {
    "name": "ipython",
    "version": 3
   },
   "file_extension": ".py",
   "mimetype": "text/x-python",
   "name": "python",
   "nbconvert_exporter": "python",
   "pygments_lexer": "ipython3",
   "version": "3.10.11"
  }
 },
 "nbformat": 4,
 "nbformat_minor": 5
}
