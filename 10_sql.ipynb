{
 "cells": [
  {
   "cell_type": "markdown",
   "id": "5d29f5cb-015e-4713-b397-73d9eec12e82",
   "metadata": {},
   "source": [
    "# CHAPTER 10 - SQL"
   ]
  },
  {
   "cell_type": "markdown",
   "id": "3fa10d6d-88aa-4b4b-91b5-98e024f0de9f",
   "metadata": {
    "tags": []
   },
   "source": [
    "## CREATING TABLES"
   ]
  },
  {
   "cell_type": "markdown",
   "id": "ecbfb194-1f4e-4bf5-b064-4cb3247f66cc",
   "metadata": {
    "jp-MarkdownHeadingCollapsed": true,
    "tags": []
   },
   "source": [
    "### Basic"
   ]
  },
  {
   "cell_type": "markdown",
   "id": "1571c108-650d-43d4-8d06-2b54dc930578",
   "metadata": {},
   "source": [
    "A database is made up of tables. Tables are made up of columns and rows. A database can be considered like an Excel file and the sheets in your Excel file are like tables. The power of database comes from joining different tables based on shared column information/name between tables and filtering and aggregating rows. SQL is the language that allows you to create, update, delete, filter, and aggregate tables. Often the first step in data wrangling is to extract the data you need from an SQL table. Sometimes you might even have to parse data and populate into a database before you can start using it."
   ]
  },
  {
   "cell_type": "markdown",
   "id": "baf78278-b32c-45af-be92-99cee016b36d",
   "metadata": {
    "jp-MarkdownHeadingCollapsed": true,
    "tags": []
   },
   "source": [
    "### Sqlite3"
   ]
  },
  {
   "cell_type": "markdown",
   "id": "62e1e951-006e-410b-b3f4-8e245c712d55",
   "metadata": {},
   "source": [
    "- SQLite3 supports three primitive data types: INTEGER, REAL, TEXT, and BLOB.\n",
    "- SQLite3 is dynamically typed. This means that even if you specify a column to be data type real or integer, you can insert a string type into it. If the string type can be cast into a numeric type, it will be, otherwise it will be left as is. \n",
    "- If you apply a sum or other math function to a column with mixed data types, only the numerical values will be used."
   ]
  },
  {
   "cell_type": "markdown",
   "id": "26ab5e8d-d846-4ff7-9d8b-1c5bd5c32054",
   "metadata": {
    "jp-MarkdownHeadingCollapsed": true,
    "tags": []
   },
   "source": [
    "### Creating a Table"
   ]
  },
  {
   "cell_type": "markdown",
   "id": "c7997883-00ac-4d6f-b1c9-f5b14bde8191",
   "metadata": {},
   "source": [
    "Tables are created using the `CREATE TABLE <name_of_table>` directive followed by a pair of parenthesis inside\n",
    "which is a definition of each of the columns, meaning column names, their respective data type, and if they \n",
    "allow `NULL` values or not, default is to allow `NULL` values, and if they are a `PRIMARY KEY`. In addition, create statements can link a table column to another\n",
    "column using the `REFERENCES` keyword."
   ]
  },
  {
   "cell_type": "markdown",
   "id": "9e71fe7c-1684-4bd5-8de7-3c928db2c3e3",
   "metadata": {},
   "source": [
    "#### A simple table\n",
    "The following SQL command creates a students table with six columns \n",
    "\n",
    "```SQL\n",
    "CREATE TABLE Students (\n",
    "    last_name TEXT, \n",
    "    first_name TEXT, \n",
    "    username TEXT, \n",
    "    exam1 REAL, \n",
    "    exam2 REAL, \n",
    "    exam3 REAL\n",
    ");\n",
    "```"
   ]
  },
  {
   "cell_type": "markdown",
   "id": "e40a5ca5-aa16-468e-8fdf-1a4e38ffb7fa",
   "metadata": {},
   "source": [
    "#### Inserting some values into a table\n",
    "You can insert values into a table using the `INSERT INTO <name_of_table> (<name_of_column_1>, <name_of_column_2>, ....)\n",
    "VALUES (<value_of_column_1>, <value_of_column_1>, ...);` The following SQL statements insert some values into a table with some\n",
    "variations."
   ]
  },
  {
   "cell_type": "markdown",
   "id": "b425366e-299f-4d3b-a1be-7c7a90a80b0d",
   "metadata": {
    "tags": []
   },
   "source": [
    "#### Valid Insert statements"
   ]
  },
  {
   "cell_type": "markdown",
   "id": "6d687fbd-9b2f-4327-9311-f513a3a82d86",
   "metadata": {
    "jp-MarkdownHeadingCollapsed": true,
    "tags": []
   },
   "source": [
    "```SQL\n",
    "INSERT INTO Students (last_name, first_name, username, exam1, exam2, exam3) VALUES ('Doe', 'John', 'johndoe', 98, 76, 89);\n",
    "INSERT INTO Students (first_name, last_name, username, exam1, exam2, exam3) VALUES ('Emily', 'Shepard', 'eshepard', 88, 96, 90);\n",
    "INSERT INTO Students VALUES ('Doe', 'Jane', 'janedoe', 89, 64, 39);\n",
    "INSERT INTO Students (last_name, first_name, username) VALUES ('Smith', 'John', 'johnsmith');\n",
    "INSERT INTO Students (exam1, exam2, exam3) VALUES (78, 99, 83);\n",
    "INSERT INTO Students (exam1, exam2, exam3) VALUES ('25', '33', '45');\n",
    "INSERT INTO Students  VALUES (56, 32, 33, 'Eaglestone', 'Ken', 'keagle');\n",
    "```\n",
    "\n",
    "1. In the first insert statement all columns names and their corresponding values are supplied in the order of create table statement. \n",
    "2. In the second insert statement, the order of the columns names are changed (first and last name), but SQLite3 will put them in the correct column. \n",
    "3. In the third insert statement, if all the number of values supplied correspond to the number of rows, then SQLite3 will insert them into the table in the order of the create statement. \n",
    "4. In the fourth insert statement, it is possible to only supply some values since by default all columns allow null values. \n",
    "5. In the fifth insert statement, only the names exams values a provided. This is allowed because by default all columns allow null values, but his is poor database design. \n",
    "6. In the sixth insert statement, only exams values are provided, but they are type string. SQLite3 will convert them to `REAL` before inserting them into the table. \n",
    "7. In the seventh insert statement, all the values are inserted into the wrong column, which is allowed by SQLite3 since it is dynamically types, so be very careful!"
   ]
  },
  {
   "cell_type": "markdown",
   "id": "145a268e-f49f-45b5-bfec-1e4b05f5c983",
   "metadata": {},
   "source": [
    "#### Invalid Insert Statement"
   ]
  },
  {
   "cell_type": "markdown",
   "id": "4287ca89-8926-48fe-a371-9032886e0f4f",
   "metadata": {},
   "source": [
    "```SQL\n",
    "INSERT INTO Students  VALUES ('Smith', 'John', 'johnsmith');\n",
    "```\n",
    "\n",
    "```SQL\n",
    "Execution finished with errors.\n",
    "Result: table Students has 6 columns but 3 values were supplied\n",
    "At line 1:\n",
    "INSERT INTO Students  VALUES ('Smith', 'Jake', 'johnsmith');\n",
    "```"
   ]
  },
  {
   "cell_type": "markdown",
   "id": "48261ea5-dc33-4197-9da1-54b44ce82df5",
   "metadata": {
    "jp-MarkdownHeadingCollapsed": true,
    "tags": []
   },
   "source": [
    "### Adding `NOT NULL` constraint"
   ]
  },
  {
   "cell_type": "markdown",
   "id": "f9e5556a-b71c-4760-8e60-3c09196f1414",
   "metadata": {},
   "source": [
    "In the previous table we highlighted a poor database design where you could insert exams scores without a student. \n",
    "We fix this by making the student fields `NOT NULL`, meaning they have to be specified. \n",
    "\n",
    "Note you can drop a table using `DROP TABLE <name_of_table>`. \n",
    "\n",
    "```SQL\n",
    "DROP TABLE Students;\n",
    "CREATE TABLE Students (\n",
    "    last_name TEXT NOT NULL, \n",
    "    first_name TEXT NOT NULL, \n",
    "    username TEXT NOT NULL, \n",
    "    exam1 REAL, \n",
    "    exam2 REAL, \n",
    "    exam3 REAL\n",
    ");\n",
    "```\n",
    "\n",
    "- Note that the two separate SQL statements are separated by `;`. \n",
    "\n",
    "If we know attempt to enter a student exam score without the name fields, SQLite3 will raise an error. \n",
    "\n",
    "```SQL\n",
    "INSERT INTO Students('exam1') VALUES ('52');\n",
    "```\n",
    "\n",
    "```SQL\n",
    "Execution finished with errors.\n",
    "Result: NOT NULL constraint failed: Students.last_name\n",
    "At line 10:\n",
    "INSERT INTO Students('exam1') VALUES ('52');\n",
    "```"
   ]
  },
  {
   "cell_type": "markdown",
   "id": "a07de907-9aab-4cfc-81ec-c71114899fc2",
   "metadata": {
    "tags": []
   },
   "source": [
    "### Primary Keys"
   ]
  },
  {
   "cell_type": "markdown",
   "id": "350898d8-8d0e-4f2b-accd-a47f24d288d3",
   "metadata": {},
   "source": [
    "When you create any table, SQLite3 adds a hidden column called `rowid`. \n",
    "\n",
    "```SQL\n",
    "DROP TABLE IF EXISTS Teachers;\n",
    "CREATE TABLE Teachers(\n",
    "  TeacherName  TEXT NOT NULL\n",
    ");\n",
    "\n",
    "INSERT INTO Teachers ('TeacherName') VALUES ('John Smith');\n",
    "INSERT INTO Teachers ('TeacherName') VALUES ('John Smith');\n",
    "SELECT rowid, * FROM Teachers;\n",
    "```"
   ]
  },
  {
   "cell_type": "code",
   "execution_count": 1,
   "id": "42f98887-2285-444b-a5fb-13e660f11434",
   "metadata": {},
   "outputs": [
    {
     "data": {
      "text/html": [
       "<div>\n",
       "<style scoped>\n",
       "    .dataframe tbody tr th:only-of-type {\n",
       "        vertical-align: middle;\n",
       "    }\n",
       "\n",
       "    .dataframe tbody tr th {\n",
       "        vertical-align: top;\n",
       "    }\n",
       "\n",
       "    .dataframe thead th {\n",
       "        text-align: right;\n",
       "    }\n",
       "</style>\n",
       "<table border=\"1\" class=\"dataframe\">\n",
       "  <thead>\n",
       "    <tr style=\"text-align: right;\">\n",
       "      <th></th>\n",
       "      <th>TeacherName</th>\n",
       "    </tr>\n",
       "  </thead>\n",
       "  <tbody>\n",
       "    <tr>\n",
       "      <th>0</th>\n",
       "      <td>John Smith</td>\n",
       "    </tr>\n",
       "    <tr>\n",
       "      <th>1</th>\n",
       "      <td>John Smith</td>\n",
       "    </tr>\n",
       "  </tbody>\n",
       "</table>\n",
       "</div>"
      ],
      "text/plain": [
       "  TeacherName\n",
       "0  John Smith\n",
       "1  John Smith"
      ]
     },
     "metadata": {},
     "output_type": "display_data"
    },
    {
     "data": {
      "text/html": [
       "<div>\n",
       "<style scoped>\n",
       "    .dataframe tbody tr th:only-of-type {\n",
       "        vertical-align: middle;\n",
       "    }\n",
       "\n",
       "    .dataframe tbody tr th {\n",
       "        vertical-align: top;\n",
       "    }\n",
       "\n",
       "    .dataframe thead th {\n",
       "        text-align: right;\n",
       "    }\n",
       "</style>\n",
       "<table border=\"1\" class=\"dataframe\">\n",
       "  <thead>\n",
       "    <tr style=\"text-align: right;\">\n",
       "      <th></th>\n",
       "      <th>rowid</th>\n",
       "      <th>TeacherName</th>\n",
       "    </tr>\n",
       "  </thead>\n",
       "  <tbody>\n",
       "    <tr>\n",
       "      <th>0</th>\n",
       "      <td>1</td>\n",
       "      <td>John Smith</td>\n",
       "    </tr>\n",
       "    <tr>\n",
       "      <th>1</th>\n",
       "      <td>2</td>\n",
       "      <td>John Smith</td>\n",
       "    </tr>\n",
       "  </tbody>\n",
       "</table>\n",
       "</div>"
      ],
      "text/plain": [
       "   rowid TeacherName\n",
       "0      1  John Smith\n",
       "1      2  John Smith"
      ]
     },
     "metadata": {},
     "output_type": "display_data"
    }
   ],
   "source": [
    "import sqlite3\n",
    "import pandas as pd\n",
    "\n",
    "conn = sqlite3.connect('./data/primary_key_example.db')\n",
    "\n",
    "sql_statements = \"\"\"\n",
    "DROP TABLE IF EXISTS Teachers;\n",
    "CREATE TABLE Teachers(\n",
    "  TeacherName  TEXT NOT NULL\n",
    ");\n",
    "\n",
    "INSERT INTO Teachers ('TeacherName') VALUES ('John Smith');\n",
    "INSERT INTO Teachers ('TeacherName') VALUES ('John Smith');\n",
    "SELECT rowid, * FROM Teachers;\n",
    "\"\"\"\n",
    "\n",
    "with conn:\n",
    "    cur = conn.cursor()\n",
    "    cur.executescript(sql_statements)\n",
    "\n",
    "\n",
    "sql_statement = \"\"\"\n",
    "SELECT * FROM Teachers;\n",
    "\"\"\"\n",
    "df = pd.read_sql_query(sql_statement, conn)\n",
    "df.style.set_table_attributes('style=\"font-size: 12px\"')\n",
    "display(df)\n",
    "\n",
    "sql_statement = \"\"\"\n",
    "SELECT rowid, * FROM Teachers;\n",
    "\"\"\"\n",
    "df = pd.read_sql_query(sql_statement, conn)\n",
    "df.style.set_table_attributes('style=\"font-size: 12px\"')\n",
    "display(df)"
   ]
  },
  {
   "cell_type": "markdown",
   "id": "ff276028-5f2e-46ef-ba35-7b55ca7dd078",
   "metadata": {},
   "source": [
    "Note: `DROP TABLE IF EXISTS Teachers;` is used to drop the table if it exists. This is useful if you want to run the create statement over and over again with changes. \n",
    "\n",
    "When you create a table that has an INTEGER NOT NULL PRIMARY KEY column, this column is the alias of the rowid column.\n",
    "\n",
    "It uniquely identifies a row in a table. Primary keys have the following properties:\n",
    "1. Primary keys can consist of one or more columns, meaning multiple columns combined can uniquely define a row. \n",
    "2. Primary keys cannot be duplicated since they uniquely identify a row in a table. \n",
    "3. Primary keys cannot be NULL since a blank value cannot identify a row in a table. \n",
    "4. There can only be one primary key per table. Note that this is different from a primary key being made up of multiple tables. \n",
    "5. Primary keys are indexed automatically. \n",
    "6. INTEGER primary keys are auto-increment fields starting at 1.\n",
    "\n",
    "```SQL\n",
    "DROP TABLE Teachers;\n",
    "CREATE TABLE Teachers (\n",
    "   TeacherId INTEGER NOT NULL PRIMARY KEY,\n",
    "   TeacherName  TEXT NOT NULL\n",
    ");\n",
    "INSERT INTO Teachers ('TeacherName') VALUES ('John Smith');\n",
    "INSERT INTO Teachers ('TeacherName') VALUES ('John Smith');\n",
    "SELECT * FROM Teachers;\n",
    "```"
   ]
  },
  {
   "cell_type": "code",
   "execution_count": 3,
   "id": "9a1aa700-2e7c-4b70-bd47-86f130fa3e32",
   "metadata": {},
   "outputs": [
    {
     "data": {
      "text/html": [
       "<style type=\"text/css\">\n",
       "</style>\n",
       "<table id=\"T_96b61\" style=\"font-size: 12px\">\n",
       "  <thead>\n",
       "    <tr>\n",
       "      <th class=\"blank level0\" >&nbsp;</th>\n",
       "      <th id=\"T_96b61_level0_col0\" class=\"col_heading level0 col0\" >TeacherId</th>\n",
       "      <th id=\"T_96b61_level0_col1\" class=\"col_heading level0 col1\" >TeacherName</th>\n",
       "    </tr>\n",
       "  </thead>\n",
       "  <tbody>\n",
       "    <tr>\n",
       "      <th id=\"T_96b61_level0_row0\" class=\"row_heading level0 row0\" >0</th>\n",
       "      <td id=\"T_96b61_row0_col0\" class=\"data row0 col0\" >1</td>\n",
       "      <td id=\"T_96b61_row0_col1\" class=\"data row0 col1\" >John Smith</td>\n",
       "    </tr>\n",
       "    <tr>\n",
       "      <th id=\"T_96b61_level0_row1\" class=\"row_heading level0 row1\" >1</th>\n",
       "      <td id=\"T_96b61_row1_col0\" class=\"data row1 col0\" >2</td>\n",
       "      <td id=\"T_96b61_row1_col1\" class=\"data row1 col1\" >John Smith</td>\n",
       "    </tr>\n",
       "  </tbody>\n",
       "</table>\n"
      ],
      "text/plain": [
       "<pandas.io.formats.style.Styler at 0x7f778f548d90>"
      ]
     },
     "execution_count": 3,
     "metadata": {},
     "output_type": "execute_result"
    }
   ],
   "source": [
    "import sqlite3\n",
    "import pandas as pd\n",
    "\n",
    "conn = sqlite3.connect('primary_key_example.db')\n",
    "\n",
    "sql_statements = \"\"\"\n",
    "DROP TABLE IF EXISTS Teachers;\n",
    "CREATE TABLE Teachers (\n",
    "   TeacherId INTEGER NOT NULL PRIMARY KEY,\n",
    "   TeacherName  TEXT NOT NULL\n",
    ");\n",
    "INSERT INTO Teachers ('TeacherName') VALUES ('John Smith');\n",
    "INSERT INTO Teachers ('TeacherName') VALUES ('John Smith');\n",
    "SELECT * FROM Teachers;\n",
    "\"\"\"\n",
    "\n",
    "with conn:\n",
    "    cur = conn.cursor()\n",
    "    cur.executescript(sql_statements)\n",
    "\n",
    "\n",
    "sql_statement = \"\"\"\n",
    "SELECT * FROM Teachers;\n",
    "\"\"\"\n",
    "df = pd.read_sql_query(sql_statement, conn)\n",
    "df.style.set_table_attributes('style=\"font-size: 12px\"')"
   ]
  },
  {
   "cell_type": "markdown",
   "id": "27d9ddbc-5eaf-4651-a655-2c7db02b001c",
   "metadata": {},
   "source": [
    "### Adding a `unique` constraint"
   ]
  },
  {
   "cell_type": "markdown",
   "id": "4c49a4cb-0f46-4783-adee-e0aa1a454f5e",
   "metadata": {},
   "source": [
    "In the previous examples teachers table, it is possible to add multiple John Smiths. How can you identify one John Smith\n",
    "from another John Smith. One way would be to assign teachers unique IDs that cannot be reused. A column can be made unique\n",
    "by using the `UNIQUE` keyword. \n",
    "\n",
    "```SQL\n",
    "DROP TABLE Teachers;\n",
    "CREATE TABLE Teachers (\n",
    "   TeacherId INTEGER NOT NULL PRIMARY KEY,\n",
    "   TeacherName  TEXT NOT NULL,\n",
    "   TeacherEmployeeID INTEGER NOT NULL,\n",
    "   UNIQUE (TeacherEmployeeID)\n",
    ");\n",
    "INSERT INTO Teachers ('TeacherName', 'TeacherEmployeeID') VALUES ('John Smith', 100001);\n",
    "INSERT INTO Teachers ('TeacherName', 'TeacherEmployeeID') VALUES ('John Smith', 100002);\n",
    "SELECT * FROM Teachers;\n",
    "```"
   ]
  },
  {
   "cell_type": "code",
   "execution_count": 4,
   "id": "ffa8dcc5-9c8b-4cb5-b0bf-83ec36fd077a",
   "metadata": {},
   "outputs": [
    {
     "data": {
      "text/html": [
       "<style type=\"text/css\">\n",
       "</style>\n",
       "<table id=\"T_055a3\" style=\"font-size: 12px\">\n",
       "  <thead>\n",
       "    <tr>\n",
       "      <th class=\"blank level0\" >&nbsp;</th>\n",
       "      <th id=\"T_055a3_level0_col0\" class=\"col_heading level0 col0\" >TeacherId</th>\n",
       "      <th id=\"T_055a3_level0_col1\" class=\"col_heading level0 col1\" >TeacherName</th>\n",
       "      <th id=\"T_055a3_level0_col2\" class=\"col_heading level0 col2\" >TeacherEmployeeID</th>\n",
       "    </tr>\n",
       "  </thead>\n",
       "  <tbody>\n",
       "    <tr>\n",
       "      <th id=\"T_055a3_level0_row0\" class=\"row_heading level0 row0\" >0</th>\n",
       "      <td id=\"T_055a3_row0_col0\" class=\"data row0 col0\" >1</td>\n",
       "      <td id=\"T_055a3_row0_col1\" class=\"data row0 col1\" >John Smith</td>\n",
       "      <td id=\"T_055a3_row0_col2\" class=\"data row0 col2\" >100001</td>\n",
       "    </tr>\n",
       "    <tr>\n",
       "      <th id=\"T_055a3_level0_row1\" class=\"row_heading level0 row1\" >1</th>\n",
       "      <td id=\"T_055a3_row1_col0\" class=\"data row1 col0\" >2</td>\n",
       "      <td id=\"T_055a3_row1_col1\" class=\"data row1 col1\" >John Smith</td>\n",
       "      <td id=\"T_055a3_row1_col2\" class=\"data row1 col2\" >100002</td>\n",
       "    </tr>\n",
       "  </tbody>\n",
       "</table>\n"
      ],
      "text/plain": [
       "<pandas.io.formats.style.Styler at 0x7f778f5062c0>"
      ]
     },
     "execution_count": 4,
     "metadata": {},
     "output_type": "execute_result"
    }
   ],
   "source": [
    "import sqlite3\n",
    "import pandas as pd\n",
    "\n",
    "conn = sqlite3.connect('primary_key_example.db')\n",
    "\n",
    "sql_statements = \"\"\"\n",
    "DROP TABLE Teachers;\n",
    "CREATE TABLE Teachers (\n",
    "   TeacherId INTEGER NOT NULL PRIMARY KEY,\n",
    "   TeacherName  TEXT NOT NULL,\n",
    "   TeacherEmployeeID INTEGER NOT NULL,\n",
    "   UNIQUE (TeacherEmployeeID)\n",
    ");\n",
    "INSERT INTO Teachers ('TeacherName', 'TeacherEmployeeID') VALUES ('John Smith', 100001);\n",
    "INSERT INTO Teachers ('TeacherName', 'TeacherEmployeeID') VALUES ('John Smith', 100002);\n",
    "\"\"\"\n",
    "\n",
    "with conn:\n",
    "    cur = conn.cursor()\n",
    "    cur.executescript(sql_statements)\n",
    "\n",
    "sql_statement = \"\"\"\n",
    "SELECT * FROM Teachers;\n",
    "\"\"\"\n",
    "df = pd.read_sql_query(sql_statement, conn)\n",
    "df.style.set_table_attributes('style=\"font-size: 12px\"')"
   ]
  },
  {
   "cell_type": "markdown",
   "id": "f4dc82bd-713c-4f6d-bbef-3681e42988ee",
   "metadata": {},
   "source": [
    "## Foreign Keys"
   ]
  },
  {
   "cell_type": "markdown",
   "id": "6e17f839-6625-4832-830b-5df85397251f",
   "metadata": {},
   "source": [
    "What is a foreign key? In a relational database, you can relate one table to another table. \n",
    "The two tables can be related if and only if both tables have one column in common. \n",
    "This column has to be declared as a INTEGER/TEXT data type that cannot be NULL and has the PRIMARY KEY constraint, e.g., \n",
    "`<name_of_column> INTEGER NOT NULL PRIMARY KEY`.It seems INTEGER foreign keys are preferred over TEXT ones. See the following\n",
    "references:\n",
    "   - https://stackoverflow.com/questions/3162202/sql-primary-key-integer-vs-varchar\n",
    "   - https://stackoverflow.com/questions/9206391/int-vs-varchar-datatype-for-primary-keys\n",
    "<br>\n",
    "\n",
    "- Foreign key constraint are NOT enabled by default in SQLite. Execute `PRAGMA foreign_keys = ON;` to enable foreign key constraint. "
   ]
  },
  {
   "cell_type": "code",
   "execution_count": null,
   "id": "2bbd2b1f-faa8-4234-8a22-0a28b2466636",
   "metadata": {},
   "outputs": [],
   "source": []
  }
 ],
 "metadata": {
  "kernelspec": {
   "display_name": "Python 3 (ipykernel)",
   "language": "python",
   "name": "python3"
  },
  "language_info": {
   "codemirror_mode": {
    "name": "ipython",
    "version": 3
   },
   "file_extension": ".py",
   "mimetype": "text/x-python",
   "name": "python",
   "nbconvert_exporter": "python",
   "pygments_lexer": "ipython3",
   "version": "3.10.11"
  }
 },
 "nbformat": 4,
 "nbformat_minor": 5
}
