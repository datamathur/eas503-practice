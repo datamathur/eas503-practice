{
 "cells": [
  {
   "cell_type": "markdown",
   "id": "b760647a-e950-4259-878b-35fe9aea936f",
   "metadata": {
    "tags": []
   },
   "source": [
    "# CHAPTER 1 - FUNDAMENTALS"
   ]
  },
  {
   "cell_type": "markdown",
   "id": "cd8995e4-b9d1-475d-b26b-426bf67de890",
   "metadata": {
    "tags": []
   },
   "source": [
    "## GETTING STARTED"
   ]
  },
  {
   "cell_type": "markdown",
   "id": "56ba1712-c732-4406-aa9e-8e45a1bf6119",
   "metadata": {
    "tags": []
   },
   "source": [
    "### Basic Definitions\n",
    "- Hardware: The physical components of a computing system.\n",
    "- Computer: A machine that stores and manipulates information under the control of a changeable program.\n",
    "- Program: A detailed set of instructions for a computer to carry out.\n",
    "- Programming: The process of creating a computer program to solve some problem.\n",
    "- Programming Language: A notation for writing computer programs. Usually used to refer to high-level languages such as Python, Java, C++, etc.\n",
    "- High-level Language: A programming language that is human readable. \n",
    "- Low-level Language: A programming language that has less abstractions than a high-level language, meaning you have to write more explicit instructions. \n",
    "- Machine language: Actual CPU instructions for storing and accessing data from/into memory and executing computations. "
   ]
  },
  {
   "cell_type": "markdown",
   "id": "19c5a1dc-729f-4a26-93a3-0fa6c60d7d4b",
   "metadata": {},
   "source": [
    "This is a basic python program."
   ]
  },
  {
   "cell_type": "code",
   "execution_count": 1,
   "id": "515fe736-fe45-4f09-85aa-2acbfffc84e0",
   "metadata": {},
   "outputs": [
    {
     "name": "stdout",
     "output_type": "stream",
     "text": [
      "The output of add(1, 2) is 3.\n"
     ]
    }
   ],
   "source": [
    "# This is a function named 'add' which adds two integers.\n",
    "def add(x: int, y: int):\n",
    "    return x+y\n",
    "\n",
    "# This is a main function that prints the output of the summation.\n",
    "def main():\n",
    "    x, y = 1,2\n",
    "    result = add(x, y)\n",
    "    output_string = f'The output of add({x}, {y}) is {result}.'\n",
    "    print(output_string)\n",
    "    return None\n",
    "\n",
    "# The statement below executes starts the execution of the python code.\n",
    "if __name__ == '__main__':\n",
    "    main()"
   ]
  },
  {
   "cell_type": "markdown",
   "id": "671e31b9-3a77-4010-b0ac-748721ede39e",
   "metadata": {
    "tags": []
   },
   "source": [
    "## DEFINITIONS"
   ]
  },
  {
   "cell_type": "markdown",
   "id": "b3b55db1-baff-4aa7-902b-15ec0a92a9e8",
   "metadata": {},
   "source": [
    "- Syntax: a set of rules that specify correct arrangement of operators and operands. \n",
    "- Operator: symbols that perform specific mathematical or logical manipulations. \n",
    "- Operand: the value that an operator acts on.\n",
    "- Expression: combination of operators and operands that return a value.\n",
    "- Statement: a single command in a programming language.\n",
    "\n",
    "The **syntax** of a computer language is a set of rules that tells you how you can combine **operators** and **operands** to write legal **expressions**.  "
   ]
  },
  {
   "cell_type": "markdown",
   "id": "6867bc48-75e4-44a8-87ac-7226cf892423",
   "metadata": {
    "tags": []
   },
   "source": [
    "## ARITHMETIC OPERATORS"
   ]
  },
  {
   "cell_type": "markdown",
   "id": "900a5666-93de-4a9d-8c4c-c7adbeeefee0",
   "metadata": {},
   "source": [
    "`arithmetic-operators` lists the arithmetic operators. \n",
    "\n",
    "\n",
    "\n",
    "| **Symbol** \t| **Operator**     \t| **Example** \t| **Result** \t|\n",
    "| ------------- | ----------------- | ------------- | ------------- |\n",
    "| -          \t| Negation         \t| -5          \t| -5         \t|\n",
    "| +          \t| Addition         \t| 11 + 3.1    \t| 14.1       \t|\n",
    "| -          \t| Subtraction      \t| 5 - 19      \t| -14        \t|\n",
    "| *          \t| Multiplication   \t| 8.5 * 4     \t| 34.0       \t|\n",
    "| /          \t| Division         \t| 11 / 2      \t| 5.5        \t|\n",
    "| //         \t| Integer Division \t| 16 // 5     \t| 3          \t|\n",
    "| %          \t| Modulus/Remainder | 31 % 24   \t| 7        \t    |\n",
    "| **         \t| Exponentiation   \t| 2 ** 5      \t| 32         \t|\n",
    "\n",
    "\n",
    "\n",
    "Operators that have two operands are called **binary operators**. Negation is a **unary** operator because it applies to one operand. "
   ]
  },
  {
   "cell_type": "markdown",
   "id": "9a44909e-2ece-4fc8-bfa2-b1fe5ce9381f",
   "metadata": {
    "tags": []
   },
   "source": [
    "## NUMERIC DATA TYPES"
   ]
  },
  {
   "cell_type": "markdown",
   "id": "f0fbe474-2d8b-4faf-9dbd-0aa75c940d32",
   "metadata": {},
   "source": [
    "Python support many different data types. We will introduce them as we use them. It is important to know the data types because every value in Python has a data type and the data types of values determine how they behave when they are combined. \n",
    "\n",
    "To determine the data type of a value, you can use the `type()` function. "
   ]
  },
  {
   "cell_type": "code",
   "execution_count": 2,
   "id": "e6d9a273-92e4-4016-83b9-8ea9dadf7333",
   "metadata": {},
   "outputs": [
    {
     "name": "stdout",
     "output_type": "stream",
     "text": [
      "<class 'int'>\n",
      "<class 'float'>\n"
     ]
    }
   ],
   "source": [
    "print(type(2)) # 'int' \n",
    "print(type(3.14)) # 'float'"
   ]
  },
  {
   "cell_type": "markdown",
   "id": "c80fb2f4-c801-49cc-b095-cc765430e8e5",
   "metadata": {},
   "source": [
    "Values such as `4` and `-7` have data type `int` (short for `integer`). Values such as `2.5` and `-17.0` have data type float (short for `floating point`). The value `7j` is an example of a `complex` data type. \n",
    "\n",
    "- `int` store whole number, positive or negative, unlimited\n",
    "- `float` store number with decimals, positive or negative\n",
    "\n",
    "With respect to numeric data types, you should know some rules:\n",
    "1. An expression involving two `int` operands produces an `int`:"
   ]
  },
  {
   "cell_type": "code",
   "execution_count": 3,
   "id": "e80849bb-d9e7-4e4c-b476-c0028fbf0cbf",
   "metadata": {},
   "outputs": [
    {
     "data": {
      "text/plain": [
       "int"
      ]
     },
     "execution_count": 3,
     "metadata": {},
     "output_type": "execute_result"
    }
   ],
   "source": [
    "type(1+2) # 'int'"
   ]
  },
  {
   "cell_type": "markdown",
   "id": "2edc58d0-67f4-4373-87b5-112834c0176a",
   "metadata": {},
   "source": [
    "2. An expression involving two `float` operands produces a `float`:"
   ]
  },
  {
   "cell_type": "code",
   "execution_count": 4,
   "id": "3201cdf3-a323-4a5c-9e8f-8189730e5046",
   "metadata": {},
   "outputs": [
    {
     "data": {
      "text/plain": [
       "float"
      ]
     },
     "execution_count": 4,
     "metadata": {},
     "output_type": "execute_result"
    }
   ],
   "source": [
    "type(1.0 + 2.0) # 'float'"
   ]
  },
  {
   "cell_type": "markdown",
   "id": "d9aa1e4e-ea98-4c44-9b06-e47bac5c46ee",
   "metadata": {},
   "source": [
    "3. When an expression's operands are an `int` and a `float`, meaning mixed data type, Python automatically converts the `int` to a `float`. That is why the following two expressions return the same data type."
   ]
  },
  {
   "cell_type": "code",
   "execution_count": 5,
   "id": "f01ecd29-b4d6-41cc-9a4c-51bc86a664ac",
   "metadata": {},
   "outputs": [
    {
     "name": "stdout",
     "output_type": "stream",
     "text": [
      "<class 'float'>\n",
      "<class 'float'>\n"
     ]
    }
   ],
   "source": [
    "print(type(17.0 - 10))\n",
    "print(type(17 - 10.0))"
   ]
  },
  {
   "cell_type": "markdown",
   "id": "bf730ade-ff86-49af-8761-e296d92197a7",
   "metadata": {},
   "source": [
    "### Difference between `int` and `float`\n",
    "- They are stored differently \n",
    "  - `float` take up a fixed amount of space. `int` take up variable amount of space. \n",
    "  - `int` are stored as `bignum` data type behind the scenes. "
   ]
  },
  {
   "cell_type": "code",
   "execution_count": 6,
   "id": "74829ddf-419f-4c12-bc67-3b019a630b20",
   "metadata": {},
   "outputs": [
    {
     "name": "stdout",
     "output_type": "stream",
     "text": [
      "24\n",
      "32\n",
      "44\n"
     ]
    }
   ],
   "source": [
    "import sys\n",
    "print(sys.getsizeof(2.0)) # memory - 24\n",
    "print(sys.getsizeof(2**30)) # memory - 32\n",
    "print(sys.getsizeof(2**130)) # memory - 44"
   ]
  },
  {
   "cell_type": "markdown",
   "id": "230e2429-51c3-478b-8118-11a0c30c2395",
   "metadata": {
    "tags": []
   },
   "source": [
    "## OPERATOR PRECEDENCE"
   ]
  },
  {
   "cell_type": "markdown",
   "id": "c23ef5e1-289c-455c-b90c-98f5d90c3804",
   "metadata": {},
   "source": [
    "**PEMDAS**: \"Please Excuse My Dear Aunt Sally\"\n",
    "\n",
    "Precedence:\n",
    "1. P – Parentheses  \n",
    "2. E – Exponents\n",
    "3. MD- Multiplication and Division (left to right); \n",
    "4. AS – Addition  and Subtraction (left to right) \n",
    "\n",
    "Precedence in Python\n",
    "1. Parentheses\n",
    "2. Exponents\n",
    "3. Unary plus, Unary minus\n",
    "4. Multiplication, Division, Integer division, Modulus (Remainder)\n",
    "5. Addition, Subtraction"
   ]
  },
  {
   "cell_type": "code",
   "execution_count": 7,
   "id": "87a01050-925d-4ac7-b642-0b7ea50c2a36",
   "metadata": {},
   "outputs": [
    {
     "name": "stdout",
     "output_type": "stream",
     "text": [
      "16.0\n"
     ]
    }
   ],
   "source": [
    "print(8/2*(2+2))"
   ]
  },
  {
   "cell_type": "markdown",
   "id": "e36326bf-5dc4-4e91-9e44-3dd8a6f63095",
   "metadata": {},
   "source": [
    "It is a good idea to parenthesize complicated expression even when you do not need to clarify your intent and make the code easier to read."
   ]
  },
  {
   "cell_type": "markdown",
   "id": "0ad696ff-2274-43ce-89e7-55594143b439",
   "metadata": {},
   "source": [
    "## VARIABLES"
   ]
  },
  {
   "cell_type": "markdown",
   "id": "95ed5132-2f11-471c-9712-e449e265a9d8",
   "metadata": {},
   "source": [
    "Variables give names to values (number, string, None). They are an identifier that labels a value for future reference. The value of a variable can be changed through assignment. \n",
    "\n",
    "Variables must be assigned values before they can be used in expressions. \n",
    "\n",
    "Variables names **MUST** follow certain rules and it is **BEST** to follow Python guidelines for naming."
   ]
  },
  {
   "cell_type": "markdown",
   "id": "fb9dab71-9ab7-421c-893f-d72cd23fe70e",
   "metadata": {},
   "source": [
    "### Restrictions for variable names:\n",
    "1. Start with a letter or underscore.\n",
    "2. The rest can have letters, underscore, and numbers.\n",
    "3. Symbols cannot be used in name `(@,+)`.\n",
    "4. Do not use Python keywords or reserved words such as `print`, `str`, `int`, `float`.\n",
    " - `int = 3` do `del int` to restore python keyword\n",
    " - `print = 'Yah'` do `del print` to restore Python keyword"
   ]
  },
  {
   "cell_type": "markdown",
   "id": "ba197cd9-05d6-4e56-b282-6a87f16ef0ae",
   "metadata": {},
   "source": [
    "### Conventions for variable names:\n",
    "1. Use snake_case not camelCase for variable and function names.\n",
    "2. Variables should be lowercase.\n",
    "3. Upper case are used for constants `PI = 3.14`.\n",
    "4. UpperCamelCase for classes.\n",
    "5. `__private__`  double underscore is convention that means you are not supposed access this variable directly. They are by convention like private variables in other languages. \n",
    "\n",
    "Variable names are case sensitive, so `ph` and `pH` are two different names. "
   ]
  },
  {
   "cell_type": "markdown",
   "id": "6a7b1119-dfe0-4fa0-b310-ef6107ef61c3",
   "metadata": {},
   "source": [
    "### Variable Assignment "
   ]
  },
  {
   "cell_type": "code",
   "execution_count": 8,
   "id": "87668b77-4160-4f2d-a9cf-ca1f329c2512",
   "metadata": {},
   "outputs": [],
   "source": [
    "degrees_celcius = 26.0"
   ]
  },
  {
   "cell_type": "markdown",
   "id": "f184c9e5-01e0-4a97-b24f-7d82f128d705",
   "metadata": {},
   "source": [
    "Variables are created by executing assignment statements. This is called an assignment statement; we say that `degrees_celsius` is assigned the value `26.0`"
   ]
  },
  {
   "cell_type": "markdown",
   "id": "a225fae6-33bf-4e9d-89a3-ac20aac97b5b",
   "metadata": {},
   "source": [
    "### Python Keywords\n",
    "\n",
    "```text\n",
    "False      await      else       import     pass\n",
    "None       break      except     in         raise\n",
    "True       class      finally    is         return\n",
    "and        continue   for        lambda     try\n",
    "as         def        from       nonlocal   while\n",
    "assert     del        global     not        with\n",
    "async      elif       if         or         yield\n",
    "```"
   ]
  },
  {
   "cell_type": "markdown",
   "id": "c00cf24a-682f-422b-b996-dbe510ee505d",
   "metadata": {},
   "source": [
    "### Memory management in Python\n",
    "The memory model for understanding how variables are stored in Python is different from other programming languages. In most programming languages, variables can be thought of as a named storage location in computer memory, a box that we can put a value in. When the variable changes the old value is erased and a new one written in. \n",
    "\n",
    "![mem_model1](./images/mem_model1.png)\n",
    "\n",
    "In Python, values may end up anywhere in memory, and variables are used to refer to them. Assigning a variable is like putting one of those little yellow sticky notes on the value and saying, \"this is x.\" This memory model is called the sticky-note model. \n",
    "\n",
    "![mem_model2](./images/mem_model2.png)"
   ]
  },
  {
   "cell_type": "markdown",
   "id": "3b91609e-2cf3-4d17-9328-bff42ea8fdd9",
   "metadata": {},
   "source": [
    "### Augmented Assignments\n",
    "\n",
    "An augmented assignment combines an assignment statement with an operator to make the statement more concise. An augmented statement is executed as follows:\n",
    "1. Evaluate the expression on the right of the `=` sign to produce a value. \n",
    "2. Apply the operator attached to the `=` sign to the variable on the left of the `=` and the value that was produced. This produces another value. Store the memory \n",
    "address of that value in the variable on the left of the `=`.  \n",
    "\n",
    "| Symbol \t| Example       \t| Result          \t|\n",
    "| --------- | ----------------- | ----------------- |\n",
    "| +=     \t| x = 7 x += 2  \t| x refers to 9   \t|\n",
    "| -=     \t| x = 7 x -= 2  \t| x refers 5      \t|\n",
    "| *=     \t| x = 7 x *= 2  \t| x refers to 14  \t|\n",
    "| /=     \t| x = 7 x /= 2  \t| x refers to 3.5 \t|\n",
    "| //=    \t| x = 7 x //= 2 \t| x refers to 3   \t|\n",
    "| %=     \t| x = 7 x %= 2  \t| x refers to 1   \t|\n",
    "| **=    \t| x = 7 x **=2  \t| x refers to 49  \t|\n"
   ]
  }
 ],
 "metadata": {
  "kernelspec": {
   "display_name": "Python 3 (ipykernel)",
   "language": "python",
   "name": "python3"
  },
  "language_info": {
   "codemirror_mode": {
    "name": "ipython",
    "version": 3
   },
   "file_extension": ".py",
   "mimetype": "text/x-python",
   "name": "python",
   "nbconvert_exporter": "python",
   "pygments_lexer": "ipython3",
   "version": "3.10.11"
  }
 },
 "nbformat": 4,
 "nbformat_minor": 5
}
