{
 "cells": [
  {
   "cell_type": "markdown",
   "id": "81490de5-a22b-43af-9e85-f87845bf3404",
   "metadata": {},
   "source": [
    "# CHAPTER 4 - CONDITIONALS"
   ]
  },
  {
   "cell_type": "markdown",
   "id": "9b686fdf-8ca0-4abb-9cd0-aad0694ed103",
   "metadata": {
    "jp-MarkdownHeadingCollapsed": true,
    "tags": []
   },
   "source": [
    "## CONDITIONALS"
   ]
  },
  {
   "cell_type": "markdown",
   "id": "e30b2a6a-e8d4-4e36-acf8-a359a9cc0596",
   "metadata": {},
   "source": [
    "### Boolean Type\n",
    "- Python has a built-in Boolean type called `bool`. Unlike `int` and `float`, which can have almost unlimited possible values, `bool` has only two: `True` and `False`. "
   ]
  },
  {
   "cell_type": "markdown",
   "id": "c148c484-26ae-4865-b5a0-16bd7f828d35",
   "metadata": {},
   "source": [
    "### Boolean Operators\n",
    "- There are three basic Boolean operators: `and`, `or`, and `not`. `not` has the highest precedence, followed by `and`, followed by `or`. \n",
    "\n",
    "| Operator | What it does?                                        | Example                                                                   |\n",
    "|----------|------------------------------------------------------|---------------------------------------------------------------------------|\n",
    "| `and`    | True if both a AND b are true (logical conjunction)  | if is_teacher and is_active:   print('You can access')                    |\n",
    "| `or`     | True if either a OR b are true (logical disjunction) | if is_superuser or (is_teacher and is active):    print('You can access') |\n",
    "| `not`    | True if the opposite of a is true (logical negation) | if not is_superuser:   print('You cannot access') "
   ]
  },
  {
   "cell_type": "markdown",
   "id": "5d343fbd-15d1-497f-b94e-f9b816096685",
   "metadata": {},
   "source": [
    "### Truthiness and Falsiness \n",
    "- Things that are false on their own\n",
    "  - `None` (basic data type)\n",
    "  - `False` (basic data type)\n",
    "  - Any empty sequence: `''`, `[]`, `()`\n",
    "  - Any zero value: 0, 0.0\n",
    "  - Anything whose `len()` returns 0\n",
    "  - Empty objects\n",
    "  - Everything else is True "
   ]
  },
  {
   "cell_type": "markdown",
   "id": "b3ee7f9e-f677-46ee-86d8-b36b7a1dd21f",
   "metadata": {
    "jp-MarkdownHeadingCollapsed": true,
    "tags": []
   },
   "source": [
    "## RELATIONAL OPERATORS"
   ]
  },
  {
   "cell_type": "markdown",
   "id": "169f8732-e1bb-4631-a372-a6f8f7307090",
   "metadata": {},
   "source": [
    "- A relational operator converts an expression into a boolean type, which is a basic Python data type.\n",
    "\n",
    "- Assume `a=1` and `b=1`\n",
    "\n",
    "| Relational Operators | What it does?                               | Example        |\n",
    "| -------------------- | --------------------------------------------| -------------- |\n",
    "| ==                   | True if a has the same value as b           | a == b (True)  |\n",
    "| !=                   | True if a does not have the same value as b | a != b (False) |\n",
    "| >                    | True if a is greater than b                 | a > b (False)  |\n",
    "| <                    | True if a is less than b                    | a < b (False)  |\n",
    "| >=                   | True if a is greater than or equal to b     | a >= b (True)  |\n",
    "| <=                   | True if a is less than or equal to b        | a <= b (True)  |\n",
    "\n",
    "- These operators evaluate to True or False depending on the values you give them.\n",
    "- Conditionals are used to instruct computer to make a decision. "
   ]
  },
  {
   "cell_type": "markdown",
   "id": "fdd11e7c-16c9-4808-ab92-c9e403de9ceb",
   "metadata": {},
   "source": [
    "###  Combining Comparisons"
   ]
  },
  {
   "cell_type": "code",
   "execution_count": 1,
   "id": "0d2a9863-7793-4a1a-b522-b8dac6082c5b",
   "metadata": {},
   "outputs": [
    {
     "name": "stdout",
     "output_type": "stream",
     "text": [
      "True\n",
      "True\n"
     ]
    }
   ],
   "source": [
    "x = 2\n",
    "y = 5\n",
    "z = 7\n",
    "print(x < y and y < z)\n",
    "print((x < y) and (y < z)) # better"
   ]
  },
  {
   "cell_type": "code",
   "execution_count": 4,
   "id": "b16940da-9b1f-4ea4-b483-a1603941a8f8",
   "metadata": {},
   "outputs": [
    {
     "name": "stdout",
     "output_type": "stream",
     "text": [
      "True\n",
      "True\n",
      "True\n",
      "True\n",
      "True\n"
     ]
    }
   ],
   "source": [
    "x = 3 \n",
    "print(1 < x <= 5) # You can chain comparisons\n",
    "print(3 < 5 != True) \n",
    "print((3 < 5) and (5 != True))\n",
    "print(3 < 5 != False)\n",
    "print((3 < 5) and (5 != False))"
   ]
  },
  {
   "cell_type": "markdown",
   "id": "a09fb3d2-f05a-44a5-8506-c48a336a1e51",
   "metadata": {},
   "source": [
    "### Short-Circuit Evaluation \n",
    "- When Python evaluates an expression containing `and` or `or`, it does so from left to right. As soon as it knows enough to stop evaluating, it stops, even if some operands have not been looked at yet. This is called short-circuit evaluation. \n",
    "- For `and` operation, if the first expression is false, the second expression is not evaluated.\n",
    "- For `or` operation, if the first expression is true, the second expression is not evaluated."
   ]
  },
  {
   "cell_type": "code",
   "execution_count": 2,
   "id": "9a5818a1-9118-43cb-a6ba-93d4c67b7257",
   "metadata": {},
   "outputs": [
    {
     "name": "stdout",
     "output_type": "stream",
     "text": [
      "Enter!\n"
     ]
    }
   ],
   "source": [
    "is_superuser = True\n",
    "is_staff = True\n",
    "is_active = False\n",
    "if is_superuser or (is_staff and is_active):\n",
    "    print('Enter!')\n",
    "else:\n",
    "    print('You Shall Not Pass!')"
   ]
  },
  {
   "cell_type": "code",
   "execution_count": 3,
   "id": "0d7e6dff-0fe9-4ae3-a607-7c129e7553a0",
   "metadata": {},
   "outputs": [
    {
     "name": "stdout",
     "output_type": "stream",
     "text": [
      "Enter!\n"
     ]
    }
   ],
   "source": [
    "is_staff = True\n",
    "is_active = True\n",
    "if is_staff and is_active:\n",
    "    print('Enter!')\n",
    "else:\n",
    "    print('You Shall Not Pass!')"
   ]
  },
  {
   "cell_type": "markdown",
   "id": "b6dcacdc-cc1f-4805-854e-ad40a20cb58d",
   "metadata": {
    "jp-MarkdownHeadingCollapsed": true,
    "tags": []
   },
   "source": [
    "## STRINGS COMPARISON"
   ]
  },
  {
   "cell_type": "markdown",
   "id": "a8a3e715-a9ae-4af8-be64-8b606ae5c0b2",
   "metadata": {
    "tags": []
   },
   "source": [
    "- When strings are compared, they are compared lexicographic, meaning strings are put into alphabetical order and uppercase comes before lowercase and numbers come before the alphabets. \n",
    "- ASCII Table: https://www.rapidtables.com/code/text/ascii-table.html\n",
    "\n",
    "``` {text}\n",
    "  - 0-9 -- 48-57\n",
    "  - A-Z -- 65-90\n",
    "  - a-z -- 97-122\n",
    "```"
   ]
  },
  {
   "cell_type": "code",
   "execution_count": 5,
   "id": "7601f600-2f3a-403d-80c3-7d195e7d8a1a",
   "metadata": {},
   "outputs": [
    {
     "data": {
      "text/plain": [
       "True"
      ]
     },
     "execution_count": 5,
     "metadata": {},
     "output_type": "execute_result"
    }
   ],
   "source": [
    "'A' < 'a'"
   ]
  },
  {
   "cell_type": "code",
   "execution_count": 6,
   "id": "bede64ad-b5e3-47f9-8685-9dd1fb95bf25",
   "metadata": {},
   "outputs": [
    {
     "data": {
      "text/plain": [
       "False"
      ]
     },
     "execution_count": 6,
     "metadata": {},
     "output_type": "execute_result"
    }
   ],
   "source": [
    "'A' > 'Z'"
   ]
  },
  {
   "cell_type": "code",
   "execution_count": 7,
   "id": "3ff07f59-ceed-4aec-b81f-263f964f5e38",
   "metadata": {},
   "outputs": [
    {
     "data": {
      "text/plain": [
       "True"
      ]
     },
     "execution_count": 7,
     "metadata": {},
     "output_type": "execute_result"
    }
   ],
   "source": [
    "'abc' < 'abd'"
   ]
  },
  {
   "cell_type": "code",
   "execution_count": 8,
   "id": "ae105c42-bf4a-44bf-945b-c7d7446c1458",
   "metadata": {},
   "outputs": [
    {
     "data": {
      "text/plain": [
       "True"
      ]
     },
     "execution_count": 8,
     "metadata": {},
     "output_type": "execute_result"
    }
   ],
   "source": [
    "'abc' < 'abcd' # shorter is less"
   ]
  },
  {
   "cell_type": "code",
   "execution_count": 9,
   "id": "c46f13f0-4dc1-41c8-a117-ba2dcb38f5fc",
   "metadata": {},
   "outputs": [
    {
     "data": {
      "text/plain": [
       "True"
      ]
     },
     "execution_count": 9,
     "metadata": {},
     "output_type": "execute_result"
    }
   ],
   "source": [
    "'1' < '2'"
   ]
  },
  {
   "cell_type": "code",
   "execution_count": 10,
   "id": "3b2bea2e-be8c-4d0e-bb93-dfa53378864a",
   "metadata": {},
   "outputs": [
    {
     "data": {
      "text/plain": [
       "True"
      ]
     },
     "execution_count": 10,
     "metadata": {},
     "output_type": "execute_result"
    }
   ],
   "source": [
    "'1' < '20' # These are strings not numbers"
   ]
  },
  {
   "cell_type": "code",
   "execution_count": 11,
   "id": "5f0bda06-92a8-4822-b16d-5c21b69acbea",
   "metadata": {},
   "outputs": [
    {
     "name": "stdout",
     "output_type": "stream",
     "text": [
      "48\n",
      "57\n",
      "65\n",
      "90\n",
      "97\n",
      "98\n"
     ]
    }
   ],
   "source": [
    "# Convert a single character to its unicode number: `ord()`\n",
    "print(ord('0'))\n",
    "print(ord('9'))\n",
    "print(ord('A'))\n",
    "print(ord('Z'))\n",
    "print(ord('a'))\n",
    "print(ord('b'))"
   ]
  },
  {
   "cell_type": "code",
   "execution_count": 12,
   "id": "59e89940-f7d3-4dd9-88a7-2e881011e239",
   "metadata": {},
   "outputs": [
    {
     "name": "stdout",
     "output_type": "stream",
     "text": [
      "0\n",
      "9\n",
      "A\n",
      "Z\n",
      "a\n",
      "z\n"
     ]
    }
   ],
   "source": [
    "# Convert a unicode number to its unicode character: `chr()`\n",
    "print(chr(48))\n",
    "print(chr(57))\n",
    "print(chr(65))\n",
    "print(chr(90))\n",
    "print(chr(97))\n",
    "print(chr(122))"
   ]
  },
  {
   "cell_type": "markdown",
   "id": "eb09bb63-e9d9-413e-842c-4033495a21b7",
   "metadata": {},
   "source": [
    "### `in` Operator\n",
    "- Python provides a way to check if one string appears inside another one using the `in` operator."
   ]
  },
  {
   "cell_type": "code",
   "execution_count": 13,
   "id": "e9f71e18-53a3-40ea-95c2-aecfd4de4a37",
   "metadata": {},
   "outputs": [
    {
     "data": {
      "text/plain": [
       "True"
      ]
     },
     "execution_count": 13,
     "metadata": {},
     "output_type": "execute_result"
    }
   ],
   "source": [
    "'Jan' in '01 Jan 1838'"
   ]
  },
  {
   "cell_type": "code",
   "execution_count": 14,
   "id": "5a3e4cc0-2502-4913-a068-01b7feba2f72",
   "metadata": {},
   "outputs": [
    {
     "data": {
      "text/plain": [
       "False"
      ]
     },
     "execution_count": 14,
     "metadata": {},
     "output_type": "execute_result"
    }
   ],
   "source": [
    "'Feb' in '01 Jan 1838'"
   ]
  },
  {
   "cell_type": "code",
   "execution_count": 15,
   "id": "dd5caa94-c2b8-426f-9af2-486c70a80336",
   "metadata": {},
   "outputs": [
    {
     "data": {
      "text/plain": [
       "True"
      ]
     },
     "execution_count": 15,
     "metadata": {},
     "output_type": "execute_result"
    }
   ],
   "source": [
    "'a' in 'abc'"
   ]
  },
  {
   "cell_type": "code",
   "execution_count": 16,
   "id": "97a97baa-5ced-436d-954f-3b11a72bf1df",
   "metadata": {},
   "outputs": [
    {
     "data": {
      "text/plain": [
       "False"
      ]
     },
     "execution_count": 16,
     "metadata": {},
     "output_type": "execute_result"
    }
   ],
   "source": [
    "'A' in 'abc'"
   ]
  },
  {
   "cell_type": "markdown",
   "id": "29165264-5b04-4bff-b936-8eedee60f8a8",
   "metadata": {
    "jp-MarkdownHeadingCollapsed": true,
    "tags": []
   },
   "source": [
    "## STATEMENT SELECTION"
   ]
  },
  {
   "cell_type": "markdown",
   "id": "39f3eb88-3649-4675-8eaa-288139da4ad4",
   "metadata": {},
   "source": [
    "### Choosing which statement to execute\n",
    "\n",
    "```Python\n",
    "if some condition is True:\n",
    "    do something\n",
    "elif some other condition is True: # else if \n",
    "    do something\n",
    "elif some other condition is True: # else if \n",
    "    do something\n",
    "elif some other condition is True: # else if \n",
    "    do something\n",
    "else:\n",
    "    do something \n",
    "```\n",
    "- colons are important and indentation matters\n",
    "- can have many `elif` tests\n",
    "- do not need `else`\n",
    "- conditions can be nested\n",
    "\n",
    "| pH Level | Solution Category |\n",
    "|----------|-------------------|\n",
    "| 0-4      | Strong acid       |\n",
    "| 5-6      | Weak acid         |\n",
    "| 7        | Neutral           |\n",
    "| 8-9      | Weak base         |\n",
    "| 10-14    | Strong base       |"
   ]
  },
  {
   "cell_type": "code",
   "execution_count": 17,
   "id": "8562f726-6c7d-4461-8834-8dbc091435e4",
   "metadata": {},
   "outputs": [
    {
     "name": "stdin",
     "output_type": "stream",
     "text": [
      "Enter pH (0-14):  8\n"
     ]
    },
    {
     "name": "stdout",
     "output_type": "stream",
     "text": [
      "The solution is Weak Base\n"
     ]
    }
   ],
   "source": [
    "sol_cat = \"\"\n",
    "value = int(input('Enter pH (0-14): '))\n",
    "if value<=4 and value>=0:\n",
    "    sol_cat = \"Strong Acid\"\n",
    "elif value<=6 and value>=5:\n",
    "    sol_cat = \"Weak Acid\"\n",
    "elif value==7:\n",
    "    sol_cat = \"Neutral\"\n",
    "elif value<=9 and value>=8:\n",
    "    sol_cat = \"Weak Base\"\n",
    "elif value<=14 and value>=10:\n",
    "    sol_cat = \"Strong Base\"\n",
    "else:\n",
    "    raise Exception(\"Value not in range [0,14].\")\n",
    "print(f'The solution is {sol_cat}')"
   ]
  },
  {
   "cell_type": "markdown",
   "id": "db6e80f6-bebb-467e-bb59-d6594a100a7e",
   "metadata": {},
   "source": [
    "### Nested `if`"
   ]
  },
  {
   "cell_type": "code",
   "execution_count": 18,
   "id": "3f001725-a5ea-4ea4-a319-082323c4172c",
   "metadata": {},
   "outputs": [
    {
     "name": "stdin",
     "output_type": "stream",
     "text": [
      "Enter the pH level:  4\n"
     ]
    },
    {
     "name": "stdout",
     "output_type": "stream",
     "text": [
      "4.0  is acidic.\n"
     ]
    }
   ],
   "source": [
    "value = input('Enter the pH level: ')\n",
    "if len(value) > 0:\n",
    "    ph = float(value) \n",
    "    if ph < 7.0:\n",
    "        print(ph, \" is acidic.\")\n",
    "    elif ph > 7.0:\n",
    "        print(ph, \" is basic.\")\n",
    "    else:\n",
    "        print(ph, \" is neutral.\")\n",
    "\n",
    "else:\n",
    "    print('No pH value was given!')"
   ]
  },
  {
   "cell_type": "code",
   "execution_count": null,
   "id": "b1b9cb90-69a3-420a-b027-2c9a8476fb81",
   "metadata": {},
   "outputs": [],
   "source": []
  }
 ],
 "metadata": {
  "kernelspec": {
   "display_name": "Python 3 (ipykernel)",
   "language": "python",
   "name": "python3"
  },
  "language_info": {
   "codemirror_mode": {
    "name": "ipython",
    "version": 3
   },
   "file_extension": ".py",
   "mimetype": "text/x-python",
   "name": "python",
   "nbconvert_exporter": "python",
   "pygments_lexer": "ipython3",
   "version": "3.10.11"
  }
 },
 "nbformat": 4,
 "nbformat_minor": 5
}
