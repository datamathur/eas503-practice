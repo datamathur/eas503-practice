{
 "cells": [
  {
   "attachments": {},
   "cell_type": "markdown",
   "id": "9e65ef54-23da-4163-97cf-5dc74396ecba",
   "metadata": {},
   "source": [
    "# CHAPTER 2 - FUNCTIONS"
   ]
  },
  {
   "attachments": {},
   "cell_type": "markdown",
   "id": "53ac068a-7ad6-4f74-9639-6b6cf663fdaf",
   "metadata": {
    "jp-MarkdownHeadingCollapsed": true,
    "tags": []
   },
   "source": [
    "## INTRODUCTION TO FUNCTIONS"
   ]
  },
  {
   "attachments": {},
   "cell_type": "markdown",
   "id": "fccfd99b-b691-4f35-9e7d-c22c0a0187f3",
   "metadata": {},
   "source": [
    "A Functions is a small, self-contained sequence of statements/instructions that has a name. Example: a function to convert Celsius to Fahrenheit. Since the formula for converting from Celsius to Fahrenheit is always the same and the only variable is the temperature in Celsius, you can write a function that takes the temperature as an argument, perform the conversion, and then return the temperature in Fahrenheit. \n",
    "\n",
    "What are the advantages of using functions?\n",
    "  - Many programs require a particular sequence of statements/instructions to be executed repeatedly. The repeated statements/instructions can be placed with a single function, which can be accessed whenever needed. Therefore, they reduce repeated statements/instructions. \n",
    "  - Functions help decompose larger programs into logical subprograms. Such programs are easier to write and debug. \n",
    "  - Functions can be executed at any point by using their name \n",
    "  - Functions can call other functions\n",
    "  - Functions can OPTIONALLY take argument(s) that they can use inside the function\n",
    "  - Functions can OPTIONALLY return value(s)"
   ]
  },
  {
   "attachments": {},
   "cell_type": "markdown",
   "id": "f567de36-ca58-4d82-9c7d-1b6ed92c48bf",
   "metadata": {},
   "source": [
    "The general form of a function call is as follows:\n",
    "```\n",
    "def <<function_name>>(<<parameters>>):\n",
    "    body\n",
    "```"
   ]
  },
  {
   "cell_type": "code",
   "execution_count": 1,
   "id": "aad9c2ac-5f61-41be-b066-4d5b828c1a9f",
   "metadata": {},
   "outputs": [],
   "source": [
    "# Function to convert celsius to fahrenheit.\n",
    "def convert_celsius_to_fahrenheit(degrees_in_celsius):\n",
    "    return 9 / 5 * degrees_in_celsius + 32"
   ]
  },
  {
   "attachments": {},
   "cell_type": "markdown",
   "id": "409c22f5-2da5-4dd0-8748-aab580563c6e",
   "metadata": {
    "jp-MarkdownHeadingCollapsed": true,
    "tags": []
   },
   "source": [
    "## BUILT-IN FUNCTIONS"
   ]
  },
  {
   "attachments": {},
   "cell_type": "markdown",
   "id": "7974c0c3-3703-490c-a6db-031f868460ab",
   "metadata": {},
   "source": [
    "### Absolute Value Function\n",
    "`abs()` takes the absolute value of a number. \n",
    "\n",
    "`abs(-9)`: `-9` is the argument. Arguments appear between the parenthesis after the function name. Arguments are evaluated left to right."
   ]
  },
  {
   "cell_type": "code",
   "execution_count": 2,
   "id": "7393b423-2cfe-4e0e-97aa-7173637fc1aa",
   "metadata": {},
   "outputs": [
    {
     "name": "stdout",
     "output_type": "stream",
     "text": [
      "9\n"
     ]
    }
   ],
   "source": [
    "print(abs(-9))"
   ]
  },
  {
   "attachments": {},
   "cell_type": "markdown",
   "id": "8d25a14f-bbf3-43e1-b9dc-8c8f090de86d",
   "metadata": {},
   "source": [
    "### Functions to Convert Data Type\n",
    "These functions convert the data type from one type to another if possible. This is called type casting."
   ]
  },
  {
   "attachments": {},
   "cell_type": "markdown",
   "id": "cc405357-bd6f-4b00-9ca3-874316aba1d9",
   "metadata": {},
   "source": [
    "### List of Built-in Functions"
   ]
  },
  {
   "attachments": {},
   "cell_type": "markdown",
   "id": "cec40a51-24ed-418f-8c38-f3fc0ad558a6",
   "metadata": {},
   "source": [
    "| FUNCTION |   SYNTAX       | OUTPUT |\n",
    "| -------- | -------------- | ------ |\n",
    "| int()    | int(34.6)      | 34     |\n",
    "| float()  | float(21)      | 21.0   |\n",
    "| str()    | str(21)        | '21'   |\n",
    "| round()  | round(3.334,2) | 3.33   |\n",
    "| pow()    | pow(2,4)       | 16     |\n",
    "| min()    | min(2,3,4)     | 2      |\n",
    "| max()    | max(2,3,4)     | 4      |"
   ]
  }
 ],
 "metadata": {
  "kernelspec": {
   "display_name": "Python 3 (ipykernel)",
   "language": "python",
   "name": "python3"
  },
  "language_info": {
   "codemirror_mode": {
    "name": "ipython",
    "version": 3
   },
   "file_extension": ".py",
   "mimetype": "text/x-python",
   "name": "python",
   "nbconvert_exporter": "python",
   "pygments_lexer": "ipython3",
   "version": "3.10.11"
  }
 },
 "nbformat": 4,
 "nbformat_minor": 5
}
