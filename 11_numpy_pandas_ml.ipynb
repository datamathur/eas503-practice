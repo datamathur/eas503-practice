{
 "cells": [
  {
   "cell_type": "markdown",
   "id": "1beb312a-f1ba-46c1-90c3-9ac015eab5f9",
   "metadata": {},
   "source": [
    "# CHAPTER 11 - NUMPY AND PANDAS"
   ]
  },
  {
   "cell_type": "code",
   "execution_count": 1,
   "id": "7645721c-32ba-451e-8316-1450be3b5498",
   "metadata": {},
   "outputs": [],
   "source": [
    "import numpy as np\n",
    "import pandas as pd"
   ]
  },
  {
   "cell_type": "markdown",
   "id": "94119632-ee25-451d-9084-7394e1ee024e",
   "metadata": {
    "jp-MarkdownHeadingCollapsed": true,
    "tags": []
   },
   "source": [
    "## NUMPY"
   ]
  },
  {
   "cell_type": "markdown",
   "id": "1bca3a86-d807-4c2b-bba4-dfe911acdc97",
   "metadata": {
    "jp-MarkdownHeadingCollapsed": true,
    "tags": []
   },
   "source": [
    "### Description"
   ]
  },
  {
   "cell_type": "markdown",
   "id": "f6cbaf28-d93a-4b5e-9b28-4138341dee11",
   "metadata": {},
   "source": [
    "- Ref: https://docs.scipy.org/doc/numpy/user/whatisnumpy.html\n",
    "- Ref: https://s3.amazonaws.com/assets.datacamp.com/blog_assets/Numpy_Python_Cheat_Sheet.pdf\n",
    "- NumPy provides a multidimensional array object. \n",
    "- Each object comes with an assortment of routines for fast operations on arrays, including mathematical, logical, shape manipulation, sorting, selecting, I/O, discrete Fourier transforms, basic linear algebra, basic statistical operations, random simulation and much more.\n",
    "- Basically, you can use NumPy to create ndarray (N-dimensional array) and easily manipulate the array. It is super fast because it is written in C."
   ]
  },
  {
   "cell_type": "markdown",
   "id": "18b6958d-b3f8-48eb-b7bb-1f8175f2d70a",
   "metadata": {
    "jp-MarkdownHeadingCollapsed": true,
    "tags": []
   },
   "source": [
    "### How is it different from Python arrays?"
   ]
  },
  {
   "cell_type": "markdown",
   "id": "c76346a4-f5c0-478b-a448-460253e4d54e",
   "metadata": {},
   "source": [
    "- Python lists can be modified -- you can add and remove elements. NumPy arrays have a fixed size at creation. \n",
    "- Python lists can contain different data types. NumPy arrays can only have one data type. If you put in mixed types, they become a string. \n",
    "- NumPy arrays come prepackaged with advanced mathematical operations. The operations are super fast even on large numbers of data and they use less memory."
   ]
  },
  {
   "cell_type": "markdown",
   "id": "b66addca-b2da-485a-a73c-bcd73a439d3d",
   "metadata": {
    "jp-MarkdownHeadingCollapsed": true,
    "tags": []
   },
   "source": [
    "### Why use NumPy"
   ]
  },
  {
   "cell_type": "markdown",
   "id": "af91fc8f-9255-4ff9-b205-3e6e66ddd125",
   "metadata": {},
   "source": [
    "- Most data analysis programs use NumPy to manipulate data. They might take in data as standard Python lists, but they convert it to a NumPy array and manipulate the data using NumPy routines and output the transformed data as a NumPy array. \n",
    "- NumPy data array is the main data type used in most scientific and mathematical Python-based packages."
   ]
  },
  {
   "cell_type": "code",
   "execution_count": 2,
   "id": "61fda276-5a25-4a1c-86b2-dfb4951b0c06",
   "metadata": {},
   "outputs": [
    {
     "name": "stdout",
     "output_type": "stream",
     "text": [
      "[0, 1, 4, 9, 16, 25, 36, 49, 64, 81]\n"
     ]
    }
   ],
   "source": [
    "# Square a list using Python\n",
    "squared_values = []\n",
    "for number in range(10):\n",
    "    squared_values.append(number*number)\n",
    "\n",
    "print(squared_values)"
   ]
  },
  {
   "cell_type": "code",
   "execution_count": 3,
   "id": "e0ec6b3c-0acc-473c-8cd1-c3b96bd21c60",
   "metadata": {},
   "outputs": [
    {
     "name": "stdout",
     "output_type": "stream",
     "text": [
      "[ 0  5 10 15 20 25 30 35 40 45]\n",
      "[ 0  1  4  9 16 25 36 49 64 81]\n"
     ]
    }
   ],
   "source": [
    "vector = np.array(range(10))\n",
    "scalar = 5\n",
    "print(vector * scalar)\n",
    "print(vector * vector)"
   ]
  },
  {
   "cell_type": "markdown",
   "id": "d340532d-403b-493b-b6e8-c5ffd39c53ac",
   "metadata": {
    "jp-MarkdownHeadingCollapsed": true,
    "tags": []
   },
   "source": [
    "### Numpy Basics"
   ]
  },
  {
   "cell_type": "markdown",
   "id": "383efbfd-13bd-44eb-84ef-5193505b6bec",
   "metadata": {},
   "source": [
    "- NumPy arrays can be a 1-D array, called a vector, or a 2-D array, called a matrix "
   ]
  },
  {
   "cell_type": "markdown",
   "id": "4c8d1389-7f53-42f0-9533-00ec1bac664a",
   "metadata": {},
   "source": [
    "#### NumPy casting -- covert Python list to a NumPy array"
   ]
  },
  {
   "cell_type": "code",
   "execution_count": 4,
   "id": "eaa19d72-a205-49e0-ba0d-736f976b0237",
   "metadata": {},
   "outputs": [
    {
     "name": "stdout",
     "output_type": "stream",
     "text": [
      "[1, 2, 3]\n",
      "[1 2 3]\n",
      "[[1 2 3]\n",
      " [4 5 6]\n",
      " [7 8 9]]\n"
     ]
    },
    {
     "data": {
      "text/plain": [
       "array([[1, 2],\n",
       "       [3, 4],\n",
       "       [5, 6],\n",
       "       [7, 8]])"
      ]
     },
     "execution_count": 4,
     "metadata": {},
     "output_type": "execute_result"
    }
   ],
   "source": [
    "my_list = [1, 2, 3]\n",
    "print(my_list)\n",
    "\n",
    "my_vector = np.array(my_list)\n",
    "print(my_vector)\n",
    "\n",
    "my_matrix = np.array([my_list, my_list])\n",
    "np.hstack([my_list, my_list])\n",
    "\n",
    "my_nested_list = [[1, 2, 3], [4, 5, 6], [7, 8, 9]]\n",
    "my_matrix = np.array(my_nested_list)\n",
    "print(my_matrix)\n",
    "\n",
    "my_list1 = [[1,2], [3,4]]\n",
    "my_list2 = [[5,6], [7,8]]  \n",
    "np.hstack([my_list1, my_list2])   \n",
    "np.vstack([my_list1, my_list2])"
   ]
  },
  {
   "cell_type": "markdown",
   "id": "d4aeb064-b4a8-46ed-9b5b-f8682f2b1996",
   "metadata": {},
   "source": [
    "#### NumPy creating arrays"
   ]
  },
  {
   "cell_type": "code",
   "execution_count": 5,
   "id": "d27fde03-3c08-4e39-bfe8-7a0909c42fb1",
   "metadata": {},
   "outputs": [
    {
     "name": "stdout",
     "output_type": "stream",
     "text": [
      "[0 1 2 3 4 5 6 7 8 9]\n",
      "[0 1 2 3 4 5 6 7 8 9]\n",
      "[0 2 4 6 8]\n",
      "[0. 0. 0.]\n",
      "[[0. 0. 0.]\n",
      " [0. 0. 0.]\n",
      " [0. 0. 0.]]\n",
      "[1. 1. 1.]\n",
      "[[1. 1. 1.]\n",
      " [1. 1. 1.]\n",
      " [1. 1. 1.]]\n",
      "[4. 4. 4.]\n",
      "[ 0.   2.5  5.   7.5 10. ]\n",
      "[1900. 1910. 1920. 1930. 1940. 1950. 1960. 1970. 1980. 1990. 2000.]\n"
     ]
    }
   ],
   "source": [
    "my_list = range(10)\n",
    "\n",
    "## Create array using arange\n",
    "print(np.arange(10))\n",
    "print(np.arange(0, 10))\n",
    "print(np.arange(0, 10, 2))\n",
    "\n",
    "## Create array of zeros\n",
    "print(np.zeros(3))\n",
    "print(np.zeros((3,3)))\n",
    "\n",
    "## Create array of ones\n",
    "print(np.ones(3))\n",
    "print(np.ones((3,3)))\n",
    "print(np.ones(3)*4)\n",
    "\n",
    "## Create evenly spaced vector\n",
    "### Example use case: when you have Y values for a plot but need to generate X values\n",
    "### *** Includes both start an end \n",
    "# np.arange(start, end(not included), step size)\n",
    "# np.linspace(start, end(included), number_of_points)\n",
    "print(np.linspace(0, 10, 5))\n",
    "print(np.linspace(1900, 2000, 11))"
   ]
  },
  {
   "cell_type": "markdown",
   "id": "c27ce82a-5717-4e9a-8f3b-9363a1a35230",
   "metadata": {},
   "source": [
    "#### Create an identify matrix"
   ]
  },
  {
   "cell_type": "code",
   "execution_count": 6,
   "id": "dafd5c89-1533-4b27-a52f-06377a431c9f",
   "metadata": {},
   "outputs": [
    {
     "data": {
      "text/plain": [
       "array([[1., 0., 0.],\n",
       "       [0., 1., 0.],\n",
       "       [0., 0., 1.]])"
      ]
     },
     "execution_count": 6,
     "metadata": {},
     "output_type": "execute_result"
    }
   ],
   "source": [
    "np.eye(3)"
   ]
  },
  {
   "cell_type": "markdown",
   "id": "fd4e9ed2-0568-4a78-910a-25a054285196",
   "metadata": {},
   "source": [
    "#### Creating an empty array"
   ]
  },
  {
   "cell_type": "code",
   "execution_count": 7,
   "id": "a1596649-7077-4398-abda-a77e8b8c8601",
   "metadata": {},
   "outputs": [
    {
     "data": {
      "text/plain": [
       "array([[4.9e-324, 9.9e-324, 1.5e-323],\n",
       "       [4.9e-324, 9.9e-324, 1.5e-323]])"
      ]
     },
     "execution_count": 7,
     "metadata": {},
     "output_type": "execute_result"
    }
   ],
   "source": [
    "np.empty((2,3))"
   ]
  },
  {
   "cell_type": "markdown",
   "id": "f82c4be5-b542-4af7-a415-72e7fb8e1bc8",
   "metadata": {},
   "source": [
    "#### Creating Random Numbers\n",
    "https://docs.scipy.org/doc/numpy-1.14.0/reference/routines.random.html"
   ]
  },
  {
   "cell_type": "code",
   "execution_count": 8,
   "id": "f2ca65d7-6f4f-4b62-a869-faf0e630ba94",
   "metadata": {},
   "outputs": [
    {
     "name": "stdout",
     "output_type": "stream",
     "text": [
      "[0.82381461 0.08481409 0.24901753]\n",
      "[[0.98388329 0.69364026 0.68804098]\n",
      " [0.15836186 0.61717897 0.37239912]\n",
      " [0.06996152 0.53067113 0.48564033]]\n",
      "[0.37579885 1.01775925 0.48686442]\n",
      "[[-0.45121331 -0.28814867  0.26173505]\n",
      " [-1.75966337  1.28575948  0.64130561]\n",
      " [-0.90438864 -0.70048992 -0.96333942]]\n",
      "66\n",
      "[49  6 38 44 80]\n"
     ]
    }
   ],
   "source": [
    "# Uniform distribution \n",
    "print(np.random.rand(3))\n",
    "print(np.random.rand(3,3))\n",
    "\n",
    "# Normal distribution\n",
    "print(np.random.randn(3))\n",
    "print(np.random.randn(3,3))\n",
    "\n",
    "\n",
    "# Random integers\n",
    "# np.random.randint(start, end(not_included), size)\n",
    "\n",
    "print(np.random.randint(1,101))\n",
    "print(np.random.randint(1,101,5))"
   ]
  },
  {
   "cell_type": "markdown",
   "id": "51f852d1-e0c8-481c-9cd7-0e28ae314229",
   "metadata": {},
   "source": [
    "#### Reshaping arrays"
   ]
  },
  {
   "cell_type": "code",
   "execution_count": 9,
   "id": "f37d8011-4cd0-46f3-9261-5f775fb0d59a",
   "metadata": {},
   "outputs": [
    {
     "name": "stdout",
     "output_type": "stream",
     "text": [
      "[[1 2 3]\n",
      " [4 5 6]\n",
      " [7 8 9]]\n",
      "[[ 1  2  3  4]\n",
      " [ 5  6  7  8]\n",
      " [ 9 10 11 12]]\n"
     ]
    }
   ],
   "source": [
    "vector = np.arange(1,10)\n",
    "print(vector.reshape(3,3))\n",
    "\n",
    "vector = np.arange(1,13)\n",
    "print(vector.reshape(3,4))"
   ]
  },
  {
   "cell_type": "markdown",
   "id": "513d9b1b-58c9-4910-b705-b5a62cdc7ee3",
   "metadata": {},
   "source": [
    "#### Basic array operations"
   ]
  },
  {
   "cell_type": "code",
   "execution_count": 11,
   "id": "1bed8241-33a9-44ad-863e-fb0712f15cdd",
   "metadata": {},
   "outputs": [
    {
     "name": "stdout",
     "output_type": "stream",
     "text": [
      "[ 1 15 45 18 37 40 24 35 20  3 34 47  3  7  5 11  4 10 18 26 35  5 13  8\n",
      " 39]\n",
      "1\n",
      "47\n",
      "0\n",
      "11\n",
      "(25,)\n",
      "(5, 5)\n"
     ]
    }
   ],
   "source": [
    "vector = np.random.randint(1,50,25)\n",
    "print(vector)\n",
    "\n",
    "# Min\n",
    "print(vector.min())\n",
    "\n",
    "# Max\n",
    "print(vector.max())\n",
    "\n",
    "# get location of min value\n",
    "index = vector.argmin()\n",
    "print(index)\n",
    "\n",
    "# get location of max value\n",
    "index = vector.argmax()\n",
    "print(index)\n",
    "\n",
    "# get shape\n",
    "print(vector.shape)\n",
    "\n",
    "my_matrix = vector.reshape(5, 5)\n",
    "print(my_matrix.shape)"
   ]
  },
  {
   "cell_type": "markdown",
   "id": "892c5a06-c20a-46b0-9c21-1543ec8cea76",
   "metadata": {},
   "source": [
    "#### Indexing a 1-D array -- vector"
   ]
  },
  {
   "cell_type": "code",
   "execution_count": 12,
   "id": "47e1a40c-e898-4885-9cca-74e98250b558",
   "metadata": {},
   "outputs": [
    {
     "name": "stdout",
     "output_type": "stream",
     "text": [
      "3\n",
      "[3 4 5 6 7]\n",
      "[0 1 2 3 4]\n",
      "[5 6 7 8 9]\n",
      "[3 5 7]\n",
      "9\n"
     ]
    }
   ],
   "source": [
    "vector = np.array(range(10))\n",
    "# vector[index]\n",
    "# vector [start:end]\n",
    "# vector [:end]\n",
    "# vector [start:]\n",
    "# vector [start, end, step]\n",
    "\n",
    "print(vector[3])\n",
    "print(vector[3:8])\n",
    "print(vector[:5])\n",
    "print(vector[5:])\n",
    "print(vector[3:9:2])\n",
    "print(vector[-1])"
   ]
  },
  {
   "cell_type": "markdown",
   "id": "1d96357d-1923-42e1-8a29-6fa5f5bac9b0",
   "metadata": {},
   "source": [
    "#### Setting multiple values at once -- Broadcasting"
   ]
  },
  {
   "cell_type": "markdown",
   "id": "a169ac8c-395e-4713-b388-96531ae01d65",
   "metadata": {},
   "source": [
    "- There are two main features of NumPy arrays\n",
    "  - Broadcasting -- set multiple values at once\n",
    "  - Vectorization -- no need for explicit looping -- example, vector multiplication or squaring"
   ]
  },
  {
   "cell_type": "code",
   "execution_count": 13,
   "id": "55b8ede6-55b9-4ff3-80bb-492864e860d6",
   "metadata": {},
   "outputs": [],
   "source": [
    "vector[3:6] = 12"
   ]
  },
  {
   "cell_type": "code",
   "execution_count": 14,
   "id": "56e14985-efaf-423c-8dff-d4addb73872f",
   "metadata": {},
   "outputs": [
    {
     "name": "stdout",
     "output_type": "stream",
     "text": [
      "[ 0  1  2 12 12 12  6  7  8  9]\n"
     ]
    }
   ],
   "source": [
    "print(vector)"
   ]
  },
  {
   "cell_type": "markdown",
   "id": "7663f867-a76b-4455-8e6d-e8c3c22f56e4",
   "metadata": {},
   "source": [
    "- If you store a slice of an array in a new variable, changes in the new variable will be reflected in the original array. "
   ]
  },
  {
   "cell_type": "code",
   "execution_count": 15,
   "id": "f261fb66-d533-4f56-afab-36ae92b5e21d",
   "metadata": {},
   "outputs": [
    {
     "name": "stdout",
     "output_type": "stream",
     "text": [
      "[ 0  1  2 20 20 20 20  7  8  9]\n"
     ]
    }
   ],
   "source": [
    "vector = np.array(range(10))\n",
    "my_slice = vector[3:7]\n",
    "my_slice[:] = 20\n",
    "print(vector)"
   ]
  },
  {
   "cell_type": "markdown",
   "id": "20f24af2-15c1-4416-aace-b0670ba6815b",
   "metadata": {},
   "source": [
    "- Copy the array if you need a copy"
   ]
  },
  {
   "cell_type": "code",
   "execution_count": 16,
   "id": "62f845d7-bcd6-40dc-ba43-121523c0f111",
   "metadata": {},
   "outputs": [
    {
     "name": "stdout",
     "output_type": "stream",
     "text": [
      "[0 1 2 3 4 5 6 7 8 9]\n"
     ]
    }
   ],
   "source": [
    "vector = np.array(range(10))\n",
    "my_slice_copy = vector[3:7].copy()\n",
    "print(vector)"
   ]
  },
  {
   "cell_type": "markdown",
   "id": "a83c409b-2849-4507-97e9-88e1358db251",
   "metadata": {},
   "source": [
    "#### Indexing a 2-D array -- Matrix"
   ]
  },
  {
   "cell_type": "code",
   "execution_count": 17,
   "id": "8a58a253-865d-4119-aaeb-750ead90ea1b",
   "metadata": {},
   "outputs": [
    {
     "name": "stdout",
     "output_type": "stream",
     "text": [
      "[[1 2 3]\n",
      " [4 5 6]\n",
      " [7 8 9]]\n",
      "1\n",
      "1\n",
      "9\n",
      "9\n",
      "[3 6 9]\n",
      "[4 5 6]\n",
      "[[1 2 3]\n",
      " [4 5 6]]\n",
      "[[1 2 3]\n",
      " [4 5 6]]\n",
      "[[2 3]\n",
      " [5 6]\n",
      " [8 9]]\n"
     ]
    }
   ],
   "source": [
    "matrix = np.array(range(1,10)).reshape((3,3))\n",
    "print(matrix)\n",
    "\n",
    "print(matrix[0,0])\n",
    "print(matrix[0][0]) \n",
    "print(matrix[2,2])  \n",
    "print(matrix[2][2]) \n",
    "\n",
    "print(matrix[:,2]) # Grab the third column\n",
    "print(matrix[1,:]) # Grab the second row\n",
    "print(matrix[:2]) # grab the first two rows, all columns\n",
    "print(matrix[:2,:]) # grab the first two rows, all columns\n",
    "print(matrix[:,1:]) # grab all the rows, but columns starting from 1"
   ]
  },
  {
   "cell_type": "markdown",
   "id": "629b87ef-a1a9-46be-8e9a-3150db8d1b33",
   "metadata": {},
   "source": [
    "#### Conditional selection"
   ]
  },
  {
   "cell_type": "code",
   "execution_count": 18,
   "id": "df39e499-9dfc-4676-a0f6-d303a51336ea",
   "metadata": {},
   "outputs": [
    {
     "name": "stdout",
     "output_type": "stream",
     "text": [
      "[3 4 5 6 7 8 9]\n",
      "[0 1 2 3 4 5 6 7]\n",
      "[3 4 5 6]\n",
      "[2 3 4 5 6 7]\n"
     ]
    }
   ],
   "source": [
    "vector = np.arange(10)\n",
    "gt2 = vector > 2 # create condition\n",
    "lt8 = vector < 8 # create condition\n",
    "\n",
    "selected_gt2 = vector[gt2] # apply condition to select\n",
    "selected_lt8 = vector[lt8] # apply condition to select\n",
    "\n",
    "print(vector[vector>2])\n",
    "print(vector[vector<8])\n",
    "\n",
    "cond = (vector>2) & (vector<7)\n",
    "print(vector[cond])\n",
    "\n",
    "cond = (vector>=2) & (vector<=7)\n",
    "print(vector[cond])"
   ]
  },
  {
   "cell_type": "markdown",
   "id": "7c12edcc-679a-41ea-a91e-5c722cf700d2",
   "metadata": {},
   "source": [
    "#### Array operations -- Basic"
   ]
  },
  {
   "cell_type": "code",
   "execution_count": 20,
   "id": "01fd68d5-6827-4d8b-9ca8-7c6340e586f9",
   "metadata": {},
   "outputs": [
    {
     "name": "stdout",
     "output_type": "stream",
     "text": [
      "[ 0  2  4  6  8 10 12 14 16 18]\n",
      "[0 0 0 0 0 0 0 0 0 0]\n",
      "[ 0  1  4  9 16 25 36 49 64 81]\n",
      "[nan  1.  1.  1.  1.  1.  1.  1.  1.  1.]\n",
      "[10 11 12 13 14 15 16 17 18 19]\n",
      "[-10  -9  -8  -7  -6  -5  -4  -3  -2  -1]\n",
      "[ 0 10 20 30 40 50 60 70 80 90]\n",
      "[0.  0.1 0.2 0.3 0.4 0.5 0.6 0.7 0.8 0.9]\n"
     ]
    },
    {
     "name": "stderr",
     "output_type": "stream",
     "text": [
      "/tmp/ipykernel_14672/1419821903.py:6: RuntimeWarning: invalid value encountered in divide\n",
      "  print(vector / vector)# problem!!! return `nan`\n"
     ]
    }
   ],
   "source": [
    "vector = np.arange(10)\n",
    "\n",
    "print(vector + vector)\n",
    "print(vector - vector)\n",
    "print(vector * vector)\n",
    "print(vector / vector)# problem!!! return `nan` \n",
    "print(vector + 10)\n",
    "print(vector - 10)\n",
    "print(vector * 10)\n",
    "print(vector / 10)"
   ]
  },
  {
   "cell_type": "markdown",
   "id": "791a702a-c1d4-4f33-80d4-7624681fdfef",
   "metadata": {},
   "source": [
    "#### Array operations -- Advanced"
   ]
  },
  {
   "cell_type": "markdown",
   "id": "15a4ba09-2916-4e9a-b8c9-3196f723e9a6",
   "metadata": {},
   "source": [
    "- Ref: https://docs.scipy.org/doc/numpy/reference/ufuncs.html#math-operations\n",
    "- https://stackoverflow.com/questions/25773245/ambiguity-in-pandas-dataframe-numpy-array-axis-definition/43413031"
   ]
  },
  {
   "cell_type": "code",
   "execution_count": 22,
   "id": "d5b084cf-ed4a-48e6-a325-03c26c61fdcb",
   "metadata": {},
   "outputs": [
    {
     "name": "stdout",
     "output_type": "stream",
     "text": [
      "9\n",
      "0\n",
      "[0.         1.         1.41421356 1.73205081 2.         2.23606798\n",
      " 2.44948974 2.64575131 2.82842712 3.        ]\n",
      "[      -inf 0.         0.69314718 1.09861229 1.38629436 1.60943791\n",
      " 1.79175947 1.94591015 2.07944154 2.19722458]\n",
      "5\n",
      "[ 1.22464680e-16 -2.44929360e-16  3.67394040e-16 -4.89858720e-16\n",
      "  6.12323400e-16 -7.34788079e-16  8.57252759e-16 -9.79717439e-16\n",
      "  1.10218212e-15 -1.22464680e-15]\n",
      "[0.00000000e+00 7.07106781e-01 1.00000000e+00 7.07106781e-01\n",
      " 1.22464680e-16]\n",
      "[[0.028 0.156 0.357 0.297 0.111]\n",
      " [0.275 0.953 0.304 0.787 0.974]\n",
      " [0.596 0.877 0.668 0.991 0.806]\n",
      " [0.659 0.858 0.866 0.557 0.618]\n",
      " [0.568 0.289 0.13  0.348 0.15 ]]\n",
      "[[0.029 0.157 0.358 0.298 0.111]\n",
      " [0.275 0.953 0.305 0.788 0.975]\n",
      " [0.597 0.877 0.668 0.991 0.806]\n",
      " [0.659 0.859 0.867 0.558 0.619]\n",
      " [0.568 0.289 0.131 0.349 0.151]]\n",
      "[[0.029 0.157 0.358 0.298 0.112]\n",
      " [0.276 0.954 0.305 0.788 0.975]\n",
      " [0.597 0.878 0.669 0.992 0.807]\n",
      " [0.66  0.859 0.867 0.558 0.619]\n",
      " [0.569 0.29  0.131 0.349 0.151]]\n",
      "[ 6 15 24]\n",
      "[12 15 18]\n",
      "[ 1  3  6 10 15 21 28 36 45]\n",
      "[     1      2      6     24    120    720   5040  40320 362880]\n",
      "[1 4 7]\n",
      "[1 2 3]\n",
      "[3 6 9]\n",
      "[7 8 9]\n",
      "[1 2 3]\n"
     ]
    },
    {
     "name": "stderr",
     "output_type": "stream",
     "text": [
      "/tmp/ipykernel_14672/1855919553.py:5: RuntimeWarning: divide by zero encountered in log\n",
      "  print(np.log(vector))\n"
     ]
    }
   ],
   "source": [
    "vector = np.arange(10)\n",
    "print(np.max(vector))\n",
    "print(np.min(vector))\n",
    "print(np.sqrt(vector))\n",
    "print(np.log(vector))\n",
    "\n",
    "print(sum(vector<5))\n",
    "import math\n",
    "vector = np.arange(1,11) * math.pi \n",
    "print(np.sin(vector))\n",
    "vector = np.arange(0,math.pi+math.pi/4,math.pi/4)\n",
    "print(np.sin(vector))\n",
    "\n",
    "matrix = np.random.rand(5,5)\n",
    "print(np.floor(matrix*1000)/1000)\n",
    "print(np.round(matrix*1000)/1000)\n",
    "print(np.ceil(matrix*1000)/1000)\n",
    "\n",
    "matrix = np.arange(1,10).reshape(3,3)\n",
    "print(matrix.sum(axis=1)) \n",
    "print(matrix.sum(axis=0)) \n",
    "print(matrix.cumsum()) \n",
    "print(matrix.cumprod()) \n",
    "\n",
    "print(matrix.min(axis=1)) \n",
    "print(matrix.min(axis=0)) \n",
    "\n",
    "print(matrix.max(axis=1)) \n",
    "print(matrix.max(axis=0)) \n",
    "\n",
    "matrix = np.array([1,2,3]*3).reshape(3,3)\n",
    "print(np.unique(matrix.reshape(3,3)))"
   ]
  },
  {
   "cell_type": "markdown",
   "id": "588ca85e-5754-41a6-85f4-80c04e8c1b18",
   "metadata": {},
   "source": [
    "## PANDAS"
   ]
  },
  {
   "cell_type": "markdown",
   "id": "ab62239d-f134-40a6-8980-88cebc241a0d",
   "metadata": {},
   "source": [
    "Refer - https://mkzia.github.io/eas503-notes/np_pd/np_pd.html"
   ]
  },
  {
   "cell_type": "markdown",
   "id": "ca443fc5-2953-4bf2-a669-40175b1d1dba",
   "metadata": {},
   "source": [
    "## MACHINE LEARNING"
   ]
  },
  {
   "cell_type": "markdown",
   "id": "47c6e900-330b-432a-99fb-b6b65642f781",
   "metadata": {},
   "source": [
    "Refer - https://mkzia.github.io/eas503-notes/machine_learning.html"
   ]
  }
 ],
 "metadata": {
  "kernelspec": {
   "display_name": "Python 3 (ipykernel)",
   "language": "python",
   "name": "python3"
  },
  "language_info": {
   "codemirror_mode": {
    "name": "ipython",
    "version": 3
   },
   "file_extension": ".py",
   "mimetype": "text/x-python",
   "name": "python",
   "nbconvert_exporter": "python",
   "pygments_lexer": "ipython3",
   "version": "3.10.11"
  }
 },
 "nbformat": 4,
 "nbformat_minor": 5
}
